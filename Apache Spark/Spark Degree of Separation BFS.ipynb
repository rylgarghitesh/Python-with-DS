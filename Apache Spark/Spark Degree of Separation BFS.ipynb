{
 "cells": [
  {
   "cell_type": "code",
   "execution_count": 1,
   "id": "746dabdb",
   "metadata": {},
   "outputs": [
    {
     "name": "stderr",
     "output_type": "stream",
     "text": [
      "Setting default log level to \"WARN\".\n",
      "To adjust logging level use sc.setLogLevel(newLevel). For SparkR, use setLogLevel(newLevel).\n",
      "23/06/18 19:30:50 WARN NativeCodeLoader: Unable to load native-hadoop library for your platform... using builtin-java classes where applicable\n"
     ]
    }
   ],
   "source": [
    "from pyspark import SparkContext\n",
    "sc = SparkContext()"
   ]
  },
  {
   "cell_type": "code",
   "execution_count": 2,
   "id": "8fb72f33",
   "metadata": {},
   "outputs": [],
   "source": [
    "start_character_id = 5306 #Spider-man\n",
    "target_character_id = 14 #Adam"
   ]
  },
  {
   "cell_type": "code",
   "execution_count": 3,
   "id": "6e7df64f",
   "metadata": {},
   "outputs": [],
   "source": [
    "hit_counter = sc.accumulator(0)"
   ]
  },
  {
   "cell_type": "code",
   "execution_count": 16,
   "id": "85206c0a",
   "metadata": {},
   "outputs": [],
   "source": [
    "def convert_to_bfs(line):\n",
    "    fields = line.split()\n",
    "    hero_id = int(fields[0])\n",
    "    conns = []\n",
    "    \n",
    "    for con in fields[1:]:\n",
    "        conns.append(int(con))\n",
    "        \n",
    "    color = \"WHITE\"\n",
    "    dist = 9999\n",
    "    \n",
    "    if(hero_id == start_character_id):\n",
    "        color = \"GRAY\"\n",
    "        dist = 0\n",
    "        \n",
    "    return hero_id, (conns, dist, color)"
   ]
  },
  {
   "cell_type": "code",
   "execution_count": 14,
   "id": "a747e692",
   "metadata": {},
   "outputs": [],
   "source": [
    "def create_starting_rdd():\n",
    "    input_file = sc.textFile(\"Marvel+Graph\")\n",
    "    return input_file.map(convert_to_bfs)"
   ]
  },
  {
   "cell_type": "code",
   "execution_count": 29,
   "id": "4e606e33",
   "metadata": {},
   "outputs": [],
   "source": [
    "def bfs_map(node):\n",
    "    char_id = node[0]\n",
    "    data = node[1]\n",
    "    \n",
    "    conns = data[0]\n",
    "    dist = data[1]\n",
    "    col = data[2]\n",
    "    result = []\n",
    "    \n",
    "    if col == \"GRAY\":\n",
    "        for con in conns:\n",
    "            new_char_id = con\n",
    "            new_dist = dist + 1\n",
    "            new_color = \"GRAY\"\n",
    "            \n",
    "            if(target_character_id == con): \n",
    "                hit_counter.add(1)\n",
    "                \n",
    "            new_entry = (new_char_id, ([], new_dist, new_color))\n",
    "            result.append(new_entry)\n",
    "            \n",
    "        col = \"BLACK\"\n",
    "        \n",
    "    result.append((char_id, (conns, dist, col)))  \n",
    "    return result"
   ]
  },
  {
   "cell_type": "code",
   "execution_count": 30,
   "id": "423a39e8",
   "metadata": {},
   "outputs": [],
   "source": [
    "def bfs_reduce(data1, data2):\n",
    "    edge_1 = data1[0]\n",
    "    edge_2 = data2[0]\n",
    "    \n",
    "    dist_1 = data1[1]\n",
    "    dist_2 = data2[1]\n",
    "    \n",
    "    color_1 = data1[2]\n",
    "    color_2 = data2[2]\n",
    "    \n",
    "    dist = 9999\n",
    "    color = color_1\n",
    "    edges = []\n",
    "    \n",
    "    \n",
    "    if len(edge_1) > 0:\n",
    "        edges.extend(edge_1)\n",
    "    \n",
    "    if len(edge_2) > 0:\n",
    "        edges.extend(edge_2)\n",
    "    \n",
    "    if dist_1 < dist:\n",
    "        dist = dist_1\n",
    "    \n",
    "    if dist_2 < dist:\n",
    "        dist = dist_2        \n",
    "        \n",
    "    if (color_1 == 'WHITE' and (color_2 == 'GRAY' or color_2 == 'BLACK')):\n",
    "        color = color_2\n",
    "\n",
    "    if (color_1 == 'GRAY' and color_2 == 'BLACK'):\n",
    "        color = color_2\n",
    "\n",
    "    if (color_2 == 'WHITE' and (color_1 == 'GRAY' or color_1 == 'BLACK')):\n",
    "        color = color_1\n",
    "\n",
    "    if (color_2 == 'GRAY' and color_1 == 'BLACK'):\n",
    "        color = color_1\n",
    "    \n",
    "    return (edges, dist, color)"
   ]
  },
  {
   "cell_type": "markdown",
   "id": "786e0290",
   "metadata": {},
   "source": [
    "---main---"
   ]
  },
  {
   "cell_type": "code",
   "execution_count": 31,
   "id": "c97c850c",
   "metadata": {},
   "outputs": [
    {
     "name": "stdout",
     "output_type": "stream",
     "text": [
      "Running BFS itr#1\n",
      "Processing 8330 values\n",
      "Running BFS itr#2\n",
      "Processing 220615 values\n",
      "Hit target character 1 to diff directions\n"
     ]
    }
   ],
   "source": [
    "iteration_rdd = create_starting_rdd()\n",
    "for itr in range(0,10):\n",
    "    print (\"Running BFS itr#\" + str(itr+1))\n",
    "    mapped = iteration_rdd.flatMap(bfs_map)\n",
    "    \n",
    "    print (\"Processing \" + str(mapped.count()) + \" values\")\n",
    "    \n",
    "    if hit_counter.value > 0 :\n",
    "        print (\"Hit target character \" + str(hit_counter.value) + \" to diff directions\" )\n",
    "        break\n",
    "    \n",
    "    iteration_rdd = mapped.reduceByKey(bfs_reduce)"
   ]
  },
  {
   "cell_type": "code",
   "execution_count": 32,
   "id": "d111ee18",
   "metadata": {},
   "outputs": [
    {
     "name": "stdout",
     "output_type": "stream",
     "text": [
      "6589\n",
      "8330\n"
     ]
    }
   ],
   "source": [
    "iteration_rdd = create_starting_rdd()\n",
    "print(iteration_rdd.count())\n",
    "mapped = iteration_rdd.flatMap(bfs_map)\n",
    "print(mapped.count())\n",
    "mapped.reduceByKey()"
   ]
  },
  {
   "cell_type": "code",
   "execution_count": null,
   "id": "ad4afbc1",
   "metadata": {},
   "outputs": [],
   "source": []
  }
 ],
 "metadata": {
  "kernelspec": {
   "display_name": "Python 3 (ipykernel)",
   "language": "python",
   "name": "python3"
  },
  "language_info": {
   "codemirror_mode": {
    "name": "ipython",
    "version": 3
   },
   "file_extension": ".py",
   "mimetype": "text/x-python",
   "name": "python",
   "nbconvert_exporter": "python",
   "pygments_lexer": "ipython3",
   "version": "3.10.9"
  }
 },
 "nbformat": 4,
 "nbformat_minor": 5
}
