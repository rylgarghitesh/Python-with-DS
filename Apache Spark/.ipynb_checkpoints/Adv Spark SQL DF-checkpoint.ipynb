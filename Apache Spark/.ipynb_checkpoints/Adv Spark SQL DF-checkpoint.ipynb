{
 "cells": [
  {
   "cell_type": "code",
   "execution_count": 3,
   "id": "2eea7e0e",
   "metadata": {},
   "outputs": [],
   "source": [
    "from pyspark.sql import SparkSession, functions as func, Row\n",
    "from pyspark.sql.types import StructType, StructField, StringType, IntegerType, FloatType, LongType"
   ]
  },
  {
   "cell_type": "code",
   "execution_count": 4,
   "id": "23ec9014",
   "metadata": {},
   "outputs": [
    {
     "name": "stderr",
     "output_type": "stream",
     "text": [
      "Setting default log level to \"WARN\".\n",
      "To adjust logging level use sc.setLogLevel(newLevel). For SparkR, use setLogLevel(newLevel).\n",
      "23/06/17 21:22:15 WARN NativeCodeLoader: Unable to load native-hadoop library for your platform... using builtin-java classes where applicable\n"
     ]
    }
   ],
   "source": [
    "# Create a SparkSession\n",
    "spark = SparkSession.builder.appName(\"SparkSQL\").getOrCreate()"
   ]
  },
  {
   "cell_type": "code",
   "execution_count": 5,
   "id": "259fa1b1",
   "metadata": {},
   "outputs": [],
   "source": [
    "movie_schema = StructType([\n",
    "    StructField(\"uid\", IntegerType(), True),\n",
    "    StructField(\"mid\", IntegerType(), True),\n",
    "    StructField(\"rating\", IntegerType(), True),\n",
    "    StructField(\"timestamp\", LongType(), True)\n",
    "])"
   ]
  },
  {
   "cell_type": "code",
   "execution_count": 6,
   "id": "17aa29f7",
   "metadata": {},
   "outputs": [],
   "source": [
    "movieDf = spark.read.option(\"sep\", \"\\t\").schema(movie_schema).csv(\"ml-100k/u.data\")"
   ]
  },
  {
   "cell_type": "code",
   "execution_count": 32,
   "id": "a12dff78",
   "metadata": {},
   "outputs": [],
   "source": [
    "movie = movieDf.groupBy(\"mid\").count()"
   ]
  },
  {
   "cell_type": "code",
   "execution_count": 34,
   "id": "a00b0d07",
   "metadata": {},
   "outputs": [],
   "source": [
    "movie = movie.orderBy(func.desc(\"count\"))"
   ]
  },
  {
   "cell_type": "code",
   "execution_count": 35,
   "id": "cecc0eda",
   "metadata": {},
   "outputs": [
    {
     "name": "stdout",
     "output_type": "stream",
     "text": [
      "+---+-----+\n",
      "|mid|count|\n",
      "+---+-----+\n",
      "| 50|  583|\n",
      "|258|  509|\n",
      "|100|  508|\n",
      "|181|  507|\n",
      "|294|  485|\n",
      "+---+-----+\n",
      "only showing top 5 rows\n",
      "\n"
     ]
    }
   ],
   "source": [
    "movie.show(5)"
   ]
  },
  {
   "cell_type": "markdown",
   "id": "e12bd7a0",
   "metadata": {},
   "source": [
    "---------"
   ]
  },
  {
   "cell_type": "code",
   "execution_count": 10,
   "id": "14af50bf",
   "metadata": {},
   "outputs": [],
   "source": [
    "import codecs"
   ]
  },
  {
   "cell_type": "code",
   "execution_count": 11,
   "id": "ccaee766",
   "metadata": {},
   "outputs": [],
   "source": [
    "def load_movies():\n",
    "    movie_names = {}\n",
    "    with codecs.open(\"ml-100k/u.item\", 'r', encoding='ISO-8859-1') as file:\n",
    "        for line in file:\n",
    "            fields = line.split('|')\n",
    "            movie_names[int(fields[0])] = fields[1]\n",
    "    return movie_names"
   ]
  },
  {
   "cell_type": "code",
   "execution_count": 12,
   "id": "ee4b58a4",
   "metadata": {},
   "outputs": [],
   "source": [
    "movie_name = spark.sparkContext.broadcast(load_movies())"
   ]
  },
  {
   "cell_type": "code",
   "execution_count": 13,
   "id": "60ff8b64",
   "metadata": {},
   "outputs": [],
   "source": [
    "def lookup_name(mid):\n",
    "    return movie_name.value[mid]"
   ]
  },
  {
   "cell_type": "code",
   "execution_count": 16,
   "id": "8f2bb45f",
   "metadata": {},
   "outputs": [],
   "source": [
    "lookupUDF = func.udf(lookup_name)"
   ]
  },
  {
   "cell_type": "code",
   "execution_count": 18,
   "id": "6d6dc3d5",
   "metadata": {},
   "outputs": [],
   "source": [
    "movie_with_name = movie.withColumn(\"movie_title\", lookupUDF(func.col(\"mid\")) )"
   ]
  },
  {
   "cell_type": "code",
   "execution_count": 19,
   "id": "597289a9",
   "metadata": {},
   "outputs": [
    {
     "name": "stderr",
     "output_type": "stream",
     "text": [
      "\r",
      "[Stage 10:>                                                         (0 + 1) / 1]\r"
     ]
    },
    {
     "name": "stdout",
     "output_type": "stream",
     "text": [
      "+---+-----+-----------------------------+\n",
      "|mid|count|movie_title                  |\n",
      "+---+-----+-----------------------------+\n",
      "|50 |583  |Star Wars (1977)             |\n",
      "|258|509  |Contact (1997)               |\n",
      "|100|508  |Fargo (1996)                 |\n",
      "|181|507  |Return of the Jedi (1983)    |\n",
      "|294|485  |Liar Liar (1997)             |\n",
      "|286|481  |English Patient, The (1996)  |\n",
      "|288|478  |Scream (1996)                |\n",
      "|1  |452  |Toy Story (1995)             |\n",
      "|300|431  |Air Force One (1997)         |\n",
      "|121|429  |Independence Day (ID4) (1996)|\n",
      "+---+-----+-----------------------------+\n",
      "only showing top 10 rows\n",
      "\n"
     ]
    },
    {
     "name": "stderr",
     "output_type": "stream",
     "text": [
      "\r",
      "                                                                                \r"
     ]
    }
   ],
   "source": [
    "movie_with_name.show(10, False)"
   ]
  },
  {
   "cell_type": "code",
   "execution_count": 1,
   "id": "a8f07492",
   "metadata": {},
   "outputs": [
    {
     "name": "stdout",
     "output_type": "stream",
     "text": [
      "1|Toy Story (1995)|01-Jan-1995||http://us.imdb.com/M/title-exact?Toy%20Story%20(1995)|0|0|0|1|1|1|0|0|0|0|0|0|0|0|0|0|0|0|0\r\n",
      "2|GoldenEye (1995)|01-Jan-1995||http://us.imdb.com/M/title-exact?GoldenEye%20(1995)|0|1|1|0|0|0|0|0|0|0|0|0|0|0|0|0|1|0|0\r\n",
      "3|Four Rooms (1995)|01-Jan-1995||http://us.imdb.com/M/title-exact?Four%20Rooms%20(1995)|0|0|0|0|0|0|0|0|0|0|0|0|0|0|0|0|1|0|0\r\n",
      "4|Get Shorty (1995)|01-Jan-1995||http://us.imdb.com/M/title-exact?Get%20Shorty%20(1995)|0|1|0|0|0|1|0|0|1|0|0|0|0|0|0|0|0|0|0\r\n",
      "5|Copycat (1995)|01-Jan-1995||http://us.imdb.com/M/title-exact?Copycat%20(1995)|0|0|0|0|0|0|1|0|1|0|0|0|0|0|0|0|1|0|0\r\n"
     ]
    }
   ],
   "source": [
    "!{\"head -n 5 ml-100k/u.item\"}"
   ]
  },
  {
   "cell_type": "markdown",
   "id": "2b597782",
   "metadata": {},
   "source": [
    "------------"
   ]
  },
  {
   "cell_type": "code",
   "execution_count": 108,
   "id": "9a41087c",
   "metadata": {},
   "outputs": [],
   "source": [
    "superhero_schema = StructType([\n",
    "    StructField(\"id\", IntegerType(), True),\n",
    "    StructField(\"name\", StringType(), True),\n",
    "])"
   ]
  },
  {
   "cell_type": "code",
   "execution_count": 109,
   "id": "fdc40bd9",
   "metadata": {},
   "outputs": [
    {
     "name": "stdout",
     "output_type": "stream",
     "text": [
      "1 \"24-HOUR MAN/EMMANUEL\"\r",
      "\r\n",
      "2 \"3-D MAN/CHARLES CHAN\"\r",
      "\r\n",
      "3 \"4-D MAN/MERCURIO\"\r",
      "\r\n",
      "4 \"8-BALL/\"\r",
      "\r\n",
      "5 \"A\"\r",
      "\r\n"
     ]
    }
   ],
   "source": [
    "!{\"head -n 5 Marvel+Names\"}"
   ]
  },
  {
   "cell_type": "code",
   "execution_count": 110,
   "id": "49e74e69",
   "metadata": {},
   "outputs": [
    {
     "name": "stdout",
     "output_type": "stream",
     "text": [
      "5988 748 1722 3752 4655 5743 1872 3413 5527 6368 6085 4319 4728 1636 2397 3364 4001 1614 1819 1585 732 2660 3952 2507 3891 2070 2239 2602 612 1352 5447 4548 1596 5488 1605 5517 11 479 2554 2043 17 865 4292 6312 473 534 1479 6375 4456 \r",
      "\r\n",
      "5989 4080 4264 4446 3779 2430 2297 6169 3530 3272 4282 6432 2548 4140 185 105 3878 2429 1334 4595 2767 3956 3877 4776 4946 3407 128 269 5775 5121 481 5516 4758 4053 1044 1602 3889 1535 6038 533 3986 \r",
      "\r\n",
      "5982 217 595 1194 3308 2940 1815 794 1503 5197 859 5096 6039 2664 651 2244 528 284 1449 1097 1172 1092 108 3405 5204 387 4607 4545 3705 4930 1805 4712 4404 247 4754 4427 1845 536 5795 5978 533 3984 6056 \r",
      "\r\n",
      "5983 1165 3836 4361 1282 716 4289 4646 6300 5084 2397 4454 1913 5861 5485 \r",
      "\r\n",
      "5980 2731 3712 1587 6084 2472 2546 6313 875 859 323 2664 1469 522 2506 2919 2423 3624 5736 5046 1787 5776 3245 3840 2399 \r",
      "\r\n"
     ]
    }
   ],
   "source": [
    "!{\"head -n 5 Marvel+Graph\"}"
   ]
  },
  {
   "cell_type": "code",
   "execution_count": 111,
   "id": "e9ecea90",
   "metadata": {},
   "outputs": [
    {
     "name": "stdout",
     "output_type": "stream",
     "text": [
      "+---+--------------------+\n",
      "| id|                name|\n",
      "+---+--------------------+\n",
      "|  1|24-HOUR MAN/EMMANUEL|\n",
      "|  2|3-D MAN/CHARLES CHAN|\n",
      "|  3|    4-D MAN/MERCURIO|\n",
      "|  4|             8-BALL/|\n",
      "|  5|                   A|\n",
      "+---+--------------------+\n",
      "only showing top 5 rows\n",
      "\n"
     ]
    }
   ],
   "source": [
    "names = spark.read.schema(superhero_schema).option(\"sep\", \" \").csv(\"Marvel+Names\")\n",
    "names.show(5)"
   ]
  },
  {
   "cell_type": "code",
   "execution_count": 112,
   "id": "90eb726e",
   "metadata": {},
   "outputs": [
    {
     "name": "stdout",
     "output_type": "stream",
     "text": [
      "+--------------------+\n",
      "|               value|\n",
      "+--------------------+\n",
      "|5988 748 1722 375...|\n",
      "|5989 4080 4264 44...|\n",
      "|5982 217 595 1194...|\n",
      "|5983 1165 3836 43...|\n",
      "|5980 2731 3712 15...|\n",
      "+--------------------+\n",
      "only showing top 5 rows\n",
      "\n"
     ]
    }
   ],
   "source": [
    "lines = spark.read.option(\"sep\",\" \").text(\"Marvel+Graph\")\n",
    "lines.show(5)"
   ]
  },
  {
   "cell_type": "code",
   "execution_count": 151,
   "id": "a305cefb",
   "metadata": {},
   "outputs": [
    {
     "name": "stdout",
     "output_type": "stream",
     "text": [
      "+--------------------+----+\n",
      "|               value|  id|\n",
      "+--------------------+----+\n",
      "|1 1999 6471 6463 ...|   1|\n",
      "|10 3716 1496 3712...|  10|\n",
      "|100 5432 3554 311...| 100|\n",
      "|1000 1165 4898 15...|1000|\n",
      "|1001 199 2293 503...|1001|\n",
      "+--------------------+----+\n",
      "only showing top 5 rows\n",
      "\n"
     ]
    }
   ],
   "source": [
    "lines_id = lines.withColumn(\"id\", func.split(func.col(\"value\"), \" \")[0]).sort(\"id\")\n",
    "lines_id.show(5)"
   ]
  },
  {
   "cell_type": "code",
   "execution_count": 149,
   "id": "746aaae2",
   "metadata": {},
   "outputs": [
    {
     "name": "stdout",
     "output_type": "stream",
     "text": [
      "+--------------------+----+----+\n",
      "|               value|  id|conn|\n",
      "+--------------------+----+----+\n",
      "|1 1999 6471 6463 ...|   1|   6|\n",
      "|10 3716 1496 3712...|  10| 188|\n",
      "|100 5432 3554 311...| 100|   8|\n",
      "|1000 1165 4898 15...|1000|  31|\n",
      "|1001 199 2293 503...|1001|  41|\n",
      "+--------------------+----+----+\n",
      "only showing top 5 rows\n",
      "\n",
      "6589\n"
     ]
    }
   ],
   "source": [
    "lines_conn = lines_id.withColumn(\"conn\", func.size(func.split(func.col(\"value\"), \" \"))-1)\n",
    "lines_conn.show(5)\n",
    "\n",
    "print(lines_conn.count())"
   ]
  },
  {
   "cell_type": "code",
   "execution_count": 217,
   "id": "524fd7c1",
   "metadata": {},
   "outputs": [
    {
     "name": "stdout",
     "output_type": "stream",
     "text": [
      "+----+----+\n",
      "|  id|conn|\n",
      "+----+----+\n",
      "|   1|   6|\n",
      "|  10| 188|\n",
      "| 100|   8|\n",
      "|1000|  31|\n",
      "|1001|  41|\n",
      "+----+----+\n",
      "only showing top 5 rows\n",
      "\n",
      "6486\n"
     ]
    }
   ],
   "source": [
    "lines_group = lines_conn.groupBy(\"id\").agg(func.sum(\"conn\").alias(\"conn\")).sort(\"id\")\n",
    "lines_group.show(5)\n",
    "print(lines_group.count())"
   ]
  },
  {
   "cell_type": "code",
   "execution_count": 218,
   "id": "17ee4437",
   "metadata": {},
   "outputs": [
    {
     "name": "stdout",
     "output_type": "stream",
     "text": [
      "+----+----+\n",
      "|  id|conn|\n",
      "+----+----+\n",
      "| 859|1937|\n",
      "|5306|1745|\n",
      "|2664|1532|\n",
      "|5716|1429|\n",
      "|6306|1397|\n",
      "+----+----+\n",
      "only showing top 5 rows\n",
      "\n"
     ]
    }
   ],
   "source": [
    "most_popular = lines_group.sort(func.col(\"conn\").desc())\n",
    "most_popular.show(5)"
   ]
  },
  {
   "cell_type": "code",
   "execution_count": 219,
   "id": "7ce86b1e",
   "metadata": {},
   "outputs": [
    {
     "data": {
      "text/plain": [
       "'859'"
      ]
     },
     "execution_count": 219,
     "metadata": {},
     "output_type": "execute_result"
    }
   ],
   "source": [
    "most_popular.first().id"
   ]
  },
  {
   "cell_type": "code",
   "execution_count": 220,
   "id": "60b90be6",
   "metadata": {},
   "outputs": [
    {
     "data": {
      "text/plain": [
       "Row(name='CAPTAIN AMERICA')"
      ]
     },
     "execution_count": 220,
     "metadata": {},
     "output_type": "execute_result"
    }
   ],
   "source": [
    "most_popular_name = names.filter(func.col(\"id\") == most_popular.first().id).select(\"name\")\n",
    "most_popular_name.first()"
   ]
  },
  {
   "cell_type": "code",
   "execution_count": 229,
   "id": "2698f07d",
   "metadata": {},
   "outputs": [
    {
     "name": "stdout",
     "output_type": "stream",
     "text": [
      "+----+----+\n",
      "|  id|conn|\n",
      "+----+----+\n",
      "|1089|   1|\n",
      "|1408|   1|\n",
      "|1841|   1|\n",
      "|2117|   1|\n",
      "|2139|   1|\n",
      "|2911|   1|\n",
      "|3014|   1|\n",
      "|3298|   1|\n",
      "|3489|   1|\n",
      "|3490|   1|\n",
      "|4517|   1|\n",
      "|4602|   1|\n",
      "| 467|   1|\n",
      "|4784|   1|\n",
      "|4945|   1|\n",
      "|5028|   1|\n",
      "| 577|   1|\n",
      "|6411|   1|\n",
      "| 835|   1|\n",
      "+----+----+\n",
      "\n"
     ]
    }
   ],
   "source": [
    "min_conn = lines_group.agg(func.min(\"conn\")).first()[0]\n",
    "most_obscure = lines_group.filter(func.col(\"conn\") == min_conn)\n",
    "most_obscure.show()"
   ]
  },
  {
   "cell_type": "code",
   "execution_count": 231,
   "id": "1f6bbf61",
   "metadata": {},
   "outputs": [
    {
     "name": "stdout",
     "output_type": "stream",
     "text": [
      "+----+----+--------------------+\n",
      "|  id|conn|                name|\n",
      "+----+----+--------------------+\n",
      "| 467|   1|        BERSERKER II|\n",
      "| 577|   1|              BLARE/|\n",
      "|3490|   1|MARVEL BOY II/MARTIN|\n",
      "|3489|   1|MARVEL BOY/MARTIN BU|\n",
      "|2139|   1|      GIURESCU, RADU|\n",
      "|1089|   1|       CLUMSY FOULUP|\n",
      "|1841|   1|              FENRIS|\n",
      "|4517|   1|              RANDAK|\n",
      "|5028|   1|           SHARKSKIN|\n",
      "| 835|   1|     CALLAHAN, DANNY|\n",
      "|1408|   1|         DEATHCHARGE|\n",
      "|4784|   1|                RUNE|\n",
      "|4945|   1|         SEA LEOPARD|\n",
      "|4602|   1|         RED WOLF II|\n",
      "|6411|   1|              ZANTOR|\n",
      "|3014|   1|JOHNSON, LYNDON BAIN|\n",
      "|3298|   1|          LUNATIK II|\n",
      "|2911|   1|                KULL|\n",
      "|2117|   1|GERVASE, LADY ALYSSA|\n",
      "+----+----+--------------------+\n",
      "\n"
     ]
    }
   ],
   "source": [
    "name_obscure = most_obscure.join(names, \"id\")\n",
    "name_obscure.show(50)"
   ]
  },
  {
   "cell_type": "code",
   "execution_count": null,
   "id": "6917e79a",
   "metadata": {},
   "outputs": [],
   "source": []
  },
  {
   "cell_type": "code",
   "execution_count": null,
   "id": "2556cad9",
   "metadata": {},
   "outputs": [],
   "source": []
  }
 ],
 "metadata": {
  "kernelspec": {
   "display_name": "Python 3 (ipykernel)",
   "language": "python",
   "name": "python3"
  },
  "language_info": {
   "codemirror_mode": {
    "name": "ipython",
    "version": 3
   },
   "file_extension": ".py",
   "mimetype": "text/x-python",
   "name": "python",
   "nbconvert_exporter": "python",
   "pygments_lexer": "ipython3",
   "version": "3.10.9"
  }
 },
 "nbformat": 4,
 "nbformat_minor": 5
}
