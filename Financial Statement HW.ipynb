{
 "cells": [
  {
   "cell_type": "code",
   "execution_count": 1,
   "metadata": {},
   "outputs": [],
   "source": [
    "#Data \n",
    "revenue = [14574.49, 7606.46, 8611.41, 9175.41, 8058.65, 8105.44, 11496.28, 9766.09, 10305.32, 14379.96, 10713.97, 15433.50]\n",
    "expenses = [12051.82, 5695.07, 12319.20, 12089.72, 8658.57, 840.20, 3285.73, 5821.12, 6976.93, 16618.61, 10054.37, 3803.96]"
   ]
  },
  {
   "cell_type": "code",
   "execution_count": 45,
   "metadata": {},
   "outputs": [
    {
     "name": "stdout",
     "output_type": "stream",
     "text": [
      "[2522.67, 1911.39, -3707.79, -2914.31, -599.92, 7265.24, 8210.55, 3944.97, 3328.39, -2238.65, 659.6, 11629.54]\n"
     ]
    }
   ],
   "source": [
    "profit = [round(revenue[i] - expenses[i],2) for i  in range(len(revenue))]\n",
    "print(profit)"
   ]
  },
  {
   "cell_type": "code",
   "execution_count": 46,
   "metadata": {},
   "outputs": [
    {
     "name": "stdout",
     "output_type": "stream",
     "text": [
      "[756.8, 573.42, -1112.34, -874.29, -179.98, 2179.57, 2463.16, 1183.49, 998.52, -671.6, 197.88, 3488.86]\n"
     ]
    }
   ],
   "source": [
    "tax = [round(profit[i]*0.30,2) for i  in range(len(profit))]\n",
    "print(tax)"
   ]
  },
  {
   "cell_type": "code",
   "execution_count": 49,
   "metadata": {},
   "outputs": [
    {
     "name": "stdout",
     "output_type": "stream",
     "text": [
      "[1765.87, 1337.97, -2595.45, -2040.02, -419.94, 5085.67, 5747.39, 2761.48, 2329.87, -1567.05, 461.72, 8140.68]\n"
     ]
    }
   ],
   "source": [
    "profit_after_tax = [round(profit[i] - tax[i],2) for i  in range(len(profit))]\n",
    "print(profit_after_tax)"
   ]
  },
  {
   "cell_type": "code",
   "execution_count": 55,
   "metadata": {},
   "outputs": [
    {
     "name": "stdout",
     "output_type": "stream",
     "text": [
      "[12.12, 17.59, -30.14, -22.23, -5.21, 62.74, 49.99, 28.28, 22.61, -10.9, 4.31, 52.75]\n"
     ]
    }
   ],
   "source": [
    "profit_margin = [round((profit_after_tax[i]/revenue[i])*100,2) for i  in range(len(revenue))]\n",
    "print(profit_margin)"
   ]
  },
  {
   "cell_type": "code",
   "execution_count": 57,
   "metadata": {},
   "outputs": [
    {
     "name": "stdout",
     "output_type": "stream",
     "text": [
      "1750.6825000000001\n"
     ]
    }
   ],
   "source": [
    "mean_profit_after_tax = sum(profit_after_tax)/len(profit_after_tax)\n",
    "print(mean_profit_after_tax)"
   ]
  },
  {
   "cell_type": "code",
   "execution_count": 64,
   "metadata": {},
   "outputs": [
    {
     "name": "stdout",
     "output_type": "stream",
     "text": [
      "[1765.87, 5085.67, 5747.39, 2761.48, 2329.87, 8140.68]\n"
     ]
    }
   ],
   "source": [
    "good_month = []\n",
    "for i  in range(len(profit_after_tax)):\n",
    "    if profit_after_tax[i] > mean_profit_after_tax:\n",
    "        good_month.append(profit_after_tax[i])\n",
    "print(good_month)"
   ]
  },
  {
   "cell_type": "code",
   "execution_count": 66,
   "metadata": {},
   "outputs": [
    {
     "name": "stdout",
     "output_type": "stream",
     "text": [
      "[1337.97, -2595.45, -2040.02, -419.94, -1567.05, 461.72]\n"
     ]
    }
   ],
   "source": [
    "bad_month = []\n",
    "for i  in range(len(profit_after_tax)):\n",
    "    if profit_after_tax[i] < mean_profit_after_tax:\n",
    "       bad_month.append(profit_after_tax[i])\n",
    "print(bad_month)"
   ]
  },
  {
   "cell_type": "code",
   "execution_count": 68,
   "metadata": {},
   "outputs": [
    {
     "name": "stdout",
     "output_type": "stream",
     "text": [
      "[8140.68]\n"
     ]
    }
   ],
   "source": [
    "best_month = []\n",
    "for i  in range(len(profit_after_tax)):\n",
    "    if profit_after_tax[i] == max(profit_after_tax):\n",
    "       best_month.append(profit_after_tax[i])\n",
    "print(best_month)"
   ]
  },
  {
   "cell_type": "code",
   "execution_count": 69,
   "metadata": {},
   "outputs": [
    {
     "name": "stdout",
     "output_type": "stream",
     "text": [
      "[-2595.45]\n"
     ]
    }
   ],
   "source": [
    "worst_month = []\n",
    "for i  in range(len(profit_after_tax)):\n",
    "    if profit_after_tax[i] == min(profit_after_tax):\n",
    "       worst_month.append(profit_after_tax[i])\n",
    "print(worst_month)"
   ]
  },
  {
   "cell_type": "code",
   "execution_count": 80,
   "metadata": {},
   "outputs": [
    {
     "name": "stdout",
     "output_type": "stream",
     "text": [
      "[14574.49, 7606.46, 8611.41, 9175.41, 8058.65, 8105.44, 11496.28, 9766.09, 10305.32, 14379.96, 10713.97, 15433.5]\n",
      "[15, 8, 9, 9, 8, 8, 11, 10, 10, 14, 11, 15]\n"
     ]
    }
   ],
   "source": [
    "revenue_1000 = [int(round((revenue[i]/1000),0)) for i  in range(len(revenue))]\n",
    "print(revenue)\n",
    "print(revenue_1000)"
   ]
  },
  {
   "cell_type": "code",
   "execution_count": 92,
   "metadata": {},
   "outputs": [
    {
     "name": "stdout",
     "output_type": "stream",
     "text": [
      "[14574.49, 7606.46, 8611.41, 9175.41, 8058.65, 8105.44, 11496.28, 9766.09, 10305.32, 14379.96, 10713.97, 15433.5]\n",
      "[15, 8, 9, 9, 8, 8, 11, 10, 10, 14, 11, 15]\n"
     ]
    }
   ],
   "source": [
    "revenue_1000 = [int(round((revenue[i]),-3)/1000) for i  in range(len(revenue))]\n",
    "print(revenue)\n",
    "print(revenue_1000)"
   ]
  },
  {
   "cell_type": "code",
   "execution_count": 93,
   "metadata": {},
   "outputs": [
    {
     "name": "stdout",
     "output_type": "stream",
     "text": [
      "[12051.82, 5695.07, 12319.2, 12089.72, 8658.57, 840.2, 3285.73, 5821.12, 6976.93, 16618.61, 10054.37, 3803.96]\n",
      "[12, 6, 12, 12, 9, 1, 3, 6, 7, 17, 10, 4]\n"
     ]
    }
   ],
   "source": [
    "expenses_1000 = [int(round((expenses[i]),-3)/1000) for i  in range(len(expenses))]\n",
    "print(expenses)\n",
    "print(expenses_1000)"
   ]
  },
  {
   "cell_type": "code",
   "execution_count": 94,
   "metadata": {},
   "outputs": [
    {
     "name": "stdout",
     "output_type": "stream",
     "text": [
      "[2522.67, 1911.39, -3707.79, -2914.31, -599.92, 7265.24, 8210.55, 3944.97, 3328.39, -2238.65, 659.6, 11629.54]\n",
      "[3, 2, -4, -3, -1, 7, 8, 4, 3, -2, 1, 12]\n"
     ]
    }
   ],
   "source": [
    "profit_1000 = [int(round((profit[i]),-3)/1000) for i  in range(len(profit))]\n",
    "print(profit)\n",
    "print(profit_1000)"
   ]
  },
  {
   "cell_type": "code",
   "execution_count": 95,
   "metadata": {},
   "outputs": [
    {
     "name": "stdout",
     "output_type": "stream",
     "text": [
      "[1765.87, 1337.97, -2595.45, -2040.02, -419.94, 5085.67, 5747.39, 2761.48, 2329.87, -1567.05, 461.72, 8140.68]\n",
      "[2, 1, -3, -2, 0, 5, 6, 3, 2, -2, 0, 8]\n"
     ]
    }
   ],
   "source": [
    "profit_after_tax_1000 = [int(round((profit_after_tax[i]),-3)/1000) for i  in range(len(profit_after_tax))]\n",
    "print(profit_after_tax)\n",
    "print(profit_after_tax_1000)"
   ]
  },
  {
   "cell_type": "code",
   "execution_count": null,
   "metadata": {},
   "outputs": [],
   "source": []
  }
 ],
 "metadata": {
  "kernelspec": {
   "display_name": "Python 3 (ipykernel)",
   "language": "python",
   "name": "python3"
  },
  "language_info": {
   "codemirror_mode": {
    "name": "ipython",
    "version": 3
   },
   "file_extension": ".py",
   "mimetype": "text/x-python",
   "name": "python",
   "nbconvert_exporter": "python",
   "pygments_lexer": "ipython3",
   "version": "3.10.9"
  }
 },
 "nbformat": 4,
 "nbformat_minor": 1
}
