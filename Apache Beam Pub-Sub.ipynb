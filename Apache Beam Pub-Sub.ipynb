{
 "cells": [
  {
   "cell_type": "code",
   "execution_count": 1,
   "id": "a45c7ed4",
   "metadata": {},
   "outputs": [
    {
     "name": "stdout",
     "output_type": "stream",
     "text": [
      "Requirement already satisfied: google-cloud-pubsub in /Users/hitegarg/anaconda3/lib/python3.10/site-packages (2.17.1)\n",
      "Requirement already satisfied: proto-plus<2.0.0dev,>=1.22.0 in /Users/hitegarg/anaconda3/lib/python3.10/site-packages (from google-cloud-pubsub) (1.22.2)\n",
      "Requirement already satisfied: grpcio<2.0dev,>=1.51.3 in /Users/hitegarg/anaconda3/lib/python3.10/site-packages (from google-cloud-pubsub) (1.54.2)\n",
      "Requirement already satisfied: google-api-core[grpc]!=2.0.*,!=2.1.*,!=2.10.*,!=2.2.*,!=2.3.*,!=2.4.*,!=2.5.*,!=2.6.*,!=2.7.*,!=2.8.*,!=2.9.*,<3.0.0dev,>=1.34.0 in /Users/hitegarg/anaconda3/lib/python3.10/site-packages (from google-cloud-pubsub) (2.11.1)\n",
      "Requirement already satisfied: protobuf!=3.20.0,!=3.20.1,!=4.21.0,!=4.21.1,!=4.21.2,!=4.21.3,!=4.21.4,!=4.21.5,<5.0.0dev,>=3.19.5 in /Users/hitegarg/anaconda3/lib/python3.10/site-packages (from google-cloud-pubsub) (4.23.2)\n",
      "Requirement already satisfied: grpc-google-iam-v1<1.0.0dev,>=0.12.4 in /Users/hitegarg/anaconda3/lib/python3.10/site-packages (from google-cloud-pubsub) (0.12.6)\n",
      "Requirement already satisfied: grpcio-status>=1.33.2 in /Users/hitegarg/anaconda3/lib/python3.10/site-packages (from google-cloud-pubsub) (1.54.2)\n",
      "Requirement already satisfied: google-auth<3.0.dev0,>=2.14.1 in /Users/hitegarg/anaconda3/lib/python3.10/site-packages (from google-api-core[grpc]!=2.0.*,!=2.1.*,!=2.10.*,!=2.2.*,!=2.3.*,!=2.4.*,!=2.5.*,!=2.6.*,!=2.7.*,!=2.8.*,!=2.9.*,<3.0.0dev,>=1.34.0->google-cloud-pubsub) (2.20.0)\n",
      "Requirement already satisfied: googleapis-common-protos<2.0.dev0,>=1.56.2 in /Users/hitegarg/anaconda3/lib/python3.10/site-packages (from google-api-core[grpc]!=2.0.*,!=2.1.*,!=2.10.*,!=2.2.*,!=2.3.*,!=2.4.*,!=2.5.*,!=2.6.*,!=2.7.*,!=2.8.*,!=2.9.*,<3.0.0dev,>=1.34.0->google-cloud-pubsub) (1.59.1)\n",
      "Requirement already satisfied: requests<3.0.0.dev0,>=2.18.0 in /Users/hitegarg/anaconda3/lib/python3.10/site-packages (from google-api-core[grpc]!=2.0.*,!=2.1.*,!=2.10.*,!=2.2.*,!=2.3.*,!=2.4.*,!=2.5.*,!=2.6.*,!=2.7.*,!=2.8.*,!=2.9.*,<3.0.0dev,>=1.34.0->google-cloud-pubsub) (2.28.1)\n",
      "Requirement already satisfied: rsa<5,>=3.1.4 in /Users/hitegarg/anaconda3/lib/python3.10/site-packages (from google-auth<3.0.dev0,>=2.14.1->google-api-core[grpc]!=2.0.*,!=2.1.*,!=2.10.*,!=2.2.*,!=2.3.*,!=2.4.*,!=2.5.*,!=2.6.*,!=2.7.*,!=2.8.*,!=2.9.*,<3.0.0dev,>=1.34.0->google-cloud-pubsub) (4.9)\n",
      "Requirement already satisfied: six>=1.9.0 in /Users/hitegarg/anaconda3/lib/python3.10/site-packages (from google-auth<3.0.dev0,>=2.14.1->google-api-core[grpc]!=2.0.*,!=2.1.*,!=2.10.*,!=2.2.*,!=2.3.*,!=2.4.*,!=2.5.*,!=2.6.*,!=2.7.*,!=2.8.*,!=2.9.*,<3.0.0dev,>=1.34.0->google-cloud-pubsub) (1.16.0)\n",
      "Requirement already satisfied: pyasn1-modules>=0.2.1 in /Users/hitegarg/anaconda3/lib/python3.10/site-packages (from google-auth<3.0.dev0,>=2.14.1->google-api-core[grpc]!=2.0.*,!=2.1.*,!=2.10.*,!=2.2.*,!=2.3.*,!=2.4.*,!=2.5.*,!=2.6.*,!=2.7.*,!=2.8.*,!=2.9.*,<3.0.0dev,>=1.34.0->google-cloud-pubsub) (0.2.8)\n",
      "Requirement already satisfied: urllib3<2.0 in /Users/hitegarg/anaconda3/lib/python3.10/site-packages (from google-auth<3.0.dev0,>=2.14.1->google-api-core[grpc]!=2.0.*,!=2.1.*,!=2.10.*,!=2.2.*,!=2.3.*,!=2.4.*,!=2.5.*,!=2.6.*,!=2.7.*,!=2.8.*,!=2.9.*,<3.0.0dev,>=1.34.0->google-cloud-pubsub) (1.26.14)\n",
      "Requirement already satisfied: cachetools<6.0,>=2.0.0 in /Users/hitegarg/anaconda3/lib/python3.10/site-packages (from google-auth<3.0.dev0,>=2.14.1->google-api-core[grpc]!=2.0.*,!=2.1.*,!=2.10.*,!=2.2.*,!=2.3.*,!=2.4.*,!=2.5.*,!=2.6.*,!=2.7.*,!=2.8.*,!=2.9.*,<3.0.0dev,>=1.34.0->google-cloud-pubsub) (5.3.1)\n",
      "Requirement already satisfied: idna<4,>=2.5 in /Users/hitegarg/anaconda3/lib/python3.10/site-packages (from requests<3.0.0.dev0,>=2.18.0->google-api-core[grpc]!=2.0.*,!=2.1.*,!=2.10.*,!=2.2.*,!=2.3.*,!=2.4.*,!=2.5.*,!=2.6.*,!=2.7.*,!=2.8.*,!=2.9.*,<3.0.0dev,>=1.34.0->google-cloud-pubsub) (3.4)\n",
      "Requirement already satisfied: certifi>=2017.4.17 in /Users/hitegarg/anaconda3/lib/python3.10/site-packages (from requests<3.0.0.dev0,>=2.18.0->google-api-core[grpc]!=2.0.*,!=2.1.*,!=2.10.*,!=2.2.*,!=2.3.*,!=2.4.*,!=2.5.*,!=2.6.*,!=2.7.*,!=2.8.*,!=2.9.*,<3.0.0dev,>=1.34.0->google-cloud-pubsub) (2023.5.7)\n",
      "Requirement already satisfied: charset-normalizer<3,>=2 in /Users/hitegarg/anaconda3/lib/python3.10/site-packages (from requests<3.0.0.dev0,>=2.18.0->google-api-core[grpc]!=2.0.*,!=2.1.*,!=2.10.*,!=2.2.*,!=2.3.*,!=2.4.*,!=2.5.*,!=2.6.*,!=2.7.*,!=2.8.*,!=2.9.*,<3.0.0dev,>=1.34.0->google-cloud-pubsub) (2.0.4)\n",
      "Requirement already satisfied: pyasn1<0.5.0,>=0.4.6 in /Users/hitegarg/anaconda3/lib/python3.10/site-packages (from pyasn1-modules>=0.2.1->google-auth<3.0.dev0,>=2.14.1->google-api-core[grpc]!=2.0.*,!=2.1.*,!=2.10.*,!=2.2.*,!=2.3.*,!=2.4.*,!=2.5.*,!=2.6.*,!=2.7.*,!=2.8.*,!=2.9.*,<3.0.0dev,>=1.34.0->google-cloud-pubsub) (0.4.8)\n",
      "Note: you may need to restart the kernel to use updated packages.\n"
     ]
    }
   ],
   "source": [
    "pip install google-cloud-pubsub"
   ]
  },
  {
   "cell_type": "code",
   "execution_count": 2,
   "id": "55518a41",
   "metadata": {},
   "outputs": [],
   "source": [
    "import os\n",
    "import time\n",
    "from google.cloud import pubsub_v1\n",
    "from apache_beam.options.pipeline_options import PipelineOptions, StandardOptions"
   ]
  },
  {
   "cell_type": "code",
   "execution_count": 3,
   "id": "2e93314e",
   "metadata": {},
   "outputs": [],
   "source": [
    "import apache_beam as beam\n",
    "from apache_beam.options.pipeline_options import PipelineOptions, StandardOptions\n",
    "import os\n",
    "from apache_beam import window\n",
    "from apache_beam.transforms.trigger import AfterWatermark, AfterProcessingTime, AccumulationMode, AfterCount, Repeatedly\n",
    "from datetime import datetime"
   ]
  },
  {
   "cell_type": "code",
   "execution_count": 33,
   "id": "6d113614",
   "metadata": {},
   "outputs": [],
   "source": [
    "def encode_byte_string(element):\n",
    "    element = str(element)\n",
    "    return element.encode('utf-8')\n",
    "\n",
    "def custom_timestamp(elements):\n",
    "    unix_timestamp = elements[7]\n",
    "    return beam.window.TimestampedValue(elements, int(unix_timestamp))\n",
    "\n",
    "def calculateProfit(elements):\n",
    "    buy_rate = elements[5]\n",
    "    sell_price = elements[6]\n",
    "    products_count = int(elements[4])\n",
    "    profit = (int(sell_price) - int(buy_rate)) * products_count\n",
    "    elements.append(str(profit))\n",
    "    return elements"
   ]
  },
  {
   "cell_type": "markdown",
   "id": "a1767020",
   "metadata": {},
   "source": [
    "------"
   ]
  },
  {
   "cell_type": "markdown",
   "id": "8f95edac",
   "metadata": {},
   "source": [
    "# FixedWindow"
   ]
  },
  {
   "cell_type": "code",
   "execution_count": 7,
   "id": "212ad320",
   "metadata": {},
   "outputs": [
    {
     "name": "stderr",
     "output_type": "stream",
     "text": [
      "WARNING:apache_beam.runners.interactive.interactive_environment:Dependencies required for Interactive Beam PCollection visualization are not available, please use: `pip install apache-beam[interactive]` to install necessary dependencies to enable all data visualization features.\n"
     ]
    },
    {
     "data": {
      "application/javascript": [
       "\n",
       "        if (typeof window.interactive_beam_jquery == 'undefined') {\n",
       "          var jqueryScript = document.createElement('script');\n",
       "          jqueryScript.src = 'https://code.jquery.com/jquery-3.4.1.slim.min.js';\n",
       "          jqueryScript.type = 'text/javascript';\n",
       "          jqueryScript.onload = function() {\n",
       "            var datatableScript = document.createElement('script');\n",
       "            datatableScript.src = 'https://cdn.datatables.net/1.10.20/js/jquery.dataTables.min.js';\n",
       "            datatableScript.type = 'text/javascript';\n",
       "            datatableScript.onload = function() {\n",
       "              window.interactive_beam_jquery = jQuery.noConflict(true);\n",
       "              window.interactive_beam_jquery(document).ready(function($){\n",
       "                \n",
       "              });\n",
       "            }\n",
       "            document.head.appendChild(datatableScript);\n",
       "          };\n",
       "          document.head.appendChild(jqueryScript);\n",
       "        } else {\n",
       "          window.interactive_beam_jquery(document).ready(function($){\n",
       "            \n",
       "          });\n",
       "        }"
      ]
     },
     "metadata": {},
     "output_type": "display_data"
    },
    {
     "data": {
      "text/plain": [
       "'DONE'"
      ]
     },
     "execution_count": 7,
     "metadata": {},
     "output_type": "execute_result"
    }
   ],
   "source": [
    "p = beam.Pipeline()\n",
    "\n",
    "pubsub_data= (\n",
    "    p \n",
    "    | 'Read from pub sub' >> beam.io.ReadFromText('store_sales.csv')\n",
    "\n",
    "    | 'Remove extra chars' >> beam.Map(lambda data: (data.rstrip().lstrip()))          \n",
    "    \n",
    "    | 'Split Row' >> beam.Map(lambda row : row.split(','))                             \n",
    "    \n",
    "    | 'Filter By Country' >> beam.Filter(lambda elements : (elements[1] == \"Mumbai\" or elements[1] == \"Bangalore\"))\n",
    "    \n",
    "    | 'Create Profit Column' >> beam.Map(calculateProfit)                              \n",
    "    \n",
    "    | 'Apply custom timestamp' >> beam.Map(custom_timestamp) \n",
    "    \n",
    "    | 'Form Key Value pair' >> beam.Map(lambda elements : (elements[0], int(elements[8])))  \n",
    "\n",
    "    | 'Window' >> beam.WindowInto(window.FixedWindows(0.000001))\n",
    "    \n",
    "    | 'Sum values' >> beam.CombinePerKey(sum)\n",
    "\n",
    "    | 'Write to pus sub' >> beam.io.WriteToText('output/pubsub')\n",
    ")\n",
    "\n",
    "result = p.run()\n",
    "result.wait_until_finish()"
   ]
  },
  {
   "cell_type": "code",
   "execution_count": 9,
   "id": "83efadc9",
   "metadata": {},
   "outputs": [
    {
     "name": "stdout",
     "output_type": "stream",
     "text": [
      "('STR_2', 216)\r\n",
      "('STR_2', 258)\r\n",
      "('STR_2', 92)\r\n",
      "('STR_2', 150)\r\n",
      "('STR_2', 392)\r\n"
     ]
    }
   ],
   "source": [
    "!{'head -n 5 output/pubsub-00000-of-00001'}"
   ]
  },
  {
   "cell_type": "markdown",
   "id": "423b9e53",
   "metadata": {},
   "source": [
    "------"
   ]
  },
  {
   "cell_type": "markdown",
   "id": "22b09d31",
   "metadata": {},
   "source": [
    "# Sliding Window"
   ]
  },
  {
   "cell_type": "code",
   "execution_count": 34,
   "id": "c777760d",
   "metadata": {},
   "outputs": [
    {
     "name": "stderr",
     "output_type": "stream",
     "text": [
      "WARNING:apache_beam.io.filebasedsink:Deleting 1 existing files in target path matching: -*-of-%(num_shards)05d\n"
     ]
    },
    {
     "data": {
      "text/plain": [
       "'DONE'"
      ]
     },
     "execution_count": 34,
     "metadata": {},
     "output_type": "execute_result"
    }
   ],
   "source": [
    "p = beam.Pipeline()\n",
    "\n",
    "pubsub_data= (\n",
    "    p \n",
    "    | 'Read from pub sub' >> beam.io.ReadFromText('store_sales.csv')\n",
    "    \n",
    "    | 'Remove extra chars' >> beam.Map(lambda data: (data.rstrip().lstrip()))         \n",
    "    \n",
    "    | 'Split Row' >> beam.Map(lambda row : row.split(','))                            \n",
    "    \n",
    "    | 'Filter By Country' >> beam.Filter(lambda elements : (elements[1] == \"Mumbai\" or elements[1] == \"Bangalore\"))\n",
    "    \n",
    "    | 'Create Profit Column' >> beam.Map(calculateProfit)                              \n",
    "    \n",
    "    | 'Apply custom timestamp' >> beam.Map(custom_timestamp) \n",
    "    \n",
    "    | 'Form Key Value pair' >> beam.Map(lambda elements : ((elements[0],elements[1]), int(elements[8])))  \n",
    "    \n",
    "    | 'Window' >> beam.WindowInto(window.SlidingWindows(0.0001,0.000001))\n",
    "    \n",
    "    | 'Sum values' >> beam.CombinePerKey(sum)\n",
    "\n",
    "    | 'Write to pus sub' >> beam.io.WriteToText('output/pubsub')\n",
    ")\n",
    "\n",
    "result = p.run()\n",
    "result.wait_until_finish()"
   ]
  },
  {
   "cell_type": "code",
   "execution_count": 35,
   "id": "9c466f58",
   "metadata": {},
   "outputs": [
    {
     "name": "stdout",
     "output_type": "stream",
     "text": [
      "(('STR_2', 'Mumbai'), 216)\r\n",
      "(('STR_2', 'Mumbai'), 21384)\r\n",
      "(('STR_2', 'Mumbai'), 258)\r\n",
      "(('STR_2', 'Mumbai'), 25542)\r\n",
      "(('STR_2', 'Mumbai'), 92)\r\n"
     ]
    }
   ],
   "source": [
    "!{'head -n 5 output/pubsub-00000-of-00001'}"
   ]
  },
  {
   "cell_type": "markdown",
   "id": "c05bf8d1",
   "metadata": {},
   "source": [
    "------\n",
    "\n",
    "# Session Windows"
   ]
  },
  {
   "cell_type": "code",
   "execution_count": 36,
   "id": "0b768194",
   "metadata": {},
   "outputs": [
    {
     "name": "stderr",
     "output_type": "stream",
     "text": [
      "WARNING:apache_beam.io.filebasedsink:Deleting 1 existing files in target path matching: -*-of-%(num_shards)05d\n"
     ]
    },
    {
     "data": {
      "text/plain": [
       "'DONE'"
      ]
     },
     "execution_count": 36,
     "metadata": {},
     "output_type": "execute_result"
    }
   ],
   "source": [
    "p = beam.Pipeline()\n",
    "\n",
    "pubsub_data= (\n",
    "    p \n",
    "    | 'Read from pub sub' >> beam.io.ReadFromText('store_sales.csv')\n",
    "\n",
    "    | 'Remove extra chars' >> beam.Map(lambda data: (data.rstrip().lstrip()))          \n",
    "    \n",
    "    | 'Split Row' >> beam.Map(lambda row : row.split(','))                             \n",
    "    \n",
    "    | 'Filter By Country' >> beam.Filter(lambda elements : (elements[1] == \"Mumbai\" or elements[1] == \"Bangalore\"))\n",
    "    \n",
    "    | 'Create Profit Column' >> beam.Map(calculateProfit)                              \n",
    "    \n",
    "    | 'Apply custom timestamp' >> beam.Map(custom_timestamp) \n",
    "    \n",
    "    | 'Form Key Value pair' >> beam.Map(lambda elements : ((elements[0],elements[1]), int(elements[8])))  \n",
    "    \n",
    "    | 'Window' >> beam.WindowInto(window.Sessions(0.001))\n",
    "    \n",
    "    | 'Sum values' >> beam.CombinePerKey(sum)\n",
    "\n",
    "    | 'Write to pus sub' >> beam.io.WriteToText('output/pubsub')\n",
    ")\n",
    "\n",
    "result = p.run()\n",
    "result.wait_until_finish()"
   ]
  },
  {
   "cell_type": "code",
   "execution_count": 37,
   "id": "a1393246",
   "metadata": {},
   "outputs": [
    {
     "name": "stdout",
     "output_type": "stream",
     "text": [
      "(('STR_2', 'Mumbai'), 216)\r\n",
      "(('STR_2', 'Mumbai'), 258)\r\n",
      "(('STR_2', 'Mumbai'), 92)\r\n",
      "(('STR_2', 'Mumbai'), 150)\r\n",
      "(('STR_2', 'Mumbai'), 392)\r\n"
     ]
    }
   ],
   "source": [
    "!{'head -n 5 output/pubsub-00000-of-00001'}"
   ]
  },
  {
   "cell_type": "markdown",
   "id": "acacb4e1",
   "metadata": {},
   "source": [
    "------\n",
    "\n",
    "# Global Windows"
   ]
  },
  {
   "cell_type": "code",
   "execution_count": 38,
   "id": "ebf7337a",
   "metadata": {},
   "outputs": [],
   "source": [
    "def player_pair(element_list):\n",
    "    return element_list[1],1\n",
    "  \n",
    "def score_pair(element_list):\n",
    "    return ((element_list[3],element_list[4]),1)\n",
    "\n",
    "def custom_timestamp(elements):\n",
    "    unix_timestamp = elements[16].rstrip().lstrip()\n",
    "    return beam.window.TimestampedValue(elements, int(unix_timestamp))"
   ]
  },
  {
   "cell_type": "code",
   "execution_count": 39,
   "id": "bd7f8b3a",
   "metadata": {},
   "outputs": [
    {
     "name": "stderr",
     "output_type": "stream",
     "text": [
      "WARNING:apache_beam.io.filebasedsink:Deleting 1 existing files in target path matching: -*-of-%(num_shards)05d\n"
     ]
    },
    {
     "data": {
      "text/plain": [
       "'DONE'"
      ]
     },
     "execution_count": 39,
     "metadata": {},
     "output_type": "execute_result"
    }
   ],
   "source": [
    "p = beam.Pipeline()\n",
    "\n",
    "pubsub_data = (\n",
    "                 p \n",
    "                | 'Read from pub sub' >> beam.io.ReadFromText('mobile_game.txt')\n",
    "                | 'Parse data' >> beam.Map(lambda element: element.split(','))\n",
    "                | 'Apply custom timestamp' >> beam.Map(custom_timestamp)\n",
    "              )\n",
    "\n",
    "player_score = (\n",
    "                pubsub_data \n",
    "                | 'Form k,v pair of (player_id, 1)' >> beam.Map( player_pair )\n",
    "                | 'Window for player' >> beam.WindowInto(window.GlobalWindows(), trigger=Repeatedly(AfterCount(1)), accumulation_mode=AccumulationMode.ACCUMULATING) \n",
    "                | 'Group players and their score' >> beam.CombinePerKey(sum)\n",
    "              )\n",
    "\n",
    "team_score = (\n",
    "                pubsub_data \n",
    "                | 'Form k,v pair of (team_score, 1)' >> beam.Map( score_pair )\n",
    "                | 'Window for team' >> beam.WindowInto(window.GlobalWindows(), trigger=Repeatedly(AfterCount(1)), accumulation_mode=AccumulationMode.ACCUMULATING) \n",
    "                | 'Group teams and their score' >> beam.CombinePerKey(sum)\n",
    "                | 'Write to pus sub' >> beam.io.WriteToText('output/pubsub')\n",
    "              )\n",
    "\n",
    "result = p.run()\n",
    "result.wait_until_finish()"
   ]
  },
  {
   "cell_type": "code",
   "execution_count": 40,
   "id": "6909fe2c",
   "metadata": {},
   "outputs": [
    {
     "name": "stdout",
     "output_type": "stream",
     "text": [
      "(('TM_01', 'Blasters'), 66)\r\n",
      "(('TM_03', 'Masters'), 72)\r\n",
      "(('TM_05', 'Rangers'), 82)\r\n",
      "(('TM_04', 'Lions'), 90)\r\n",
      "(('TM_02', 'Xorbians'), 81)\r\n"
     ]
    }
   ],
   "source": [
    "!{'head -n 5 output/pubsub-00000-of-00001'}"
   ]
  },
  {
   "cell_type": "markdown",
   "id": "c96a33c9",
   "metadata": {},
   "source": [
    "------\n",
    "\n",
    "# Assignment"
   ]
  },
  {
   "cell_type": "code",
   "execution_count": 41,
   "id": "2609fec0",
   "metadata": {},
   "outputs": [],
   "source": [
    "class PointFn(beam.CombineFn):\n",
    "    def create_accumulator(self):\n",
    "        return (0.0, 0)\n",
    "\n",
    "    def add_input(self, sum_count, input):                        \n",
    "        (sum, count) = sum_count                                       \n",
    "        return sum + input, count + 1                                \n",
    "\n",
    "    def merge_accumulators(self, accumulators):\n",
    "        sums, counts = zip(*accumulators)                            \n",
    "        return sum(sums), sum(counts)                                \n",
    "\n",
    "    def extract_output(self, sum_count):\n",
    "        (sum, count) = sum_count                                   \n",
    "        return sum / count if count else float('NaN')  "
   ]
  },
  {
   "cell_type": "code",
   "execution_count": 42,
   "id": "1e75a0b5",
   "metadata": {},
   "outputs": [],
   "source": [
    "def calculate_battle_points(element_list):     \n",
    "    total_points = 0\n",
    "    game_id = element_list[0]\n",
    "    player_id = element_list[1]                                        \n",
    "    weapon = element_list[5]                                           \n",
    "\n",
    "    my_weapon_ranking = element_list[6].rstrip().lstrip() \n",
    "    my_weapon_ranking = int(my_weapon_ranking) \n",
    "        \n",
    "    opp_weapon_ranking = element_list[13].rstrip().lstrip()       \n",
    "    opp_weapon_ranking = int(opp_weapon_ranking)\n",
    "    \n",
    "    my_map_location = element_list[7].rstrip().lstrip()               \n",
    "    opp_map_location = element_list[14].rstrip().lstrip()             \n",
    "\n",
    "    battle_time = element_list[15]\n",
    "    battle_time = int(battle_time.rstrip().lstrip())                  \n",
    "\n",
    "    if battle_time >= 10 and battle_time <= 20:\n",
    "        total_points += 4  \n",
    "    elif battle_time >=21 and battle_time <= 30:\n",
    "        total_points += 3\n",
    "    elif battle_time >=31 and battle_time <=40:\n",
    "        total_points += 2\n",
    "    elif battle_time > 40:\n",
    "        total_points += 1\n",
    "\n",
    "    diff = my_weapon_ranking - opp_weapon_ranking\n",
    "\n",
    "    if diff >= 6:\n",
    "        total_points += 3 \n",
    "\n",
    "    elif diff >= 3:\n",
    "        total_points += 2  \n",
    "    else: \n",
    "        total_points += 1     \n",
    "\n",
    "    if my_map_location != opp_map_location:                         \n",
    "        total_points += 3         \n",
    "\n",
    "    return game_id + ':' + player_id + ':' + weapon, total_points                    "
   ]
  },
  {
   "cell_type": "code",
   "execution_count": 54,
   "id": "f626829e",
   "metadata": {},
   "outputs": [],
   "source": [
    "def format_result(key_value_pair):\n",
    "        name, points = key_value_pair\n",
    "        name_list = name.split(':')\n",
    "        game_id = name_list[0]\n",
    "        player_id = name_list[1]\n",
    "        weapon = ' '.join(name_list[2:])\n",
    "        return  game_id + ',' + player_id + ', ' + weapon + ', ' + str(int(points*100)/100) + ' average battle points '"
   ]
  },
  {
   "cell_type": "code",
   "execution_count": 56,
   "id": "de4c47f5",
   "metadata": {},
   "outputs": [
    {
     "name": "stderr",
     "output_type": "stream",
     "text": [
      "WARNING:apache_beam.io.filebasedsink:Deleting 1 existing files in target path matching: -*-of-%(num_shards)05d\n"
     ]
    },
    {
     "data": {
      "text/plain": [
       "'DONE'"
      ]
     },
     "execution_count": 56,
     "metadata": {},
     "output_type": "execute_result"
    }
   ],
   "source": [
    "p = beam.Pipeline()\n",
    "\n",
    "pubsub_data = (\n",
    "                p \n",
    "                | 'Read from pub sub' >> beam.io.ReadFromText('mobile_game.txt')\n",
    "                \n",
    "                | 'Parse data' >> beam.Map(lambda element: element.split(','))\n",
    "               \n",
    "                | 'Calculate battle points' >> beam.Map(calculate_battle_points)        \n",
    "             \n",
    "                | 'Window for player' >> beam.WindowInto(window.Sessions(30))\n",
    "                \n",
    "                | 'Group by key' >> beam.CombinePerKey(PointFn())                    \n",
    "                \n",
    "                | 'Format results' >> beam.Map(format_result)    \n",
    "                \n",
    "                | 'Write to pus sub' >> beam.io.WriteToText('output/pubsub')\n",
    ")\n",
    "\n",
    "\n",
    "result = p.run()\n",
    "result.wait_until_finish()"
   ]
  },
  {
   "cell_type": "code",
   "execution_count": 57,
   "id": "391d23e2",
   "metadata": {},
   "outputs": [
    {
     "name": "stdout",
     "output_type": "stream",
     "text": [
      "GM_1,PL_1, BN60, 9.0 average battle points \r\n",
      "GM_1,PL_3, Rifle, 5.5 average battle points \r\n",
      "GM_1,PL_5, Rifle, 6.0 average battle points \r\n",
      "GM_1,PL_10, Bomb, 5.4 average battle points \r\n",
      "GM_1,PL_10, Rifle, 5.38 average battle points \r\n"
     ]
    }
   ],
   "source": [
    "!{'head -n 5 output/pubsub-00000-of-00001'}"
   ]
  },
  {
   "cell_type": "code",
   "execution_count": null,
   "id": "5075d58f",
   "metadata": {},
   "outputs": [],
   "source": []
  },
  {
   "cell_type": "code",
   "execution_count": null,
   "id": "50c46581",
   "metadata": {},
   "outputs": [],
   "source": []
  },
  {
   "cell_type": "code",
   "execution_count": null,
   "id": "c9fe94ac",
   "metadata": {},
   "outputs": [],
   "source": []
  }
 ],
 "metadata": {
  "kernelspec": {
   "display_name": "Python 3 (ipykernel)",
   "language": "python",
   "name": "python3"
  },
  "language_info": {
   "codemirror_mode": {
    "name": "ipython",
    "version": 3
   },
   "file_extension": ".py",
   "mimetype": "text/x-python",
   "name": "python",
   "nbconvert_exporter": "python",
   "pygments_lexer": "ipython3",
   "version": "3.10.9"
  }
 },
 "nbformat": 4,
 "nbformat_minor": 5
}
