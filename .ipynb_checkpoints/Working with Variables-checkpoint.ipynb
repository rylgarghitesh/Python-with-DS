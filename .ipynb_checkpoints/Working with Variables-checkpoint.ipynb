{
 "cells": [
  {
   "cell_type": "code",
   "execution_count": 1,
   "id": "0d1d380f",
   "metadata": {},
   "outputs": [],
   "source": [
    "A = 10"
   ]
  },
  {
   "cell_type": "code",
   "execution_count": 2,
   "id": "3ca0ae85",
   "metadata": {},
   "outputs": [],
   "source": [
    "B = 5"
   ]
  },
  {
   "cell_type": "code",
   "execution_count": 3,
   "id": "952b74dd",
   "metadata": {},
   "outputs": [],
   "source": [
    "C = A + B"
   ]
  },
  {
   "cell_type": "code",
   "execution_count": 4,
   "id": "15bfbc3f",
   "metadata": {},
   "outputs": [
    {
     "data": {
      "text/plain": [
       "15"
      ]
     },
     "execution_count": 4,
     "metadata": {},
     "output_type": "execute_result"
    }
   ],
   "source": [
    "C"
   ]
  },
  {
   "cell_type": "code",
   "execution_count": 5,
   "id": "917a7585",
   "metadata": {},
   "outputs": [],
   "source": [
    "D = A / B"
   ]
  },
  {
   "cell_type": "code",
   "execution_count": 6,
   "id": "7830a09b",
   "metadata": {},
   "outputs": [
    {
     "data": {
      "text/plain": [
       "2.0"
      ]
     },
     "execution_count": 6,
     "metadata": {},
     "output_type": "execute_result"
    }
   ],
   "source": [
    "D"
   ]
  },
  {
   "cell_type": "markdown",
   "id": "48907217",
   "metadata": {},
   "source": [
    "----"
   ]
  },
  {
   "cell_type": "code",
   "execution_count": 7,
   "id": "9abd9343",
   "metadata": {},
   "outputs": [],
   "source": [
    "import math"
   ]
  },
  {
   "cell_type": "code",
   "execution_count": 8,
   "id": "ad24b61d",
   "metadata": {},
   "outputs": [
    {
     "data": {
      "text/plain": [
       "3.1622776601683795"
      ]
     },
     "execution_count": 8,
     "metadata": {},
     "output_type": "execute_result"
    }
   ],
   "source": [
    "math.sqrt(A)"
   ]
  },
  {
   "cell_type": "code",
   "execution_count": 9,
   "id": "0f52a708",
   "metadata": {},
   "outputs": [
    {
     "data": {
      "text/plain": [
       "3"
      ]
     },
     "execution_count": 9,
     "metadata": {},
     "output_type": "execute_result"
    }
   ],
   "source": [
    "round(math.sqrt(A))"
   ]
  },
  {
   "cell_type": "markdown",
   "id": "e848c1f1",
   "metadata": {},
   "source": [
    "-----"
   ]
  },
  {
   "cell_type": "code",
   "execution_count": 10,
   "id": "45f4e44b",
   "metadata": {},
   "outputs": [
    {
     "data": {
      "text/plain": [
       "True"
      ]
     },
     "execution_count": 10,
     "metadata": {},
     "output_type": "execute_result"
    }
   ],
   "source": [
    "4 < 5"
   ]
  },
  {
   "cell_type": "code",
   "execution_count": 13,
   "id": "29e19833",
   "metadata": {},
   "outputs": [
    {
     "data": {
      "text/plain": [
       "False"
      ]
     },
     "execution_count": 13,
     "metadata": {},
     "output_type": "execute_result"
    }
   ],
   "source": [
    "4 > 5"
   ]
  },
  {
   "cell_type": "code",
   "execution_count": 14,
   "id": "42bfd557",
   "metadata": {},
   "outputs": [
    {
     "data": {
      "text/plain": [
       "False"
      ]
     },
     "execution_count": 14,
     "metadata": {},
     "output_type": "execute_result"
    }
   ],
   "source": [
    "4 == 5"
   ]
  },
  {
   "cell_type": "code",
   "execution_count": 15,
   "id": "2bed1b8c",
   "metadata": {},
   "outputs": [],
   "source": [
    "result1 = 4 < 5"
   ]
  },
  {
   "cell_type": "code",
   "execution_count": 16,
   "id": "99b2e1c9",
   "metadata": {},
   "outputs": [
    {
     "data": {
      "text/plain": [
       "True"
      ]
     },
     "execution_count": 16,
     "metadata": {},
     "output_type": "execute_result"
    }
   ],
   "source": [
    "result1"
   ]
  },
  {
   "cell_type": "code",
   "execution_count": 17,
   "id": "14eedf54",
   "metadata": {},
   "outputs": [],
   "source": [
    "result2 = not(4 < 5)"
   ]
  },
  {
   "cell_type": "code",
   "execution_count": 18,
   "id": "a8d6584c",
   "metadata": {},
   "outputs": [
    {
     "data": {
      "text/plain": [
       "False"
      ]
     },
     "execution_count": 18,
     "metadata": {},
     "output_type": "execute_result"
    }
   ],
   "source": [
    "result2"
   ]
  },
  {
   "cell_type": "code",
   "execution_count": 20,
   "id": "d80a9ca6",
   "metadata": {},
   "outputs": [
    {
     "data": {
      "text/plain": [
       "True"
      ]
     },
     "execution_count": 20,
     "metadata": {},
     "output_type": "execute_result"
    }
   ],
   "source": [
    "result1 or result2"
   ]
  },
  {
   "cell_type": "code",
   "execution_count": 21,
   "id": "ca3fc477",
   "metadata": {},
   "outputs": [
    {
     "data": {
      "text/plain": [
       "False"
      ]
     },
     "execution_count": 21,
     "metadata": {},
     "output_type": "execute_result"
    }
   ],
   "source": [
    "result1 and result2"
   ]
  },
  {
   "cell_type": "markdown",
   "id": "703e45ab",
   "metadata": {},
   "source": [
    "----"
   ]
  },
  {
   "cell_type": "code",
   "execution_count": 24,
   "id": "d11ac5c0",
   "metadata": {},
   "outputs": [
    {
     "name": "stdout",
     "output_type": "stream",
     "text": [
      "0\n",
      "1\n",
      "2\n",
      "3\n",
      "4\n",
      "5\n",
      "6\n",
      "7\n",
      "8\n",
      "9\n",
      "10\n",
      "11\n",
      "12end\n"
     ]
    }
   ],
   "source": [
    "counter = 0 \n",
    "while counter < 12:\n",
    "    print(counter)\n",
    "    counter += 1\n",
    "print(\"12end\")"
   ]
  },
  {
   "cell_type": "code",
   "execution_count": 26,
   "id": "83de2ab7",
   "metadata": {},
   "outputs": [
    {
     "name": "stdout",
     "output_type": "stream",
     "text": [
      "0\n",
      "1\n",
      "2\n",
      "3\n",
      "4\n",
      "5\n",
      "6\n",
      "7\n",
      "8\n",
      "9\n",
      "10\n",
      "11\n",
      "12end\n"
     ]
    }
   ],
   "source": [
    "for counter in range(12):\n",
    "    print(counter)\n",
    "print(\"12end\")"
   ]
  },
  {
   "cell_type": "code",
   "execution_count": 27,
   "id": "3767d425",
   "metadata": {},
   "outputs": [
    {
     "data": {
      "text/plain": [
       "range(0, 5)"
      ]
     },
     "execution_count": 27,
     "metadata": {},
     "output_type": "execute_result"
    }
   ],
   "source": [
    "range(5)"
   ]
  },
  {
   "cell_type": "code",
   "execution_count": 28,
   "id": "27ce68dd",
   "metadata": {},
   "outputs": [
    {
     "data": {
      "text/plain": [
       "[0, 1, 2, 3, 4]"
      ]
     },
     "execution_count": 28,
     "metadata": {},
     "output_type": "execute_result"
    }
   ],
   "source": [
    "list(range(5))"
   ]
  },
  {
   "cell_type": "markdown",
   "id": "ae8575e3",
   "metadata": {},
   "source": [
    "--------"
   ]
  },
  {
   "cell_type": "code",
   "execution_count": 32,
   "id": "2c221fd9",
   "metadata": {},
   "outputs": [],
   "source": [
    "import numpy as np\n",
    "from numpy.random import randn"
   ]
  },
  {
   "cell_type": "code",
   "execution_count": 35,
   "id": "57440f4d",
   "metadata": {},
   "outputs": [
    {
     "data": {
      "text/plain": [
       "-0.6015283082747508"
      ]
     },
     "execution_count": 35,
     "metadata": {},
     "output_type": "execute_result"
    }
   ],
   "source": [
    "randn()"
   ]
  },
  {
   "cell_type": "code",
   "execution_count": 42,
   "id": "dd144abb",
   "metadata": {},
   "outputs": [
    {
     "name": "stdout",
     "output_type": "stream",
     "text": [
      "Less than -1\n",
      "-1.0805380207128927\n"
     ]
    }
   ],
   "source": [
    "x = randn()\n",
    "if x > 1:\n",
    "    print(\"Greator than 1\")\n",
    "elif x >= -1:\n",
    "    print(\"Between -1 and 1\")\n",
    "else:        \n",
    "    print(\"Less than -1\")\n",
    "print(x)"
   ]
  },
  {
   "cell_type": "markdown",
   "id": "504aca7d",
   "metadata": {},
   "source": [
    "------"
   ]
  },
  {
   "cell_type": "code",
   "execution_count": 43,
   "id": "fc294e9e",
   "metadata": {},
   "outputs": [],
   "source": [
    "import numpy as np\n",
    "from numpy.random import randn"
   ]
  },
  {
   "cell_type": "code",
   "execution_count": 60,
   "id": "6c4e8b46",
   "metadata": {},
   "outputs": [
    {
     "name": "stdout",
     "output_type": "stream",
     "text": [
      "0.682984\n"
     ]
    }
   ],
   "source": [
    "N = 1000000\n",
    "counter = 0\n",
    "for val in randn(N):\n",
    "    if( val < 1 and val > -1):\n",
    "        counter += 1 \n",
    "print(counter/N)"
   ]
  },
  {
   "cell_type": "code",
   "execution_count": null,
   "id": "397fa1cb",
   "metadata": {},
   "outputs": [],
   "source": []
  },
  {
   "cell_type": "code",
   "execution_count": null,
   "id": "8ad2e185",
   "metadata": {},
   "outputs": [],
   "source": []
  }
 ],
 "metadata": {
  "kernelspec": {
   "display_name": "Python 3 (ipykernel)",
   "language": "python",
   "name": "python3"
  },
  "language_info": {
   "codemirror_mode": {
    "name": "ipython",
    "version": 3
   },
   "file_extension": ".py",
   "mimetype": "text/x-python",
   "name": "python",
   "nbconvert_exporter": "python",
   "pygments_lexer": "ipython3",
   "version": "3.10.9"
  }
 },
 "nbformat": 4,
 "nbformat_minor": 5
}
