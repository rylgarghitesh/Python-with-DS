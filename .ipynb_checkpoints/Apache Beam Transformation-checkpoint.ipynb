{
 "cells": [
  {
   "cell_type": "code",
   "execution_count": 11,
   "id": "b1081d4a",
   "metadata": {},
   "outputs": [
    {
     "name": "stdout",
     "output_type": "stream",
     "text": [
      "Note: you may need to restart the kernel to use updated packages.\n"
     ]
    }
   ],
   "source": [
    "pip install --quiet apache-beam"
   ]
  },
  {
   "cell_type": "code",
   "execution_count": 10,
   "id": "9a214957",
   "metadata": {},
   "outputs": [
    {
     "name": "stdout",
     "output_type": "stream",
     "text": [
      "zsh:1: no matches found: apache-beam[interactive]\r\n"
     ]
    }
   ],
   "source": [
    "!{'pip install apache-beam[interactive]'}"
   ]
  },
  {
   "cell_type": "code",
   "execution_count": 12,
   "id": "4701c3b4",
   "metadata": {},
   "outputs": [],
   "source": [
    "import apache_beam as beam\n",
    "from apache_beam.runners.interactive.interactive_runner import InteractiveRunner\n",
    "import apache_beam.runners.interactive.interactive_beam as ib"
   ]
  },
  {
   "cell_type": "code",
   "execution_count": null,
   "id": "8f20acdc",
   "metadata": {},
   "outputs": [],
   "source": [
    "ls"
   ]
  },
  {
   "cell_type": "code",
   "execution_count": null,
   "id": "abe340f7",
   "metadata": {},
   "outputs": [],
   "source": [
    "!{'mkdir data'}"
   ]
  },
  {
   "cell_type": "code",
   "execution_count": 28,
   "id": "a6ee250c",
   "metadata": {},
   "outputs": [
    {
     "data": {
      "text/plain": [
       "<apache_beam.runners.portability.fn_api_runner.fn_runner.RunnerResult at 0x7fd6b488beb0>"
      ]
     },
     "execution_count": 28,
     "metadata": {},
     "output_type": "execute_result"
    }
   ],
   "source": [
    "p1 = beam.Pipeline()\n",
    "attendence_count = (\n",
    "           p1 \n",
    "           | beam.io.ReadFromText('dept_data.txt')\n",
    "    |beam.io.WriteToText('data/output')\n",
    "        \n",
    ")\n",
    "p1.run()"
   ]
  },
  {
   "cell_type": "code",
   "execution_count": 41,
   "id": "678a862a",
   "metadata": {},
   "outputs": [
    {
     "name": "stdout",
     "output_type": "stream",
     "text": [
      "output-00000-of-00001\r\n"
     ]
    }
   ],
   "source": [
    "ls data/"
   ]
  },
  {
   "cell_type": "code",
   "execution_count": 42,
   "id": "225d0be7",
   "metadata": {},
   "outputs": [
    {
     "name": "stdout",
     "output_type": "stream",
     "text": [
      "149633CM\r\n",
      "Marco\r\n",
      "10\r\n",
      "Accounts\r\n",
      "1-01-2019\r\n",
      "212539MU\r\n",
      "Rebekah\r\n",
      "10\r\n",
      "Accounts\r\n",
      "1-01-2019\r\n",
      "231555ZZ\r\n",
      "Itoe\r\n",
      "10\r\n",
      "Accounts\r\n",
      "1-01-2019\r\n",
      "503996WI\r\n",
      "Edouard\r\n",
      "10\r\n",
      "Accounts\r\n",
      "1-01-2019\r\n"
     ]
    }
   ],
   "source": [
    "!{'head -n 20 data/output-00000-of-00001'}"
   ]
  },
  {
   "cell_type": "code",
   "execution_count": 39,
   "id": "67e80d0f",
   "metadata": {},
   "outputs": [
    {
     "name": "stdout",
     "output_type": "stream",
     "text": [
      "149633CM,Marco,10,Accounts,1-01-2019\r",
      "\r\n",
      "212539MU,Rebekah,10,Accounts,1-01-2019\r",
      "\r\n",
      "231555ZZ,Itoe,10,Accounts,1-01-2019\r",
      "\r\n",
      "503996WI,Edouard,10,Accounts,1-01-2019\r",
      "\r\n",
      "704275DC,Kyle,10,Accounts,1-01-2019\r",
      "\r\n",
      "957149WC,Kyle,10,Accounts,1-01-2019\r",
      "\r\n",
      "241316NX,Kumiko,10,Accounts,1-01-2019\r",
      "\r\n",
      "796656IE,Gaston,10,Accounts,1-01-2019\r",
      "\r\n",
      "331593PS,Beryl,20,HR,1-01-2019\r",
      "\r\n",
      "560447WH,Olga,20,HR,1-01-2019\r",
      "\r\n",
      "222997TJ,Leslie,20,HR,1-01-2019\r",
      "\r\n",
      "171752SY,Mindy,20,HR,1-01-2019\r",
      "\r\n",
      "153636AS,Vicky,20,HR,1-01-2019\r",
      "\r\n",
      "745411HT,Richard,20,HR,1-01-2019\r",
      "\r\n",
      "298464HN,Kirk,20,HR,1-01-2019\r",
      "\r\n",
      "783950BW,Kaori,20,HR,1-01-2019\r",
      "\r\n",
      "892691AR,Beryl,20,HR,1-01-2019\r",
      "\r\n",
      "245668UZ,Oscar,20,HR,1-01-2019\r",
      "\r\n",
      "231206QD,Kumiko,30,Finance,1-01-2019\r",
      "\r\n",
      "357919KT,Wendy,30,Finance,1-01-2019\r",
      "\r\n"
     ]
    }
   ],
   "source": [
    "!{'head -n 20 dept_data.txt'}"
   ]
  },
  {
   "cell_type": "code",
   "execution_count": 35,
   "id": "17224854",
   "metadata": {},
   "outputs": [],
   "source": [
    "def SplitRow(element):\n",
    "    return element.split(',')"
   ]
  },
  {
   "cell_type": "code",
   "execution_count": 36,
   "id": "516a551a",
   "metadata": {},
   "outputs": [
    {
     "name": "stderr",
     "output_type": "stream",
     "text": [
      "WARNING:apache_beam.io.filebasedsink:Deleting 1 existing files in target path matching: -*-of-%(num_shards)05d\n"
     ]
    },
    {
     "data": {
      "text/plain": [
       "<apache_beam.runners.portability.fn_api_runner.fn_runner.RunnerResult at 0x7fd6b433f550>"
      ]
     },
     "execution_count": 36,
     "metadata": {},
     "output_type": "execute_result"
    }
   ],
   "source": [
    "p2 = beam.Pipeline()\n",
    "attendence_count = (       \n",
    "    p2 \n",
    "    |beam.io.ReadFromText('dept_data.txt')\n",
    "    |beam.Map(SplitRow) #Singleline output\n",
    "    |beam.io.WriteToText('data/output')\n",
    ")\n",
    "p2.run()\n",
    "\n",
    "!{'head -n 20 data/output-00000-of-00001'}"
   ]
  },
  {
   "cell_type": "code",
   "execution_count": 40,
   "id": "f35615d6",
   "metadata": {},
   "outputs": [
    {
     "name": "stderr",
     "output_type": "stream",
     "text": [
      "WARNING:apache_beam.io.filebasedsink:Deleting 1 existing files in target path matching: -*-of-%(num_shards)05d\n"
     ]
    },
    {
     "data": {
      "text/plain": [
       "<apache_beam.runners.portability.fn_api_runner.fn_runner.RunnerResult at 0x7fd6b4a18850>"
      ]
     },
     "execution_count": 40,
     "metadata": {},
     "output_type": "execute_result"
    }
   ],
   "source": [
    "p3 = beam.Pipeline()\n",
    "attendence_count = (       \n",
    "    p3 \n",
    "    |beam.io.ReadFromText('dept_data.txt')\n",
    "    |beam.FlatMap(SplitRow) #Multiline output\n",
    "    |beam.io.WriteToText('data/output')\n",
    ")\n",
    "p3.run()\n",
    "!{'head -n 20 data/output-00000-of-00001'}"
   ]
  },
  {
   "cell_type": "code",
   "execution_count": 44,
   "id": "bbda0461",
   "metadata": {},
   "outputs": [],
   "source": [
    "def Filtering(record):\n",
    "    return record[3] == \"Accounts\""
   ]
  },
  {
   "cell_type": "code",
   "execution_count": 46,
   "id": "49f29053",
   "metadata": {},
   "outputs": [
    {
     "name": "stderr",
     "output_type": "stream",
     "text": [
      "WARNING:apache_beam.io.filebasedsink:Deleting 1 existing files in target path matching: -*-of-%(num_shards)05d\n"
     ]
    },
    {
     "name": "stdout",
     "output_type": "stream",
     "text": [
      "['149633CM', 'Marco', '10', 'Accounts', '1-01-2019']\r\n",
      "['212539MU', 'Rebekah', '10', 'Accounts', '1-01-2019']\r\n",
      "['231555ZZ', 'Itoe', '10', 'Accounts', '1-01-2019']\r\n",
      "['503996WI', 'Edouard', '10', 'Accounts', '1-01-2019']\r\n",
      "['704275DC', 'Kyle', '10', 'Accounts', '1-01-2019']\r\n",
      "['957149WC', 'Kyle', '10', 'Accounts', '1-01-2019']\r\n",
      "['241316NX', 'Kumiko', '10', 'Accounts', '1-01-2019']\r\n",
      "['796656IE', 'Gaston', '10', 'Accounts', '1-01-2019']\r\n",
      "['149633CM', 'Marco', '10', 'Accounts', '2-01-2019']\r\n",
      "['212539MU', 'Rebekah', '10', 'Accounts', '2-01-2019']\r\n",
      "['231555ZZ', 'Itoe', '10', 'Accounts', '2-01-2019']\r\n",
      "['503996WI', 'Edouard', '10', 'Accounts', '2-01-2019']\r\n",
      "['704275DC', 'Kyle', '10', 'Accounts', '2-01-2019']\r\n",
      "['957149WC', 'Kyle', '10', 'Accounts', '2-01-2019']\r\n",
      "['241316NX', 'Kumiko', '10', 'Accounts', '2-01-2019']\r\n",
      "['796656IE', 'Gaston', '10', 'Accounts', '2-01-2019']\r\n",
      "['718737IX', 'Ayumi', '10', 'Accounts', '2-01-2019']\r\n",
      "['149633CM', 'Marco', '10', 'Accounts', '3-01-2019']\r\n",
      "['212539MU', 'Rebekah', '10', 'Accounts', '3-01-2019']\r\n",
      "['231555ZZ', 'Itoe', '10', 'Accounts', '3-01-2019']\r\n"
     ]
    }
   ],
   "source": [
    "p4 = beam.Pipeline()\n",
    "attendence_count = (       \n",
    "    p4\n",
    "    |beam.io.ReadFromText('dept_data.txt')\n",
    "    |beam.Map(SplitRow) #Singleline output\n",
    "    |beam.Filter(Filtering)\n",
    "    |beam.io.WriteToText('data/output')\n",
    ")\n",
    "p4.run()\n",
    "!{'head -n 20 data/output-00000-of-00001'}"
   ]
  },
  {
   "cell_type": "code",
   "execution_count": 50,
   "id": "5df40315",
   "metadata": {},
   "outputs": [
    {
     "name": "stderr",
     "output_type": "stream",
     "text": [
      "WARNING:apache_beam.io.filebasedsink:Deleting 1 existing files in target path matching: -*-of-%(num_shards)05d\n"
     ]
    },
    {
     "name": "stdout",
     "output_type": "stream",
     "text": [
      "('Marco', 31)\r\n",
      "('Rebekah', 31)\r\n",
      "('Itoe', 31)\r\n",
      "('Edouard', 31)\r\n",
      "('Kyle', 62)\r\n",
      "('Kumiko', 31)\r\n",
      "('Gaston', 31)\r\n",
      "('Ayumi', 30)\r\n"
     ]
    }
   ],
   "source": [
    "p5 = beam.Pipeline()\n",
    "attendence_count = (       \n",
    "    p5\n",
    "    |beam.io.ReadFromText('dept_data.txt')\n",
    "    \n",
    "    |beam.Map(SplitRow) #Singleline output\n",
    "    # |beam.Map(lambda record: record.split(','))\n",
    "    \n",
    "    |beam.Filter(Filtering)\n",
    "    # |beam.Filter(lambda record: record[3] == \"Accounts\")\n",
    "    \n",
    "    |beam.Map(lambda record: (record[1],1))\n",
    "    \n",
    "    |beam.CombinePerKey(sum)\n",
    "    \n",
    "    |beam.io.WriteToText('data/output')\n",
    ")\n",
    "p5.run()\n",
    "!{'head -n 20 data/output-00000-of-00001'}"
   ]
  },
  {
   "cell_type": "code",
   "execution_count": null,
   "id": "8a005901",
   "metadata": {},
   "outputs": [],
   "source": []
  }
 ],
 "metadata": {
  "kernelspec": {
   "display_name": "Python 3 (ipykernel)",
   "language": "python",
   "name": "python3"
  },
  "language_info": {
   "codemirror_mode": {
    "name": "ipython",
    "version": 3
   },
   "file_extension": ".py",
   "mimetype": "text/x-python",
   "name": "python",
   "nbconvert_exporter": "python",
   "pygments_lexer": "ipython3",
   "version": "3.10.9"
  }
 },
 "nbformat": 4,
 "nbformat_minor": 5
}
