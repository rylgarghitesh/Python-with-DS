{
 "cells": [
  {
   "cell_type": "code",
   "execution_count": 1,
   "id": "b1081d4a",
   "metadata": {},
   "outputs": [
    {
     "name": "stdout",
     "output_type": "stream",
     "text": [
      "Note: you may need to restart the kernel to use updated packages.\n"
     ]
    }
   ],
   "source": [
    "pip install --quiet apache-beam"
   ]
  },
  {
   "cell_type": "code",
   "execution_count": 3,
   "id": "4701c3b4",
   "metadata": {},
   "outputs": [],
   "source": [
    "import apache_beam as beam\n",
    "from apache_beam.runners.interactive.interactive_runner import InteractiveRunner\n",
    "import apache_beam.runners.interactive.interactive_beam as ib"
   ]
  },
  {
   "cell_type": "code",
   "execution_count": 40,
   "id": "5c4d4dc2",
   "metadata": {},
   "outputs": [
    {
     "name": "stderr",
     "output_type": "stream",
     "text": [
      "WARNING:apache_beam.io.filebasedsink:Deleting 1 existing files in target path matching: -*-of-%(num_shards)05d\n"
     ]
    },
    {
     "name": "stdout",
     "output_type": "stream",
     "text": [
      "149633CM,Marco,10,Accounts,1-01-2019\r\n",
      "212539MU,Rebekah,10,Accounts,1-01-2019\r\n",
      "231555ZZ,Itoe,10,Accounts,1-01-2019\r\n",
      "503996WI,Edouard,10,Accounts,1-01-2019\r\n",
      "704275DC,Kyle,10,Accounts,1-01-2019\r\n",
      "957149WC,Kyle,10,Accounts,1-01-2019\r\n",
      "241316NX,Kumiko,10,Accounts,1-01-2019\r\n",
      "796656IE,Gaston,10,Accounts,1-01-2019\r\n",
      "331593PS,Beryl,20,HR,1-01-2019\r\n",
      "560447WH,Olga,20,HR,1-01-2019\r\n",
      "222997TJ,Leslie,20,HR,1-01-2019\r\n",
      "171752SY,Mindy,20,HR,1-01-2019\r\n",
      "153636AS,Vicky,20,HR,1-01-2019\r\n",
      "745411HT,Richard,20,HR,1-01-2019\r\n",
      "298464HN,Kirk,20,HR,1-01-2019\r\n",
      "783950BW,Kaori,20,HR,1-01-2019\r\n",
      "892691AR,Beryl,20,HR,1-01-2019\r\n",
      "245668UZ,Oscar,20,HR,1-01-2019\r\n",
      "231206QD,Kumiko,30,Finance,1-01-2019\r\n",
      "357919KT,Wendy,30,Finance,1-01-2019\r\n"
     ]
    }
   ],
   "source": [
    "p1 = beam.Pipeline()\n",
    "attendence_count = (\n",
    "    p1 \n",
    "    | beam.io.ReadFromText('dept_data.txt')\n",
    "    | beam.io.WriteToText('data/output')       \n",
    ")\n",
    "\n",
    "p1.run()\n",
    "\n",
    "!{'head -n 20 data/output-00000-of-00001'}"
   ]
  },
  {
   "cell_type": "code",
   "execution_count": 10,
   "id": "75771e46",
   "metadata": {},
   "outputs": [],
   "source": [
    "def SplitRow(element):\n",
    "    return element.split(',')"
   ]
  },
  {
   "cell_type": "code",
   "execution_count": 11,
   "id": "54ba7bfc",
   "metadata": {},
   "outputs": [
    {
     "name": "stderr",
     "output_type": "stream",
     "text": [
      "WARNING:apache_beam.io.filebasedsink:Deleting 1 existing files in target path matching: -*-of-%(num_shards)05d\n"
     ]
    },
    {
     "name": "stdout",
     "output_type": "stream",
     "text": [
      "['149633CM', 'Marco', '10', 'Accounts', '1-01-2019']\r\n",
      "['212539MU', 'Rebekah', '10', 'Accounts', '1-01-2019']\r\n",
      "['231555ZZ', 'Itoe', '10', 'Accounts', '1-01-2019']\r\n",
      "['503996WI', 'Edouard', '10', 'Accounts', '1-01-2019']\r\n",
      "['704275DC', 'Kyle', '10', 'Accounts', '1-01-2019']\r\n",
      "['957149WC', 'Kyle', '10', 'Accounts', '1-01-2019']\r\n",
      "['241316NX', 'Kumiko', '10', 'Accounts', '1-01-2019']\r\n",
      "['796656IE', 'Gaston', '10', 'Accounts', '1-01-2019']\r\n",
      "['331593PS', 'Beryl', '20', 'HR', '1-01-2019']\r\n",
      "['560447WH', 'Olga', '20', 'HR', '1-01-2019']\r\n",
      "['222997TJ', 'Leslie', '20', 'HR', '1-01-2019']\r\n",
      "['171752SY', 'Mindy', '20', 'HR', '1-01-2019']\r\n",
      "['153636AS', 'Vicky', '20', 'HR', '1-01-2019']\r\n",
      "['745411HT', 'Richard', '20', 'HR', '1-01-2019']\r\n",
      "['298464HN', 'Kirk', '20', 'HR', '1-01-2019']\r\n",
      "['783950BW', 'Kaori', '20', 'HR', '1-01-2019']\r\n",
      "['892691AR', 'Beryl', '20', 'HR', '1-01-2019']\r\n",
      "['245668UZ', 'Oscar', '20', 'HR', '1-01-2019']\r\n",
      "['231206QD', 'Kumiko', '30', 'Finance', '1-01-2019']\r\n",
      "['357919KT', 'Wendy', '30', 'Finance', '1-01-2019']\r\n"
     ]
    }
   ],
   "source": [
    "p2 = beam.Pipeline()\n",
    "attendence_count = (       \n",
    "    p2 \n",
    "    |beam.io.ReadFromText('dept_data.txt')\n",
    "    |beam.Map(SplitRow) #Singleline output\n",
    "    |beam.io.WriteToText('data/output')\n",
    ")\n",
    "p2.run()\n",
    "\n",
    "!{'head -n 20 data/output-00000-of-00001'}"
   ]
  },
  {
   "cell_type": "code",
   "execution_count": 12,
   "id": "379669d4",
   "metadata": {},
   "outputs": [
    {
     "name": "stderr",
     "output_type": "stream",
     "text": [
      "WARNING:apache_beam.io.filebasedsink:Deleting 1 existing files in target path matching: -*-of-%(num_shards)05d\n"
     ]
    },
    {
     "name": "stdout",
     "output_type": "stream",
     "text": [
      "149633CM\r\n",
      "Marco\r\n",
      "10\r\n",
      "Accounts\r\n",
      "1-01-2019\r\n",
      "212539MU\r\n",
      "Rebekah\r\n",
      "10\r\n",
      "Accounts\r\n",
      "1-01-2019\r\n",
      "231555ZZ\r\n",
      "Itoe\r\n",
      "10\r\n",
      "Accounts\r\n",
      "1-01-2019\r\n",
      "503996WI\r\n",
      "Edouard\r\n",
      "10\r\n",
      "Accounts\r\n",
      "1-01-2019\r\n"
     ]
    }
   ],
   "source": [
    "p3 = beam.Pipeline()\n",
    "attendence_count = (       \n",
    "    p3 \n",
    "    |beam.io.ReadFromText('dept_data.txt')\n",
    "    |beam.FlatMap(SplitRow) #Multiline output\n",
    "    |beam.io.WriteToText('data/output')\n",
    ")\n",
    "p3.run()\n",
    "!{'head -n 20 data/output-00000-of-00001'}"
   ]
  },
  {
   "cell_type": "code",
   "execution_count": 13,
   "id": "5d548982",
   "metadata": {},
   "outputs": [],
   "source": [
    "def Filtering(record):\n",
    "    return record[3] == \"Accounts\""
   ]
  },
  {
   "cell_type": "code",
   "execution_count": 14,
   "id": "01637245",
   "metadata": {},
   "outputs": [
    {
     "name": "stderr",
     "output_type": "stream",
     "text": [
      "WARNING:apache_beam.io.filebasedsink:Deleting 1 existing files in target path matching: -*-of-%(num_shards)05d\n"
     ]
    },
    {
     "name": "stdout",
     "output_type": "stream",
     "text": [
      "['149633CM', 'Marco', '10', 'Accounts', '1-01-2019']\r\n",
      "['212539MU', 'Rebekah', '10', 'Accounts', '1-01-2019']\r\n",
      "['231555ZZ', 'Itoe', '10', 'Accounts', '1-01-2019']\r\n",
      "['503996WI', 'Edouard', '10', 'Accounts', '1-01-2019']\r\n",
      "['704275DC', 'Kyle', '10', 'Accounts', '1-01-2019']\r\n",
      "['957149WC', 'Kyle', '10', 'Accounts', '1-01-2019']\r\n",
      "['241316NX', 'Kumiko', '10', 'Accounts', '1-01-2019']\r\n",
      "['796656IE', 'Gaston', '10', 'Accounts', '1-01-2019']\r\n",
      "['149633CM', 'Marco', '10', 'Accounts', '2-01-2019']\r\n",
      "['212539MU', 'Rebekah', '10', 'Accounts', '2-01-2019']\r\n",
      "['231555ZZ', 'Itoe', '10', 'Accounts', '2-01-2019']\r\n",
      "['503996WI', 'Edouard', '10', 'Accounts', '2-01-2019']\r\n",
      "['704275DC', 'Kyle', '10', 'Accounts', '2-01-2019']\r\n",
      "['957149WC', 'Kyle', '10', 'Accounts', '2-01-2019']\r\n",
      "['241316NX', 'Kumiko', '10', 'Accounts', '2-01-2019']\r\n",
      "['796656IE', 'Gaston', '10', 'Accounts', '2-01-2019']\r\n",
      "['718737IX', 'Ayumi', '10', 'Accounts', '2-01-2019']\r\n",
      "['149633CM', 'Marco', '10', 'Accounts', '3-01-2019']\r\n",
      "['212539MU', 'Rebekah', '10', 'Accounts', '3-01-2019']\r\n",
      "['231555ZZ', 'Itoe', '10', 'Accounts', '3-01-2019']\r\n"
     ]
    }
   ],
   "source": [
    "p4 = beam.Pipeline()\n",
    "attendence_count = (       \n",
    "    p4\n",
    "    |beam.io.ReadFromText('dept_data.txt')\n",
    "    |beam.Map(SplitRow) #Singleline output\n",
    "    |beam.Filter(Filtering)\n",
    "    |beam.io.WriteToText('data/output')\n",
    ")\n",
    "p4.run()\n",
    "!{'head -n 20 data/output-00000-of-00001'}"
   ]
  },
  {
   "cell_type": "code",
   "execution_count": 15,
   "id": "f281b490",
   "metadata": {},
   "outputs": [
    {
     "name": "stderr",
     "output_type": "stream",
     "text": [
      "WARNING:apache_beam.io.filebasedsink:Deleting 1 existing files in target path matching: -*-of-%(num_shards)05d\n"
     ]
    },
    {
     "name": "stdout",
     "output_type": "stream",
     "text": [
      "('Marco', 31)\r\n",
      "('Rebekah', 31)\r\n",
      "('Itoe', 31)\r\n",
      "('Edouard', 31)\r\n",
      "('Kyle', 62)\r\n",
      "('Kumiko', 31)\r\n",
      "('Gaston', 31)\r\n",
      "('Ayumi', 30)\r\n"
     ]
    }
   ],
   "source": [
    "p5 = beam.Pipeline()\n",
    "attendence_count = (       \n",
    "    p5\n",
    "    |beam.io.ReadFromText('dept_data.txt')\n",
    "    \n",
    "    |beam.Map(SplitRow) #Singleline output\n",
    "    # |beam.Map(lambda record: record.split(','))\n",
    "    \n",
    "    |beam.Filter(Filtering)\n",
    "    # |beam.Filter(lambda record: record[3] == \"Accounts\")\n",
    "    \n",
    "    |beam.Map(lambda record: (record[1],1))\n",
    "    \n",
    "    |beam.CombinePerKey(sum)\n",
    "    \n",
    "    |beam.io.WriteToText('data/output')\n",
    ")\n",
    "p5.run()\n",
    "!{'head -n 20 data/output-00000-of-00001'}"
   ]
  },
  {
   "cell_type": "code",
   "execution_count": 16,
   "id": "00fc3cb6",
   "metadata": {},
   "outputs": [
    {
     "name": "stderr",
     "output_type": "stream",
     "text": [
      "WARNING:apache_beam.io.filebasedsink:Deleting 1 existing files in target path matching: -*-of-%(num_shards)05d\n"
     ]
    },
    {
     "name": "stdout",
     "output_type": "stream",
     "text": [
      "('Marco', 31)\r\n",
      "('Rebekah', 31)\r\n",
      "('Itoe', 31)\r\n",
      "('Edouard', 31)\r\n",
      "('Kyle', 62)\r\n",
      "('Kumiko', 31)\r\n",
      "('Gaston', 31)\r\n",
      "('Ayumi', 30)\r\n"
     ]
    }
   ],
   "source": [
    "p6 = beam.Pipeline()\n",
    "attendence_count = (       \n",
    "    p6\n",
    "    | \"Read from file\" >> beam.io.ReadFromText('dept_data.txt')\n",
    "    \n",
    "    | \"Map transform based on ,\" >> beam.Map(SplitRow) #Singleline output\n",
    "    # |beam.Map(lambda record: record.split(','))\n",
    "    \n",
    "    | \"Filtering based on 'accounts'\" >> beam.Filter(Filtering)\n",
    "    # |beam.Filter(lambda record: record[3] == \"Accounts\")\n",
    "    \n",
    "    | \"Map transform based on record\" >> beam.Map(lambda record: (record[1],1))\n",
    "    \n",
    "    | \"Combine records\" >> beam.CombinePerKey(sum)\n",
    "    \n",
    "    | \"Output to file\" >> beam.io.WriteToText('data/output')\n",
    ")\n",
    "p6.run()\n",
    "!{'head -n 20 data/output-00000-of-00001'}"
   ]
  },
  {
   "cell_type": "code",
   "execution_count": 17,
   "id": "2044fff8",
   "metadata": {},
   "outputs": [
    {
     "name": "stderr",
     "output_type": "stream",
     "text": [
      "WARNING:apache_beam.io.filebasedsink:Deleting 1 existing files in target path matching: -*-of-%(num_shards)05d\n"
     ]
    },
    {
     "name": "stdout",
     "output_type": "stream",
     "text": [
      "('Marco', 31)\r\n",
      "('Rebekah', 31)\r\n",
      "('Itoe', 31)\r\n",
      "('Edouard', 31)\r\n",
      "('Kyle', 62)\r\n",
      "('Kumiko', 31)\r\n",
      "('Gaston', 31)\r\n",
      "('Ayumi', 30)\r\n"
     ]
    }
   ],
   "source": [
    "with beam.Pipeline() as p7: \n",
    "    attendence_count = (       \n",
    "        p7\n",
    "        | \"Read from file\" >> beam.io.ReadFromText('dept_data.txt')\n",
    "\n",
    "        | \"Map transform based on ,\" >> beam.Map(SplitRow) #Singleline output\n",
    "        # |beam.Map(lambda record: record.split(','))\n",
    "\n",
    "        | \"Filtering based on 'accounts'\" >> beam.Filter(Filtering)\n",
    "        # |beam.Filter(lambda record: record[3] == \"Accounts\")\n",
    "\n",
    "        | \"Map transform based on record\" >> beam.Map(lambda record: (record[1],1))\n",
    "\n",
    "        | \"Combine records\" >> beam.CombinePerKey(sum)\n",
    "\n",
    "        | \"Output to file\" >> beam.io.WriteToText('data/output')\n",
    "    )\n",
    "    \n",
    "!{'head -n 20 data/output-00000-of-00001'}"
   ]
  },
  {
   "cell_type": "markdown",
   "id": "7897cb75",
   "metadata": {},
   "source": [
    "----------"
   ]
  },
  {
   "cell_type": "code",
   "execution_count": 31,
   "id": "fef74fe9",
   "metadata": {},
   "outputs": [
    {
     "name": "stderr",
     "output_type": "stream",
     "text": [
      "WARNING:apache_beam.io.filebasedsink:Deleting 1 existing files in target path matching: -*-of-%(num_shards)05d\n"
     ]
    },
    {
     "name": "stdout",
     "output_type": "stream",
     "text": [
      "('Accounts, Marco', 31)\r\n",
      "('Accounts, Rebekah', 31)\r\n",
      "('Accounts, Itoe', 31)\r\n",
      "('Accounts, Edouard', 31)\r\n",
      "('Accounts, Kyle', 62)\r\n",
      "('Accounts, Kumiko', 31)\r\n",
      "('Accounts, Gaston', 31)\r\n",
      "('Accounts, Ayumi', 30)\r\n",
      "('HR, Beryl', 62)\r\n",
      "('HR, Olga', 31)\r\n",
      "('HR, Leslie', 31)\r\n",
      "('HR, Mindy', 31)\r\n",
      "('HR, Vicky', 31)\r\n",
      "('HR, Richard', 31)\r\n",
      "('HR, Kirk', 31)\r\n",
      "('HR, Kaori', 31)\r\n",
      "('HR, Oscar', 31)\r\n"
     ]
    }
   ],
   "source": [
    "p8 = beam.Pipeline()\n",
    "\n",
    "input_collection = (\n",
    "    p8\n",
    "    | \"Read from file\" >> beam.io.ReadFromText('dept_data.txt')\n",
    "\n",
    "    | \"Map transform based on ,\" >> beam.Map(SplitRow) #Singleline output\n",
    "    # |beam.Map(lambda record: record.split(','))\n",
    ")\n",
    "\n",
    "account_count = (\n",
    "    input_collection\n",
    "    | \"Filtering based on 'accounts'\" >> beam.Filter(Filtering)\n",
    "        # |beam.Filter(lambda record: record[3] == \"Accounts\")\n",
    "    | \"Map transform based on record\" >> beam.Map(lambda record: (\"Accounts, \"+record[1],1))\n",
    "\n",
    "    | \"Combine records\" >> beam.CombinePerKey(sum)\n",
    "\n",
    "#     | \"Output to file\" >> beam.io.WriteToText('data/account')\n",
    ")\n",
    "\n",
    "hr_count = (\n",
    "    input_collection\n",
    "#     | \"Filtering based on 'accounts'\" >> beam.Filter(Filtering)\n",
    "    | \"Filtering based on 'hr'\" >> beam.Filter(lambda record: record[3] == \"HR\")\n",
    "    \n",
    "    | \"Map transform based on hr record\" >> beam.Map(lambda record: (\"HR, \" + record[1],1))\n",
    "\n",
    "    | \"Combining records\" >> beam.CombinePerKey(sum)\n",
    "\n",
    "#     | \"Output to file in hr\" >> beam.io.WriteToText('data/hr')\n",
    ")\n",
    "\n",
    "output = (\n",
    "    (account_count, hr_count)\n",
    "    |beam.Flatten()\n",
    "    |beam.io.WriteToText('data/both')\n",
    ")\n",
    "\n",
    "p8.run()\n",
    "\n",
    "\n",
    "# !{'head -n 20 data/account-00000-of-00001'}\n",
    "\n",
    "# !{'head -n 20 data/hr-00000-of-00001'}\n",
    "    \n",
    "!{'head -n 20 data/both-00000-of-00001'}"
   ]
  },
  {
   "cell_type": "markdown",
   "id": "a26af749",
   "metadata": {},
   "source": [
    "-------"
   ]
  },
  {
   "cell_type": "markdown",
   "id": "fc20398d",
   "metadata": {},
   "source": [
    "# Assignment"
   ]
  },
  {
   "cell_type": "code",
   "execution_count": 39,
   "id": "bf0f03e8",
   "metadata": {},
   "outputs": [
    {
     "name": "stderr",
     "output_type": "stream",
     "text": [
      "WARNING:apache_beam.io.filebasedsink:Deleting 1 existing files in target path matching: -*-of-%(num_shards)05d\n"
     ]
    },
    {
     "name": "stdout",
     "output_type": "stream",
     "text": [
      "('149633CM', 31)\r\n",
      "('Marco', 31)\r\n",
      "('10', 278)\r\n",
      "('Accounts', 278)\r\n",
      "('1-01-2019', 28)\r\n",
      "('212539MU', 31)\r\n",
      "('Rebekah', 31)\r\n",
      "('231555ZZ', 31)\r\n",
      "('Itoe', 31)\r\n",
      "('503996WI', 31)\r\n",
      "('Edouard', 31)\r\n",
      "('704275DC', 31)\r\n",
      "('Kyle', 62)\r\n",
      "('957149WC', 31)\r\n",
      "('241316NX', 31)\r\n",
      "('Kumiko', 62)\r\n",
      "('796656IE', 31)\r\n",
      "('Gaston', 31)\r\n",
      "('331593PS', 31)\r\n",
      "('Beryl', 62)\r\n"
     ]
    }
   ],
   "source": [
    "word_assignment = beam.Pipeline()\n",
    "\n",
    "input_collection = (\n",
    "    word_assignment\n",
    "    | \"Read from file\" >> beam.io.ReadFromText('dept_data.txt')\n",
    "    | \"Word extracted\" >> beam.FlatMap(lambda record: record.split(','))\n",
    ")\n",
    "\n",
    "word_count = (\n",
    "    input_collection\n",
    "    | \"Map transform based on record\" >> beam.Map(lambda record: (record,1))\n",
    "    | \"Combine records\" >> beam.CombinePerKey(sum)\n",
    "\n",
    ")\n",
    "\n",
    "output = (\n",
    "    word_count\n",
    "    |beam.io.WriteToText('data/assignment/1')\n",
    ")\n",
    "\n",
    "word_assignment.run()\n",
    "\n",
    "    \n",
    "!{'head -n 20 data/assignment/1-00000-of-00001'}"
   ]
  },
  {
   "cell_type": "code",
   "execution_count": null,
   "id": "ccabea84",
   "metadata": {},
   "outputs": [],
   "source": []
  },
  {
   "cell_type": "code",
   "execution_count": null,
   "id": "b766354b",
   "metadata": {},
   "outputs": [],
   "source": []
  },
  {
   "cell_type": "code",
   "execution_count": null,
   "id": "0dd520aa",
   "metadata": {},
   "outputs": [],
   "source": []
  }
 ],
 "metadata": {
  "kernelspec": {
   "display_name": "Python 3 (ipykernel)",
   "language": "python",
   "name": "python3"
  },
  "language_info": {
   "codemirror_mode": {
    "name": "ipython",
    "version": 3
   },
   "file_extension": ".py",
   "mimetype": "text/x-python",
   "name": "python",
   "nbconvert_exporter": "python",
   "pygments_lexer": "ipython3",
   "version": "3.10.9"
  }
 },
 "nbformat": 4,
 "nbformat_minor": 5
}
