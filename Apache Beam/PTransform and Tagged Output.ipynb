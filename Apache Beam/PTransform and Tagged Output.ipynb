{
 "cells": [
  {
   "cell_type": "code",
   "execution_count": 1,
   "id": "f71e15c7",
   "metadata": {},
   "outputs": [],
   "source": [
    "import apache_beam as beam\n",
    "from apache_beam.runners.interactive.interactive_runner import InteractiveRunner\n",
    "import apache_beam.runners.interactive.interactive_beam as ib"
   ]
  },
  {
   "cell_type": "code",
   "execution_count": 3,
   "id": "f19a9827",
   "metadata": {},
   "outputs": [
    {
     "name": "stdout",
     "output_type": "stream",
     "text": [
      "149633CM\r",
      "\r\n",
      "212539MU\r",
      "\r\n",
      "231555ZZ\r",
      "\r\n",
      "704275DC"
     ]
    }
   ],
   "source": [
    "!{'head -n 4 exclude_ids.txt'}"
   ]
  },
  {
   "cell_type": "code",
   "execution_count": 4,
   "id": "5b3bb798",
   "metadata": {},
   "outputs": [
    {
     "name": "stdout",
     "output_type": "stream",
     "text": [
      "149633CM,Marco,10,Accounts,1-01-2019\r",
      "\r\n",
      "212539MU,Rebekah,10,Accounts,1-01-2019\r",
      "\r\n",
      "231555ZZ,Itoe,10,Accounts,1-01-2019\r",
      "\r\n",
      "503996WI,Edouard,10,Accounts,1-01-2019\r",
      "\r\n",
      "704275DC,Kyle,10,Accounts,1-01-2019\r",
      "\r\n",
      "957149WC,Kyle,10,Accounts,1-01-2019\r",
      "\r\n",
      "241316NX,Kumiko,10,Accounts,1-01-2019\r",
      "\r\n",
      "796656IE,Gaston,10,Accounts,1-01-2019\r",
      "\r\n",
      "331593PS,Beryl,20,HR,1-01-2019\r",
      "\r\n",
      "560447WH,Olga,20,HR,1-01-2019\r",
      "\r\n"
     ]
    }
   ],
   "source": [
    "!{'head -n 10 dept_data.txt'}"
   ]
  },
  {
   "cell_type": "markdown",
   "id": "08e19a7b",
   "metadata": {},
   "source": [
    "------"
   ]
  },
  {
   "cell_type": "markdown",
   "id": "f8052d39",
   "metadata": {},
   "source": [
    "# Additional Input / Output"
   ]
  },
  {
   "cell_type": "code",
   "execution_count": 5,
   "id": "e96358bb",
   "metadata": {},
   "outputs": [],
   "source": [
    "class FilterUsingLength(beam.DoFn):\n",
    "    \n",
    "    def process(self, element_row, side_list, lower, upper ):\n",
    "        element = element_row.split(',')\n",
    "        id = element[0]\n",
    "        name = element[1]\n",
    "        if (lower <= len(name) <= upper) and id not in side_list:\n",
    "            return [element]"
   ]
  },
  {
   "cell_type": "code",
   "execution_count": 6,
   "id": "6583647f",
   "metadata": {},
   "outputs": [
    {
     "name": "stdout",
     "output_type": "stream",
     "text": [
      "['149633CM', '212539MU', '231555ZZ', '704275DC']\n"
     ]
    }
   ],
   "source": [
    "side_list = list()\n",
    "with open ('exclude_ids.txt', 'r') as myfile:\n",
    "    for line in myfile:\n",
    "        side_list.append(line.rstrip())\n",
    "\n",
    "print(side_list)"
   ]
  },
  {
   "cell_type": "code",
   "execution_count": 7,
   "id": "3661f5fd",
   "metadata": {},
   "outputs": [
    {
     "name": "stderr",
     "output_type": "stream",
     "text": [
      "WARNING:apache_beam.runners.interactive.interactive_environment:Dependencies required for Interactive Beam PCollection visualization are not available, please use: `pip install apache-beam[interactive]` to install necessary dependencies to enable all data visualization features.\n"
     ]
    },
    {
     "data": {
      "application/javascript": [
       "\n",
       "        if (typeof window.interactive_beam_jquery == 'undefined') {\n",
       "          var jqueryScript = document.createElement('script');\n",
       "          jqueryScript.src = 'https://code.jquery.com/jquery-3.4.1.slim.min.js';\n",
       "          jqueryScript.type = 'text/javascript';\n",
       "          jqueryScript.onload = function() {\n",
       "            var datatableScript = document.createElement('script');\n",
       "            datatableScript.src = 'https://cdn.datatables.net/1.10.20/js/jquery.dataTables.min.js';\n",
       "            datatableScript.type = 'text/javascript';\n",
       "            datatableScript.onload = function() {\n",
       "              window.interactive_beam_jquery = jQuery.noConflict(true);\n",
       "              window.interactive_beam_jquery(document).ready(function($){\n",
       "                \n",
       "              });\n",
       "            }\n",
       "            document.head.appendChild(datatableScript);\n",
       "          };\n",
       "          document.head.appendChild(jqueryScript);\n",
       "        } else {\n",
       "          window.interactive_beam_jquery(document).ready(function($){\n",
       "            \n",
       "          });\n",
       "        }"
      ]
     },
     "metadata": {},
     "output_type": "display_data"
    },
    {
     "name": "stdout",
     "output_type": "stream",
     "text": [
      "('503996WI, Edouard', 31)\r\n",
      "('957149WC, Kyle', 31)\r\n",
      "('241316NX, Kumiko', 31)\r\n",
      "('796656IE, Gaston', 31)\r\n",
      "('718737IX, Ayumi', 30)\r\n"
     ]
    }
   ],
   "source": [
    "with beam.Pipeline() as p1:\n",
    "    attendence_count = ( \n",
    "        p1\n",
    "        | \"Read from file\" >> beam.io.ReadFromText('dept_data.txt')\n",
    "        | \"Par do with side inputs\" >> beam.ParDo(FilterUsingLength(), side_list, 3, 10)\n",
    "        | \"Filtering based on 'accounts'\" >> beam.Filter(lambda record: record[3] == \"Accounts\")\n",
    "        | \"Map transform based on account record\" >> beam.Map(lambda record: (record[0] + \", \" + record[1],1))\n",
    "        | \"Group and sum\" >> beam.CombinePerKey(sum)\n",
    "        | \"write to dep\" >> beam.io.WriteToText('data/dep')\n",
    "    )\n",
    "    \n",
    "!{'head -n 20 data/dep-00000-of-00001'}"
   ]
  },
  {
   "cell_type": "markdown",
   "id": "6e635efd",
   "metadata": {},
   "source": [
    "----"
   ]
  },
  {
   "cell_type": "code",
   "execution_count": 8,
   "id": "746950f4",
   "metadata": {},
   "outputs": [],
   "source": [
    "class ProcessWords(beam.DoFn):\n",
    "    def process(self, element, cutoff, marker):\n",
    "        name = element.split(\",\")[1]\n",
    "        \n",
    "        if len(name) <= cutoff:\n",
    "            return [beam.pvalue.TaggedOutput(\"Short_Names\",name)]\n",
    "        else:\n",
    "            return [beam.pvalue.TaggedOutput(\"Long_Names\",name)]\n",
    "        \n",
    "        if name.startswith(marker):\n",
    "            return name"
   ]
  },
  {
   "cell_type": "code",
   "execution_count": 17,
   "id": "a52d35d0",
   "metadata": {},
   "outputs": [
    {
     "name": "stderr",
     "output_type": "stream",
     "text": [
      "WARNING:apache_beam.io.filebasedsink:Deleting 1 existing files in target path matching: -*-of-%(num_shards)05d\n",
      "WARNING:apache_beam.io.filebasedsink:Deleting 1 existing files in target path matching: -*-of-%(num_shards)05d\n",
      "WARNING:apache_beam.io.filebasedsink:No shards found to finalize. num_shards: 1, skipped: 1\n"
     ]
    },
    {
     "data": {
      "text/plain": [
       "<apache_beam.runners.portability.fn_api_runner.fn_runner.RunnerResult at 0x7fbbbb28fe80>"
      ]
     },
     "execution_count": 17,
     "metadata": {},
     "output_type": "execute_result"
    }
   ],
   "source": [
    "p2 = beam.Pipeline()\n",
    "    \n",
    "attendence_count = ( \n",
    "    p2\n",
    "    | beam.io.ReadFromText('dept_data.txt')\n",
    "    | beam.ParDo(ProcessWords(), cutoff=4, marker='M').with_outputs(\"Short_Names\",\"Long_Names\",main=\"Names_M\")\n",
    ")\n",
    "    \n",
    "short_coll = attendence_count.Short_Names\n",
    "long_coll = attendence_count.Long_Names\n",
    "start_M = attendence_count.Names_M\n",
    "    \n",
    "short_coll | \"short\" >> beam.io.WriteToText('data/short')\n",
    "long_coll | \"long\" >> beam.io.WriteToText('data/long')\n",
    "start_M | \"start\" >> beam.io.WriteToText('data/start')\n",
    "\n",
    "p2.run()"
   ]
  },
  {
   "cell_type": "code",
   "execution_count": 18,
   "id": "5b09a93d",
   "metadata": {},
   "outputs": [
    {
     "name": "stdout",
     "output_type": "stream",
     "text": [
      "Itoe\r\n",
      "Kyle\r\n",
      "Kyle\r\n",
      "Olga\r\n",
      "Kirk\r\n"
     ]
    }
   ],
   "source": [
    "!{'head -n 5 data/short-00000-of-00001'}"
   ]
  },
  {
   "cell_type": "code",
   "execution_count": 19,
   "id": "cb3c5e14",
   "metadata": {},
   "outputs": [
    {
     "name": "stdout",
     "output_type": "stream",
     "text": [
      "Marco\r\n",
      "Rebekah\r\n",
      "Edouard\r\n",
      "Kumiko\r\n",
      "Gaston\r\n"
     ]
    }
   ],
   "source": [
    "!{'head -n 5 data/long-00000-of-00001'}"
   ]
  },
  {
   "cell_type": "code",
   "execution_count": 20,
   "id": "f4589011",
   "metadata": {},
   "outputs": [],
   "source": [
    "!{'head -n 5 data/start-00000-of-00001'}"
   ]
  },
  {
   "cell_type": "code",
   "execution_count": null,
   "id": "0efead18",
   "metadata": {},
   "outputs": [],
   "source": []
  },
  {
   "cell_type": "code",
   "execution_count": null,
   "id": "3a018673",
   "metadata": {},
   "outputs": [],
   "source": []
  }
 ],
 "metadata": {
  "kernelspec": {
   "display_name": "Python 3 (ipykernel)",
   "language": "python",
   "name": "python3"
  },
  "language_info": {
   "codemirror_mode": {
    "name": "ipython",
    "version": 3
   },
   "file_extension": ".py",
   "mimetype": "text/x-python",
   "name": "python",
   "nbconvert_exporter": "python",
   "pygments_lexer": "ipython3",
   "version": "3.10.9"
  }
 },
 "nbformat": 4,
 "nbformat_minor": 5
}
