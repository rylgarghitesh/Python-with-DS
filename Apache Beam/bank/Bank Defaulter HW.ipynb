{
 "cells": [
  {
   "cell_type": "code",
   "execution_count": 1,
   "id": "300cc4f3",
   "metadata": {},
   "outputs": [],
   "source": [
    "import apache_beam as beam\n",
    "from datetime import datetime\n",
    "import typing"
   ]
  },
  {
   "cell_type": "code",
   "execution_count": 2,
   "id": "668e627e",
   "metadata": {},
   "outputs": [
    {
     "name": "stdout",
     "output_type": "stream",
     "text": [
      "Bank Defaulter HW.ipynb  cards.txt                loan.txt\r\n",
      "Bank_requirements.txt    \u001b[34mdata\u001b[m\u001b[m/                    \u001b[34moutputs\u001b[m\u001b[m/\r\n"
     ]
    }
   ],
   "source": [
    "ls"
   ]
  },
  {
   "cell_type": "code",
   "execution_count": 3,
   "id": "1f2e7a22",
   "metadata": {},
   "outputs": [],
   "source": [
    "def calculate_points(element):\n",
    "    \n",
    "    customer_id, first_name, last_name, realtionship_id, card_type, max_limit, spent, cash_withdrawn,payment_cleared,payment_date = element.split(',')\n",
    "    \n",
    "    spent = int(spent)\n",
    "    payment_cleared = int(payment_cleared)   \n",
    "    max_limit = int(max_limit)\n",
    "    \n",
    "    key_name = customer_id + ', ' + first_name + ' ' + last_name \n",
    "    defaulter_points = 0\n",
    "\n",
    "    if payment_cleared < (spent * 0.7): \n",
    "        defaulter_points += 1                                                \n",
    "\n",
    "    if (spent == max_limit) and (payment_cleared < spent): \n",
    "        defaulter_points += 1                                                \n",
    "\n",
    "    if (spent == max_limit) and (payment_cleared < (spent*0.7)): \n",
    "        defaulter_points += 1                                               \n",
    "\n",
    "    return key_name, defaulter_points"
   ]
  },
  {
   "cell_type": "code",
   "execution_count": 4,
   "id": "dd3c9d94",
   "metadata": {},
   "outputs": [],
   "source": [
    "def format_result(sum_pair):\n",
    "    key_name, defaulter_points = sum_pair\n",
    "    return str(key_name) + ', ' + str(defaulter_points) + ' fraud_points'  "
   ]
  },
  {
   "cell_type": "code",
   "execution_count": 5,
   "id": "e772b5ce",
   "metadata": {},
   "outputs": [],
   "source": [
    "def calculate_late_payment(elements):               \n",
    "    due_date = datetime.strptime(elements[6].rstrip().lstrip(), '%d-%m-%Y')      \n",
    "    payment_date = datetime.strptime(elements[8].rstrip().lstrip(), '%d-%m-%Y')\n",
    "\n",
    "    if payment_date <= due_date:\n",
    "        elements.append('0') \n",
    "    else:\n",
    "        elements.append('1')                          \n",
    "    return elements"
   ]
  },
  {
   "cell_type": "code",
   "execution_count": 6,
   "id": "17f036d6",
   "metadata": {},
   "outputs": [],
   "source": [
    "def format_output(sum_pair):\n",
    "    key_name, miss_months = sum_pair\n",
    "    return str(key_name) + ', ' + str(miss_months) + ' missed'"
   ]
  },
  {
   "cell_type": "code",
   "execution_count": 7,
   "id": "058778bd",
   "metadata": {},
   "outputs": [],
   "source": [
    "def calculate_month(input_list):        \n",
    "    payment_date = datetime.strptime(input_list[8].rstrip().lstrip(), '%d-%m-%Y')  \n",
    "    input_list.append(str(payment_date.month))\n",
    "    return input_list "
   ]
  },
  {
   "cell_type": "code",
   "execution_count": 8,
   "id": "e52e2c6d",
   "metadata": {},
   "outputs": [],
   "source": [
    "def calculate_personal_loan_defaulter(input):       \n",
    "    \n",
    "    max_allowed_missed_months = 4\n",
    "    max_allowed_consecutive_missing = 2\n",
    "    \n",
    "    name, months_list = input   \n",
    "    total_payments = len(months_list)\n",
    "    missed_payments = 12 - total_payments\n",
    "    \n",
    "    if missed_payments > max_allowed_missed_months:\n",
    "        return name, missed_payments\n",
    "    \n",
    "    consecutive_missed_months = 0\n",
    "    temp = months_list[0] - 1;\n",
    "    \n",
    "    if temp > consecutive_missed_months:                      \n",
    "        consecutive_missed_months = temp \n",
    "\n",
    "\n",
    "    temp = 12 - months_list[total_payments - 1]                  \n",
    "    if temp > consecutive_missed_months:\n",
    "        consecutive_missed_months = temp                \n",
    "\n",
    "    for i in range(1, len(months_list)):                    \n",
    "        temp = months_list[i] - months_list[i-1] -1         \n",
    "        if temp > consecutive_missed_months:\n",
    "            consecutive_missed_months = temp                    \n",
    "    \n",
    "    if consecutive_missed_months > max_allowed_consecutive_missing:\n",
    "        return name, consecutive_missed_months             \n",
    "    \n",
    "    return name, 0"
   ]
  },
  {
   "cell_type": "code",
   "execution_count": 9,
   "id": "f237fc78",
   "metadata": {},
   "outputs": [
    {
     "name": "stdout",
     "output_type": "stream",
     "text": [
      "#Customer_id, First_name,Last_name,Relationship_no.,Card_type,Max_credit_limit,Total_Spent,Cash_withdrawn,Cleared_amount,Last_date\r",
      "\r\n",
      "CT28383,Miyako,Burns,R_7488,Issuers,500,490,38,101,30-01-2018\r",
      "\r\n",
      "CT28383,Miyako,Burns,R_7488,Issuers,500,224,69,224,28-02-2018\r",
      "\r\n",
      "CT28383,Miyako,Burns,R_7488,Issuers,500,374,38,374,31-03-2018\r",
      "\r\n",
      "CT28383,Miyako,Burns,R_7488,Issuers,500,224,69,0,30-04-2018\r",
      "\r\n"
     ]
    }
   ],
   "source": [
    "!{'head -n 5 cards.txt'}"
   ]
  },
  {
   "cell_type": "code",
   "execution_count": 10,
   "id": "e494d01f",
   "metadata": {},
   "outputs": [
    {
     "name": "stdout",
     "output_type": "stream",
     "text": [
      "#customer_id, first_name,last_name,customer_category,loan_id, loan_category, due_date, due_amount, payment_date\r",
      "\r\n",
      "CT88330,Humberto,Banks,Serviceman,LN_1559,Medical Loan,26-01-2018, 2000, 30-01-2018\r",
      "\r\n",
      "CT88330,Humberto,Banks,Serviceman,LN_1559,Medical Loan,22-02-2018, 2000, 28-02-2018\r",
      "\r\n",
      "CT88330,Humberto,Banks,Serviceman,LN_1559,Medical Loan,22-03-2018, 2000, 28-03-2018\r",
      "\r\n",
      "CT88330,Humberto,Banks,Serviceman,LN_1559,Medical Loan,29-04-2018, 2000, 29-04-2018\r",
      "\r\n"
     ]
    }
   ],
   "source": [
    "!{'head -n 5 loan.txt'}"
   ]
  },
  {
   "cell_type": "code",
   "execution_count": 11,
   "id": "2db4a373",
   "metadata": {},
   "outputs": [],
   "source": [
    "def return_tuple(element):\n",
    "  thisTuple=element.split(',')\n",
    "  return (thisTuple[0:2],thisTuple[2]) "
   ]
  },
  {
   "cell_type": "code",
   "execution_count": 12,
   "id": "24243873",
   "metadata": {},
   "outputs": [
    {
     "name": "stderr",
     "output_type": "stream",
     "text": [
      "WARNING:apache_beam.runners.interactive.interactive_environment:Dependencies required for Interactive Beam PCollection visualization are not available, please use: `pip install apache-beam[interactive]` to install necessary dependencies to enable all data visualization features.\n"
     ]
    },
    {
     "data": {
      "application/javascript": [
       "\n",
       "        if (typeof window.interactive_beam_jquery == 'undefined') {\n",
       "          var jqueryScript = document.createElement('script');\n",
       "          jqueryScript.src = 'https://code.jquery.com/jquery-3.4.1.slim.min.js';\n",
       "          jqueryScript.type = 'text/javascript';\n",
       "          jqueryScript.onload = function() {\n",
       "            var datatableScript = document.createElement('script');\n",
       "            datatableScript.src = 'https://cdn.datatables.net/1.10.20/js/jquery.dataTables.min.js';\n",
       "            datatableScript.type = 'text/javascript';\n",
       "            datatableScript.onload = function() {\n",
       "              window.interactive_beam_jquery = jQuery.noConflict(true);\n",
       "              window.interactive_beam_jquery(document).ready(function($){\n",
       "                \n",
       "              });\n",
       "            }\n",
       "            document.head.appendChild(datatableScript);\n",
       "          };\n",
       "          document.head.appendChild(jqueryScript);\n",
       "        } else {\n",
       "          window.interactive_beam_jquery(document).ready(function($){\n",
       "            \n",
       "          });\n",
       "        }"
      ]
     },
     "metadata": {},
     "output_type": "display_data"
    },
    {
     "name": "stderr",
     "output_type": "stream",
     "text": [
      "WARNING:apache_beam.io.filebasedsink:Deleting 1 existing files in target path matching: -*-of-%(num_shards)05d\n"
     ]
    },
    {
     "data": {
      "text/plain": [
       "<apache_beam.runners.portability.fn_api_runner.fn_runner.RunnerResult at 0x7ff184a8dbd0>"
      ]
     },
     "execution_count": 12,
     "metadata": {},
     "output_type": "execute_result"
    }
   ],
   "source": [
    "p = beam.Pipeline()\n",
    "card_defaulter = (\n",
    "      p\n",
    "      | 'Read credit card data' >> beam.io.ReadFromText('cards.txt',skip_header_lines=1)\n",
    "      | 'Calculate defaulter points' >> beam.Map(calculate_points)                            \n",
    "      | 'Combine points for defaulters' >> beam.CombinePerKey(sum)             \n",
    "      | 'Filter card defaulters' >> beam.Filter(lambda element: element[1] > 0)\n",
    "      | 'Format output' >> beam.Map(format_result)  \n",
    "#       | 'Write credit card data' >> beam.io.WriteToText('outputs/cardloan_defaulters')   \n",
    "    | \"tuple card\" >> beam.Map(return_tuple)\n",
    ")\n",
    "\n",
    "loan_read = (\n",
    "    p \n",
    "    | 'Read' >> beam.io.ReadFromText('loan.txt',skip_header_lines=1)\n",
    "    | 'Split Row' >> beam.Map(lambda row : row.split(','))\n",
    ")\n",
    "\n",
    "medical_loan_defaulter = (\n",
    "   loan_read\n",
    "    | 'Filter medical loan' >> beam.Filter(lambda element : (element[5]).rstrip().lstrip() == 'Medical Loan')\n",
    "    | 'Calculate late payment' >> beam.Map(calculate_late_payment)\n",
    "    | 'Make key value pairs' >> beam.Map(lambda elements: (elements[0] + ', ' + elements[1]+' '+elements[2], int(elements[9])) ) \n",
    "    | 'Group medical loan based on month' >> beam.CombinePerKey(sum)\n",
    "    | 'Check for medical loan defaulter' >> beam.Filter(lambda element: element[1] >= 3)\n",
    "    | 'Format medical loan output' >> beam.Map(format_output)\n",
    "#       | 'Write medical defaulters to text file' >> beam.io.WriteToText('outputs/medloan_defaulters')\n",
    "     | \"tuple medical\" >> beam.Map(return_tuple)\n",
    ") \n",
    "\n",
    "personal_loan_defaulter = (\n",
    "    loan_read\n",
    "    | 'Filter personal loan' >> beam.Filter(lambda element : (element[5]).rstrip().lstrip() == 'Personal Loan')\n",
    "    | 'Split and Append New Month Column' >> beam.Map(calculate_month)   \n",
    "    | 'Make key value pairs loan' >> beam.Map(lambda elements: (elements[0] + ', ' + elements[1]+ ' ' +elements[2], int(elements[9])) ) \n",
    "    | 'Group personal loan based on month' >> beam.GroupByKey()                                  \n",
    "    | 'Check for personal loan defaulter' >> beam.Map(calculate_personal_loan_defaulter)          \n",
    "    | 'Filter only personal loan defaulters' >> beam.Filter(lambda element: element[1] > 0)\n",
    "    | 'Format personal loan output' >> beam.Map(format_output)\n",
    "#       | 'Write personal defaulters to text file' >> beam.io.WriteToText('outputs/persloan_defaulters')\n",
    "     | \"tuple loan\" >> beam.Map(return_tuple)\n",
    ") \n",
    "\n",
    "                          \n",
    "final_loan_defaulters = (\n",
    "      ( personal_loan_defaulter, medical_loan_defaulter )\n",
    "      | 'Combine all defaulters' >> beam.Flatten()\n",
    "#       | 'Write all defaulters to text file' >> beam.io.WriteToText('outputs/loan_defaulters')\n",
    ")  \n",
    "\n",
    "both_defaulters =  (\n",
    "        {'card_defaulter': card_defaulter, 'loan_defaulter': final_loan_defaulters}\n",
    "        | beam.CoGroupByKey()\n",
    "        |'Write p3 results' >> beam.io.WriteToText('outputs/both')\n",
    ") \n",
    "\n",
    "p.run()"
   ]
  },
  {
   "cell_type": "code",
   "execution_count": 13,
   "id": "4cddb4b7",
   "metadata": {},
   "outputs": [
    {
     "name": "stdout",
     "output_type": "stream",
     "text": [
      "CT68554, Ronald Chiki, 3 missed\r\n",
      "CT56276, Fay Carr, 10 missed\r\n",
      "CT30950, Arlene Calderon, 10 missed\r\n",
      "CT27126, Nicole Acevedo, 6 missed\r\n",
      "CT29233, Wilma Abbott, 5 missed\r\n"
     ]
    }
   ],
   "source": [
    "!{'head -n 5 outputs/persloan_defaulters-00000-of-00001'}"
   ]
  },
  {
   "cell_type": "code",
   "execution_count": 14,
   "id": "f34fbaf7",
   "metadata": {},
   "outputs": [
    {
     "name": "stdout",
     "output_type": "stream",
     "text": [
      "CT88330, Humberto Banks, 7 missed\r\n",
      "CT71222, Josephine Barr, 9 missed\r\n",
      "CT14299, Miyuki Brooks, 6 missed\r\n",
      "CT63122, Etsuko Branch, 5 missed\r\n",
      "CT12439, Shary Cash, 7 missed\r\n"
     ]
    }
   ],
   "source": [
    "!{'head -n 5 outputs/medloan_defaulters-00000-of-00001'}"
   ]
  },
  {
   "cell_type": "code",
   "execution_count": 15,
   "id": "43fff9b0",
   "metadata": {},
   "outputs": [
    {
     "name": "stdout",
     "output_type": "stream",
     "text": [
      "CT28383, Miyako Burns, 3 fraud_points\r\n",
      "CT74474, Nanaho Brennan, 3 fraud_points\r\n",
      "CT66322, Chris Bruce, 1 fraud_points\r\n",
      "CT65528, Bonnie Barlow, 2 fraud_points\r\n",
      "CT84463, Isaac Bowman, 4 fraud_points\r\n"
     ]
    }
   ],
   "source": [
    "!{'head -n 5 outputs/cardloan_defaulters-00000-of-00001'}"
   ]
  },
  {
   "cell_type": "code",
   "execution_count": 16,
   "id": "61948708",
   "metadata": {},
   "outputs": [
    {
     "name": "stdout",
     "output_type": "stream",
     "text": [
      "(['CT88330', ' Humberto Banks'], ' 7 missed')\r\n",
      "(['CT71222', ' Josephine Barr'], ' 9 missed')\r\n",
      "(['CT14299', ' Miyuki Brooks'], ' 6 missed')\r\n",
      "(['CT63122', ' Etsuko Branch'], ' 5 missed')\r\n",
      "(['CT12439', ' Shary Cash'], ' 7 missed')\r\n"
     ]
    }
   ],
   "source": [
    "!{'head -n 5 outputs/loan_defaulters-00000-of-00001'}"
   ]
  },
  {
   "cell_type": "code",
   "execution_count": 17,
   "id": "cdd6be99",
   "metadata": {},
   "outputs": [
    {
     "name": "stdout",
     "output_type": "stream",
     "text": [
      "(['CT28383', ' Miyako Burns'], {'card_defaulter': [' 3 fraud_points'], 'loan_defaulter': []})\r\n",
      "(['CT74474', ' Nanaho Brennan'], {'card_defaulter': [' 3 fraud_points'], 'loan_defaulter': [' 5 missed']})\r\n",
      "(['CT66322', ' Chris Bruce'], {'card_defaulter': [' 1 fraud_points'], 'loan_defaulter': [' 8 missed']})\r\n",
      "(['CT65528', ' Bonnie Barlow'], {'card_defaulter': [' 2 fraud_points'], 'loan_defaulter': []})\r\n",
      "(['CT84463', ' Isaac Bowman'], {'card_defaulter': [' 4 fraud_points'], 'loan_defaulter': [' 3 missed']})\r\n"
     ]
    }
   ],
   "source": [
    "!{'head -n 5 outputs/both-00000-of-00001'}"
   ]
  },
  {
   "cell_type": "code",
   "execution_count": 18,
   "id": "9e71fef6",
   "metadata": {},
   "outputs": [
    {
     "name": "stdout",
     "output_type": "stream",
     "text": [
      "CARD LOAN DEFAULTERS\n",
      "CT24995,  Hitomi Ballard, with fraud points = 8\n",
      "CT70382,  Dolly Acevedo, with fraud points = 8\n",
      "CT65343,  Rafael Bradley, with fraud points = 8\n",
      "CT18540,  Erika Blevins, with fraud points = 8\n",
      "CT94157,  Tanya Browning, with fraud points = 7\n",
      "CT94260,  Akane Calderon, with fraud points = 7\n",
      "CT21675,  Paloma Bryant, with fraud points = 7\n",
      "CT96252,  Nate Burch, with fraud points = 7\n",
      "CT94340,  Danielle Armstrong, with fraud points = 7\n",
      "CT39897,  Chantal Barlow, with fraud points = 7\n",
      "CT75042,  Tomas Avery, with fraud points = 7\n",
      "CT12879,  Valerie Allison, with fraud points = 7\n",
      "CT18711,  Kazuko Becker, with fraud points = 7\n",
      "CT51720,  Nate Beard, with fraud points = 7\n",
      "CT46579,  Michael Bush, with fraud points = 7\n",
      "CT13093,  Frances Buchanan, with fraud points = 7\n",
      "CT53460,  Arthur Carson, with fraud points = 7\n",
      "CT79250,  Maria Bowman, with fraud points = 7\n",
      "CT53191,  Danielle Buck, with fraud points = 7\n",
      "CT28438,  Sandy Adkins, with fraud points = 7\n",
      "CT94994,  Wilfred Baker, with fraud points = 7\n",
      "CT36498,  Huto Bell, with fraud points = 7\n",
      "CT51282,  Richard Adkins, with fraud points = 7\n",
      "CT79552,  Aki Burch, with fraud points = 7\n",
      "CT98854,  Harvey Ball, with fraud points = 7\n",
      "CT25287,  Teddy Alston, with fraud points = 7\n",
      "CT36532,  Arlene Bryant, with fraud points = 7\n",
      "CT39740,  Tony Bean, with fraud points = 7\n",
      "CT76320,  Isabel Baxter, with fraud points = 7\n",
      "CT18764,  Teresa Beck, with fraud points = 7\n",
      "CT41845,  Philippe Boyd, with fraud points = 7\n",
      "CT72063,  Claudette Berry, with fraud points = 7\n",
      "CT16417,  Sandy Blanchard, with fraud points = 7\n",
      "CT67875,  Jeanne Alvarado, with fraud points = 7\n",
      "CT35089,  Gert Barron, with fraud points = 7\n",
      "CT14528,  Omar Acevedo, with fraud points = 6\n",
      "CT54568,  Dennis Browning, with fraud points = 6\n",
      "CT60461,  Philippe Baxter, with fraud points = 6\n",
      "CT88926,  Wanda Blackburn, with fraud points = 6\n",
      "CT44064,  Nadine Adams, with fraud points = 6\n",
      "CT85767,  Mindy Blankenship, with fraud points = 6\n",
      "CT59063,  Frances Bailey, with fraud points = 6\n",
      "CT29072,  Chiaki Booker, with fraud points = 6\n",
      "CT50733,  Miyuki Bernard, with fraud points = 6\n",
      "CT97893,  Dean Arnold, with fraud points = 6\n",
      "CT75999,  Edouard Cannon, with fraud points = 6\n",
      "CT83820,  Henri Cantu, with fraud points = 6\n",
      "CT64310,  Miwa Buchanan, with fraud points = 6\n",
      "CT54079,  Shary Buckner, with fraud points = 6\n",
      "CT86662,  Miyuki Barker, with fraud points = 6\n",
      "CT78641,  Rafael Burgess, with fraud points = 6\n",
      "CT66966,  Bret Barker, with fraud points = 6\n",
      "CT37919,  Cristobal Bender, with fraud points = 6\n",
      "CT76080,  Helene Arnold, with fraud points = 6\n",
      "CT75055,  Felix Adkins, with fraud points = 6\n",
      "CT16940,  Shary Bentley, with fraud points = 6\n",
      "CT97189,  Kumiko Beasley, with fraud points = 6\n",
      "CT12339,  Mindy Alford, with fraud points = 6\n",
      "CT82118,  Josephine Berg, with fraud points = 6\n",
      "CT57564,  Rita Blake, with fraud points = 6\n",
      "CT91958,  Alberto Bird, with fraud points = 6\n",
      "CT74834,  Nana Brennan, with fraud points = 6\n",
      "CT70316,  Dennis Buckley, with fraud points = 6\n",
      "CT74041,  Bertha Buckley, with fraud points = 6\n",
      "CT14776,  Teddy Adkins, with fraud points = 6\n",
      "CT36973,  Barry Boone, with fraud points = 6\n",
      "CT95956,  Joyce Britt, with fraud points = 6\n",
      "CT95374,  Ophelia Bonner, with fraud points = 6\n",
      "CT96969,  Rie Alvarez, with fraud points = 6\n",
      "CT97857,  Otto Benton, with fraud points = 6\n",
      "CT48082,  Naoko Black, with fraud points = 6\n",
      "CT37491,  Junko Bass, with fraud points = 6\n",
      "CT12838,  Isidore Albert, with fraud points = 5\n",
      "CT85915,  Dean Becker, with fraud points = 5\n",
      "CT86894,  Miwa Carter, with fraud points = 5\n",
      "CT46595,  Marco Byers, with fraud points = 5\n",
      "CT46586,  Walter Camacho, with fraud points = 5\n",
      "CT91859,  Rene Cash, with fraud points = 5\n",
      "CT46763,  Tony Benson, with fraud points = 5\n",
      "CT39515,  Hanna Ayers, with fraud points = 5\n",
      "CT94333,  Teddy Bryan, with fraud points = 5\n",
      "CT61595,  Alex Byrd, with fraud points = 5\n",
      "CT80175,  Wilfred Bryant, with fraud points = 5\n",
      "CT23920,  Gordon Bun, with fraud points = 5\n",
      "CT81674,  Nanaho Beach, with fraud points = 5\n",
      "CT63377,  Rie Brooks, with fraud points = 5\n",
      "CT80024,  Yumi Berger, with fraud points = 5\n",
      "CT55138,  Allison Bailey, with fraud points = 5\n",
      "CT23272,  Gabielle Aguirre, with fraud points = 5\n",
      "CT75395,  Joyce Beach, with fraud points = 5\n",
      "CT22776,  Gaston Anthony, with fraud points = 5\n",
      "CT48625,  Lisa Ashley, with fraud points = 5\n",
      "CT54039,  Lee Bishop, with fraud points = 5\n",
      "CT19649,  Nadine Barr, with fraud points = 5\n",
      "CT18971,  Tammy Beck, with fraud points = 5\n",
      "CT80190,  Tony Alston, with fraud points = 5\n",
      "CT32828,  Nicole Blackburn, with fraud points = 5\n",
      "CT57894,  Sebastien Case, with fraud points = 5\n",
      "CT68892,  Nana Benton, with fraud points = 5\n",
      "CT24578,  Sayuri Carson, with fraud points = 5\n",
      "CT95258,  Oscar Campos, with fraud points = 5\n",
      "CT38073,  Katrina Bailey, with fraud points = 5\n",
      "CT88866,  Edouard Barr, with fraud points = 5\n",
      "CT49971,  Cindy Case, with fraud points = 5\n",
      "CT96345,  Hermine Bond, with fraud points = 5\n",
      "CT84228,  Fay Carrillo, with fraud points = 5\n",
      "CT94485,  Karen Allen, with fraud points = 5\n",
      "CT65148,  Wendy Berry, with fraud points = 5\n",
      "CT78665,  Ana Barron, with fraud points = 5\n",
      "CT84663,  Michael Beti, with fraud points = 5\n",
      "CT40751,  Rene Boyd, with fraud points = 5\n",
      "CT80860,  Oscar Carey, with fraud points = 5\n",
      "CT34378,  Nana Castaneda, with fraud points = 5\n",
      "CT36037,  Walter Aguirre, with fraud points = 5\n",
      "CT15097,  Hitomi Bond, with fraud points = 5\n",
      "CT11540,  Tomas Castaneda, with fraud points = 5\n",
      "CT71698,  Karl Ball, with fraud points = 5\n",
      "CT11310,  Leslie Booth, with fraud points = 5\n",
      "CT48111,  Omar Allison, with fraud points = 5\n",
      "CT44865,  Gabielle Bennett, with fraud points = 5\n",
      "CT45461,  Philippe Case, with fraud points = 5\n",
      "CT91216,  Bret Case, with fraud points = 5\n",
      "CT90868,  Beryl Adkins, with fraud points = 5\n",
      "CT11960,  Walter Burgess, with fraud points = 5\n",
      "CT79354,  Franklin Bruce, with fraud points = 5\n",
      "CT98132,  Teresa Bennett, with fraud points = 5\n",
      "CT67872,  Teresa Barton, with fraud points = 5\n",
      "CT19271,  Kirk Boyle, with fraud points = 5\n",
      "CT97681,  Charley Brock, with fraud points = 5\n",
      "CT44144,  Harvey Albert, with fraud points = 5\n",
      "CT63075,  Van Burke, with fraud points = 5\n",
      "CT49020,  Naoko Bailey, with fraud points = 5\n",
      "CT88160,  Peter Calderon, with fraud points = 5\n",
      "CT97959,  Michael Bradley, with fraud points = 5\n",
      "CT61624,  Ernesto Cardenas, with fraud points = 5\n",
      "CT46672,  Tanya Bowman, with fraud points = 5\n",
      "CT85093,  Patty Blankenship, with fraud points = 5\n",
      "CT64047,  William Burks, with fraud points = 5\n",
      "CT46727,  Henri Bartlett, with fraud points = 5\n",
      "CT34830,  Katrina Adams, with fraud points = 5\n",
      "CT18260,  Omar Cain, with fraud points = 5\n",
      "CT55635,  Gaston Barr, with fraud points = 5\n",
      "CT47194,  Lisa Boyer, with fraud points = 5\n",
      "CT16580,  Nicholas Bowen, with fraud points = 5\n",
      "CT90839,  William Bowers, with fraud points = 5\n",
      "CT53050,  Jerry Alvarado, with fraud points = 5\n",
      "CT54815,  Jeanne Camacho, with fraud points = 5\n",
      "CT35717,  Lorenzo Alston, with fraud points = 5\n",
      "CT61843,  Gert Ayers, with fraud points = 5\n",
      "CT49078,  Sachiko Boyle, with fraud points = 5\n",
      "CT85016,  Arlene Booker, with fraud points = 5\n",
      "CT34618,  Yumi Blake, with fraud points = 5\n",
      "CT98399,  Tony Buckner, with fraud points = 5\n",
      "CT51068,  Rita Ayers, with fraud points = 5\n",
      "CT22345,  Isidore Carson, with fraud points = 5\n",
      "CT88599,  Richard Boyle, with fraud points = 5\n",
      "CT29224,  Ivan Bradford, with fraud points = 5\n",
      "CT40799,  Karl Acosta, with fraud points = 5\n",
      "CT88045,  Omar Campbell, with fraud points = 5\n",
      "CT66712,  Miharu Branch, with fraud points = 5\n",
      "CT38474,  Otto Burke, with fraud points = 5\n",
      "CT61718,  Grace Albert, with fraud points = 5\n",
      "CT63383,  Alberto Bird, with fraud points = 5\n",
      "CT29489,  Shary Beti, with fraud points = 5\n",
      "CT21622,  Arlene Alexander, with fraud points = 5\n",
      "CT13916,  Reina Campos, with fraud points = 5\n",
      "CT14656,  Teresa Burnett, with fraud points = 5\n",
      "CT57479,  Bill Bean, with fraud points = 5\n",
      "CT86783,  Frances Alston, with fraud points = 5\n",
      "CT84463,  Isaac Bowman, with fraud points = 4\n",
      "CT98239,  Sayuri Case, with fraud points = 4\n",
      "CT33583,  Odette Case, with fraud points = 4\n",
      "CT91012,  Jerry Barron, with fraud points = 4\n",
      "CT64089,  Fay Beard, with fraud points = 4\n",
      "CT56854,  Michael Cannon, with fraud points = 4\n",
      "CT47648,  Kyle Butler, with fraud points = 4\n",
      "CT79129,  Kaori Campos, with fraud points = 4\n",
      "CT86816,  Miyuki Bowman, with fraud points = 4\n",
      "CT86942,  Joyce Ballard, with fraud points = 4\n",
      "CT60029,  Erin Boyd, with fraud points = 4\n",
      "CT97870,  Dennis Avila, with fraud points = 4\n",
      "CT46475,  Beryl Cash, with fraud points = 4\n",
      "CT86838,  Bill Barnes, with fraud points = 4\n",
      "CT55987,  Kumiko Boyer, with fraud points = 4\n",
      "CT42977,  Lorenzo Blackburn, with fraud points = 4\n",
      "CT26974,  Toshie Boyle, with fraud points = 4\n",
      "CT13838,  Teresa Bun, with fraud points = 4\n",
      "CT57159,  Barry Andrews, with fraud points = 4\n",
      "CT90825,  Rebekah Burgess, with fraud points = 4\n",
      "CT68584,  Lee Bowen, with fraud points = 4\n",
      "CT88369,  Helene Bell, with fraud points = 4\n",
      "CT19235,  Tony Burke, with fraud points = 4\n",
      "CT89967,  Shary Bentley, with fraud points = 4\n",
      "CT92219,  Sachiko Byrd, with fraud points = 4\n",
      "CT57193,  Arthur Carter, with fraud points = 4\n",
      "CT73212,  Patty Adams, with fraud points = 4\n",
      "CT52181,  Emily Berry, with fraud points = 4\n",
      "CT56114,  Mindy Atkins, with fraud points = 4\n",
      "CT20832,  Lee Albert, with fraud points = 4\n",
      "CT26076,  Cristobal Buchanan, with fraud points = 4\n",
      "CT63213,  Rose Brown, with fraud points = 4\n",
      "CT57731,  Erika Boyle, with fraud points = 4\n",
      "CT97013,  Ivan Buckner, with fraud points = 4\n",
      "CT13491,  Kyle Burks, with fraud points = 4\n",
      "CT24282,  Junko Baker, with fraud points = 4\n",
      "CT27330,  Dean Bass, with fraud points = 4\n",
      "CT60329,  Toshie Bass, with fraud points = 4\n",
      "CT73332,  Rene Abbott, with fraud points = 4\n",
      "CT83649,  Maria Bright, with fraud points = 4\n",
      "CT77345,  Alberto Avery, with fraud points = 4\n",
      "CT65022,  Rafael Cabrera, with fraud points = 4\n",
      "CT87485,  Van Bridges, with fraud points = 4\n",
      "CT93744,  Sally Battle, with fraud points = 4\n",
      "CT16646,  Joyce Avila, with fraud points = 4\n",
      "CT35038,  Omar Butler, with fraud points = 4\n",
      "CT79478,  Patty Bauer, with fraud points = 4\n",
      "CT52820,  Maria Bailey, with fraud points = 4\n",
      "CT36491,  Emi Baker, with fraud points = 4\n",
      "CT93310,  Bret Black, with fraud points = 4\n",
      "CT94582,  Rie Callahan, with fraud points = 4\n",
      "CT66418,  Shary Benton, with fraud points = 4\n",
      "CT19839,  Rita Bean, with fraud points = 4\n",
      "CT51975,  Wilfred Barr, with fraud points = 4\n",
      "CT64966,  Ana Aguilar, with fraud points = 4\n",
      "CT90162,  Michelle Avila, with fraud points = 4\n",
      "CT90940,  Teddy Bowers, with fraud points = 4\n",
      "CT87920,  Cristobal Bryant, with fraud points = 4\n",
      "CT12094,  Pablo Caldwell, with fraud points = 4\n",
      "CT57840,  Grace Barry, with fraud points = 4\n",
      "CT70533,  Virginie Booth, with fraud points = 4\n",
      "CT29185,  Pablo Cash, with fraud points = 4\n",
      "CT63435,  Allison Blackburn, with fraud points = 4\n",
      "CT43149,  Rose Alexander, with fraud points = 4\n",
      "CT95882,  Tomas Burnett, with fraud points = 4\n",
      "CT81760,  Erin Bridges, with fraud points = 4\n",
      "CT73148,  Wilfred Bray, with fraud points = 4\n",
      "CT19999,  Cindy Burks, with fraud points = 4\n",
      "CT53635,  Emily Callahan, with fraud points = 4\n",
      "CT77133,  Kirk Brady, with fraud points = 4\n",
      "CT18338,  Nana Bartlett, with fraud points = 4\n",
      "CT62156,  Ivan Alston, with fraud points = 4\n",
      "CT95132,  Nana Bartlett, with fraud points = 4\n",
      "CT83498,  Kazuko Allen, with fraud points = 4\n",
      "CT79877,  Lee Allison, with fraud points = 4\n",
      "CT32446,  Edouard Benton, with fraud points = 4\n",
      "CT90132,  Philippe Cabrera, with fraud points = 4\n",
      "CT64682,  Wanda Castaneda, with fraud points = 4\n",
      "CT32862,  Larry Bright, with fraud points = 4\n",
      "CT61653,  Richard Barton, with fraud points = 4\n",
      "CT80651,  Tanya Butler, with fraud points = 4\n",
      "CT78294,  Katrina Cantu, with fraud points = 4\n",
      "CT90930,  Van Barker, with fraud points = 4\n",
      "CT20099,  Ayumi Barr, with fraud points = 4\n",
      "CT73239,  Alberto Bradley, with fraud points = 4\n",
      "CT30411,  Mieko Carr, with fraud points = 4\n",
      "CT15544,  Dean Campos, with fraud points = 4\n",
      "CT75252,  Sayuri Buchanan, with fraud points = 4\n",
      "CT64243,  Nicholas Bruce, with fraud points = 4\n",
      "CT69534,  Sayuri Berry, with fraud points = 4\n",
      "CT78052,  Akane Booth, with fraud points = 4\n",
      "CT43128,  Miyak Allen, with fraud points = 4\n",
      "CT44863,  Miwa Aguirre, with fraud points = 4\n",
      "CT84386,  Dean Barton, with fraud points = 4\n",
      "CT90726,  Edouard Cannon, with fraud points = 4\n",
      "CT72171,  Rene Boyd, with fraud points = 4\n",
      "CT91062,  Grace Boone, with fraud points = 4\n",
      "CT36363,  Lorenzo Acosta, with fraud points = 4\n",
      "CT15596,  Vicky Bradford, with fraud points = 4\n",
      "CT32241,  Sally Cantu, with fraud points = 4\n",
      "CT83339,  Gabielle Calderon, with fraud points = 4\n",
      "CT11478,  Erika Cantu, with fraud points = 4\n",
      "CT77457,  Odette Bradford, with fraud points = 4\n",
      "CT15128,  Tomas Bernard, with fraud points = 4\n",
      "CT82346,  Itoe Blanchard, with fraud points = 4\n",
      "CT22295,  Chris Carlson, with fraud points = 4\n",
      "CT39560,  Philippe Cain, with fraud points = 4\n",
      "CT28731,  Michael Carney, with fraud points = 4\n",
      "CT14677,  Nanaho Bruce, with fraud points = 4\n",
      "CT65096,  Arthur Brock, with fraud points = 4\n",
      "CT50059,  Bret Anthony, with fraud points = 4\n",
      "CT31818,  Kaori Bird, with fraud points = 4\n",
      "CT31599,  Virginie Beasley, with fraud points = 4\n",
      "CT16620,  Juan Bonner, with fraud points = 4\n",
      "CT91310,  Kate Blair, with fraud points = 4\n",
      "CT13484,  Huto Beti, with fraud points = 4\n",
      "CT93973,  Isaac Cardenas, with fraud points = 4\n",
      "CT30188,  Tanya Bush, with fraud points = 4\n",
      "CT86639,  Grace Aguilar, with fraud points = 4\n",
      "CT19680,  Wendy Branch, with fraud points = 4\n",
      "CT71051,  Akane Carr, with fraud points = 4\n",
      "CT28383,  Miyako Burns, with fraud points = 3\n",
      "CT74474,  Nanaho Brennan, with fraud points = 3\n",
      "CT96185,  Danielle Bradshaw, with fraud points = 3\n",
      "CT74827,  Hanna Boyer, with fraud points = 3\n",
      "CT64751,  Youko Bryant, with fraud points = 3\n",
      "CT77821,  Miwa Bird, with fraud points = 3\n",
      "CT30215,  Wilma Burt, with fraud points = 3\n",
      "CT84042,  Karen Bradley, with fraud points = 3\n",
      "CT62963,  Jose Austin, with fraud points = 3\n",
      "CT40462,  Marco Blackwell, with fraud points = 3\n",
      "CT44150,  Claudette Bates, with fraud points = 3\n",
      "CT43467,  Miyuki Burt, with fraud points = 3\n",
      "CT32066,  Naoko Buckley, with fraud points = 3\n",
      "CT49686,  Shary Beard, with fraud points = 3\n",
      "CT23479,  Teresa Baxter, with fraud points = 3\n",
      "CT12418,  Emily Adkins, with fraud points = 3\n",
      "CT47266,  Alex Allison, with fraud points = 3\n",
      "CT80366,  Irene Alvarado, with fraud points = 3\n",
      "CT64877,  Wilma Brewer, with fraud points = 3\n",
      "CT84926,  Danielle Blake, with fraud points = 3\n",
      "CT18829,  Chris Adams, with fraud points = 3\n",
      "CT30645,  William Arnold, with fraud points = 3\n",
      "CT93070,  Isabel Bell, with fraud points = 3\n",
      "CT60688,  Paula Burris, with fraud points = 3\n",
      "CT96895,  Sebastien Black, with fraud points = 3\n",
      "CT66815,  Beryl Battle, with fraud points = 3\n",
      "CT71141,  Dennis Cabrera, with fraud points = 3\n",
      "CT43856,  Gert Becker, with fraud points = 3\n",
      "CT95788,  Noel Callahan, with fraud points = 3\n",
      "CT43247,  Allison Carver, with fraud points = 3\n",
      "CT55625,  Paloma Buchanan, with fraud points = 3\n",
      "CT28996,  Rie Carter, with fraud points = 3\n",
      "CT43027,  Lili Byers, with fraud points = 3\n",
      "CT52990,  Iris Bowman, with fraud points = 3\n",
      "CT36070,  Otto Bowman, with fraud points = 3\n",
      "CT31762,  Arlene Campos, with fraud points = 3\n",
      "CT94438,  Virginie Blake, with fraud points = 3\n",
      "CT13850,  Nicole Bradshaw, with fraud points = 3\n",
      "CT33183,  Michiyo Cain, with fraud points = 3\n",
      "CT32465,  Huto Bailey, with fraud points = 3\n",
      "CT57192,  Paula Barber, with fraud points = 3\n",
      "CT76366,  Rebekah Bishop, with fraud points = 3\n",
      "CT60412,  Fay Barlow, with fraud points = 3\n",
      "CT19077,  Arthur Browning, with fraud points = 3\n",
      "CT15999,  Dennis Blackwell, with fraud points = 3\n",
      "CT63793,  Ernesto Abbott, with fraud points = 3\n",
      "CT85921,  Bonnie Cardenas, with fraud points = 3\n",
      "CT99230,  Reina Bartlett, with fraud points = 3\n",
      "CT61148,  Grace Bishop, with fraud points = 3\n",
      "CT69442,  Huto Bond, with fraud points = 3\n",
      "CT55484,  Edouard Campos, with fraud points = 3\n",
      "CT78377,  Grace Boone, with fraud points = 3\n",
      "CT56487,  Nanaho Bauer, with fraud points = 3\n",
      "CT98213,  Florence Caldwell, with fraud points = 3\n",
      "CT92444,  Richard Baldwin, with fraud points = 3\n",
      "CT89076,  Rose Carpenter, with fraud points = 3\n",
      "CT62599,  Erika Baldwin, with fraud points = 3\n",
      "CT67969,  Hermine Butler, with fraud points = 3\n",
      "CT68917,  Claudette Cain, with fraud points = 3\n",
      "CT84592,  Michiyo Bentley, with fraud points = 3\n",
      "CT22111,  Michiyo Bush, with fraud points = 3\n",
      "CT65749,  Miharu Byrd, with fraud points = 3\n",
      "CT55496,  Kazuko Buckley, with fraud points = 3\n",
      "CT30987,  Mindy Adams, with fraud points = 3\n",
      "CT57511,  Wendy Bailey, with fraud points = 3\n",
      "CT28144,  Sachiko Butler, with fraud points = 3\n",
      "CT60043,  Mieko Alvarado, with fraud points = 3\n",
      "CT95471,  Lee Cantu, with fraud points = 3\n",
      "CT14841,  Kumiko Bush, with fraud points = 3\n",
      "CT46935,  Kumiko Brennan, with fraud points = 3\n",
      "CT37920,  Sebastien Austin, with fraud points = 3\n",
      "CT34697,  Dean Beach, with fraud points = 3\n",
      "CT62646,  Cindy Benson, with fraud points = 3\n",
      "CT78589,  Henri Allison, with fraud points = 3\n",
      "CT56375,  Arlene Barr, with fraud points = 3\n",
      "CT34829,  Miyak Acevedo, with fraud points = 3\n",
      "CT54178,  Wendy Callahan, with fraud points = 3\n",
      "CT12918,  Nicole Bowen, with fraud points = 3\n",
      "CT12353,  Kyle Andrews, with fraud points = 3\n",
      "CT60476,  Leslie Bright, with fraud points = 3\n",
      "CT57336,  Erika Bauer, with fraud points = 3\n",
      "CT80495,  Miyuki Cain, with fraud points = 3\n",
      "CT39237,  Rose Barnes, with fraud points = 3\n",
      "CT57515,  Joyce Carpenter, with fraud points = 3\n",
      "CT61957,  Victor Beasley, with fraud points = 3\n",
      "CT98524,  Ayumi Burt, with fraud points = 3\n",
      "CT35591,  Huto Barry, with fraud points = 3\n",
      "CT37478,  Grace Baxter, with fraud points = 3\n",
      "CT58729,  Irene Carson, with fraud points = 3\n",
      "CT17379,  Aki Bowman, with fraud points = 3\n",
      "CT24967,  Teddy Burgess, with fraud points = 3\n",
      "CT16718,  Earl Browning, with fraud points = 3\n",
      "CT43646,  Emi Bolton, with fraud points = 3\n",
      "CT10879,  Ana Burks, with fraud points = 3\n",
      "CT38714,  Maria Carver, with fraud points = 3\n",
      "CT11158,  Danielle Anthony, with fraud points = 3\n",
      "CT97265,  Otto Cash, with fraud points = 3\n",
      "CT34843,  Ayumi Carver, with fraud points = 3\n",
      "CT43194,  Miwa Benson, with fraud points = 3\n",
      "CT35982,  Alberto Carey, with fraud points = 3\n",
      "CT25268,  Walter Bun, with fraud points = 3\n",
      "CT46744,  Lorenzo Barry, with fraud points = 3\n",
      "CT40824,  Paula Bean, with fraud points = 3\n",
      "CT18272,  Naoko Bates, with fraud points = 3\n",
      "CT65816,  Bonnie Bishop, with fraud points = 3\n",
      "CT42719,  Valerie Burks, with fraud points = 3\n",
      "CT66669,  Van Carson, with fraud points = 3\n",
      "CT42260,  Erin Berger, with fraud points = 3\n",
      "CT65528,  Bonnie Barlow, with fraud points = 2\n",
      "CT57141,  Kaori Brown, with fraud points = 2\n",
      "CT98422,  Nicole Caldwell, with fraud points = 2\n",
      "CT66224,  Ivan Blanchard, with fraud points = 2\n",
      "CT13659,  Omar Alston, with fraud points = 2\n",
      "CT67931,  Gustav Blake, with fraud points = 2\n",
      "CT93695,  Shary Benjamin, with fraud points = 2\n",
      "CT61168,  Lisa Barrera, with fraud points = 2\n",
      "CT23359,  Olga Anderson, with fraud points = 2\n",
      "CT72698,  Miwa Bolton, with fraud points = 2\n",
      "CT93139,  Aki Browning, with fraud points = 2\n",
      "CT45112,  Pablo Caldwell, with fraud points = 2\n",
      "CT69662,  Dennis Bender, with fraud points = 2\n",
      "CT68292,  Lee Ashley, with fraud points = 2\n",
      "CT26994,  Van Alexander, with fraud points = 2\n",
      "CT44457,  Peter Bender, with fraud points = 2\n",
      "CT70291,  Shary Brooks, with fraud points = 2\n",
      "CT27499,  Vicky Byers, with fraud points = 2\n",
      "CT39983,  Bertha Alvarado, with fraud points = 2\n",
      "CT35159,  Katrina Bruce, with fraud points = 2\n",
      "CT80061,  Gabielle Blankenship, with fraud points = 2\n",
      "CT30121,  Ana Bowers, with fraud points = 2\n",
      "CT59061,  Omar Brewer, with fraud points = 2\n",
      "CT80895,  Omar Bird, with fraud points = 2\n",
      "CT69061,  Rene Carpenter, with fraud points = 2\n",
      "CT58295,  Arlene Ballard, with fraud points = 2\n",
      "CT36927,  Tomas Alford, with fraud points = 2\n",
      "CT10382,  Ana Blair, with fraud points = 2\n",
      "CT10464,  Naoko Bray, with fraud points = 2\n",
      "CT47058,  Virginie Alvarado, with fraud points = 2\n",
      "CT19058,  Earl Booth, with fraud points = 2\n",
      "CT18032,  Alex Bass, with fraud points = 2\n",
      "CT87197,  Victor Bennett, with fraud points = 2\n",
      "CT62175,  Leslie Cannon, with fraud points = 2\n",
      "CT60039,  Paula Burks, with fraud points = 2\n",
      "CT53978,  Ernesto Caldwell, with fraud points = 2\n",
      "CT92011,  Youko Anderson, with fraud points = 2\n",
      "CT36412,  Earl Allison, with fraud points = 2\n",
      "CT68670,  Sam Cantrell, with fraud points = 2\n",
      "CT63349,  Kazuko Blackburn, with fraud points = 2\n",
      "CT60262,  Noel Cantrell, with fraud points = 2\n",
      "CT34616,  Sachiko Browning, with fraud points = 2\n",
      "CT47326,  Frances Bauer, with fraud points = 2\n",
      "CT16584,  Maria Burton, with fraud points = 2\n",
      "CT91994,  Ana Buckner, with fraud points = 2\n",
      "CT37655,  Nicholas Castaneda, with fraud points = 2\n",
      "CT41398,  Lee Booker, with fraud points = 2\n",
      "CT64842,  Debby Browning, with fraud points = 2\n",
      "CT23126,  Walter Battle, with fraud points = 2\n",
      "CT41572,  Wendy Carrillo, with fraud points = 2\n",
      "CT59651,  Kaori Branch, with fraud points = 2\n",
      "CT33545,  Wilma Barrera, with fraud points = 2\n",
      "CT78521,  Dennis Carver, with fraud points = 2\n",
      "CT77818,  Jerry Blackburn, with fraud points = 2\n",
      "CT53874,  Dolly Burke, with fraud points = 2\n",
      "CT32582,  Ophelia Bridges, with fraud points = 2\n",
      "CT54726,  Rita Callahan, with fraud points = 2\n",
      "CT72754,  Wilma Atkins, with fraud points = 2\n",
      "CT13247,  Emi Campbell, with fraud points = 2\n",
      "CT76491,  William Calderon, with fraud points = 2\n",
      "CT71455,  Tony Battle, with fraud points = 2\n",
      "CT61422,  Wilma Buck, with fraud points = 2\n",
      "CT74111,  Chiaki Armstrong, with fraud points = 2\n",
      "CT90136,  Iris Berger, with fraud points = 2\n",
      "CT35739,  Rita Cain, with fraud points = 2\n",
      "CT59368,  Akane Austin, with fraud points = 2\n",
      "CT72341,  Hermine Brock, with fraud points = 2\n",
      "CT62426,  Dolly Campbell, with fraud points = 2\n",
      "CT26921,  Emily Baxter, with fraud points = 2\n",
      "CT66896,  Kazuko Briggs, with fraud points = 2\n",
      "CT64820,  Hitomi Bruce, with fraud points = 2\n",
      "CT17798,  Maria Beck, with fraud points = 2\n",
      "CT44418,  Jose Brennan, with fraud points = 10\n",
      "CT66322,  Chris Bruce, with fraud points = 1\n",
      "CT99434,  Wilma Cabrera, with fraud points = 1\n",
      "CT45863,  Miwa Burnett, with fraud points = 1\n",
      "CT95280,  Claudette Ayala, with fraud points = 1\n",
      "CT30451,  Nadine Allen, with fraud points = 1\n",
      "CT70453,  Josephine Cantu, with fraud points = 1\n",
      "CT97591,  Alberto Acosta, with fraud points = 1\n",
      "CT44978,  Nicholas Beti, with fraud points = 1\n",
      "CT78415,  Van Berry, with fraud points = 1\n",
      "CT81212,  Naoko Adams, with fraud points = 1\n",
      "CT27825,  Paloma Atkinson, with fraud points = 1\n",
      "CT47710,  Vince Carpenter, with fraud points = 1\n",
      "CT61245,  Karl Baird, with fraud points = 1\n",
      "CT77483,  Joyce Boll, with fraud points = 1\n",
      "CT53847,  Dennis Brock, with fraud points = 1\n",
      "CT78427,  Grace Baxter, with fraud points = 1\n",
      "CT38268,  Miyuki Alford, with fraud points = 1\n",
      "CT57790,  Teddy Blackburn, with fraud points = 1\n",
      "CT98872,  Wilma Byers, with fraud points = 1\n",
      "CT39020,  Patty Armstrong, with fraud points = 1\n",
      "CT35072,  Alberto Bender, with fraud points = 1\n",
      "CT58328,  Sandy Baldwin, with fraud points = 1\n",
      "CT86988,  Rose Bright, with fraud points = 1\n",
      "CT63127,  Lee Bright, with fraud points = 1\n",
      "CT40532,  Kyle Alvarez, with fraud points = 1\n"
     ]
    }
   ],
   "source": [
    "with open('outputs/cardloan_defaulters-00000-of-00001') as file:\n",
    "    points=[]\n",
    "    for line in file:\n",
    "        cust_id, name, point = line.split(\",\")\n",
    "        point = point.rstrip().lstrip()\n",
    "        point, fraud = point.split(\" \")\n",
    "        temp = (cust_id + \", \" + name, point)\n",
    "        points.append(temp)\n",
    "        \n",
    "    sorted_points = sorted(points, key = lambda x: x[1], reverse=True)\n",
    "    \n",
    "    print(\"CARD LOAN DEFAULTERS\")\n",
    "    for points in sorted_points:\n",
    "        name, point = points\n",
    "        print(name +  \", with fraud points = \" + str(point))"
   ]
  },
  {
   "cell_type": "markdown",
   "id": "a2886f2a",
   "metadata": {},
   "source": [
    "--------------------"
   ]
  },
  {
   "cell_type": "markdown",
   "id": "55d84560",
   "metadata": {},
   "source": [
    "# Coder"
   ]
  },
  {
   "cell_type": "code",
   "execution_count": 19,
   "id": "16dd4274",
   "metadata": {},
   "outputs": [
    {
     "data": {
      "text/plain": [
       "VarIntCoder"
      ]
     },
     "execution_count": 19,
     "metadata": {},
     "output_type": "execute_result"
    }
   ],
   "source": [
    "beam.coders.registry.get_coder(int)"
   ]
  },
  {
   "cell_type": "code",
   "execution_count": 20,
   "id": "b67a8114",
   "metadata": {},
   "outputs": [
    {
     "data": {
      "text/plain": [
       "FloatCoder"
      ]
     },
     "execution_count": 20,
     "metadata": {},
     "output_type": "execute_result"
    }
   ],
   "source": [
    "beam.coders.registry.get_coder(float)"
   ]
  },
  {
   "cell_type": "code",
   "execution_count": 21,
   "id": "8728265e",
   "metadata": {},
   "outputs": [],
   "source": [
    "beam.coders.registry.register_coder(int, beam.coders.FloatCoder)"
   ]
  },
  {
   "cell_type": "code",
   "execution_count": 22,
   "id": "d2a08174",
   "metadata": {},
   "outputs": [],
   "source": [
    "class EmployeeCoder(beam.coders.Coder):\n",
    "    \n",
    "    def encode(self, employee):\n",
    "        return ('%s:%s' % (employee.emp_id, employee.name)).encode('utf-8')\n",
    "    \n",
    "    def decode(self, employee):\n",
    "        return Employee(*employee.decode('utf-8').split(\":\"))\n",
    "    \n",
    "    def is_deterministic(self):\n",
    "        return True\n",
    "    \n",
    "#     def as_deterministic_coder():\n",
    "#         return\n",
    "#     def estimate_size():\n",
    "#         return\n",
    "#     def to_type_hint():\n",
    "#         return"
   ]
  },
  {
   "cell_type": "code",
   "execution_count": 23,
   "id": "14088f83",
   "metadata": {},
   "outputs": [],
   "source": [
    "class Employee(object):\n",
    "    def __init__(self, emp_id, name):\n",
    "        self.emp_id = emp_id\n",
    "        self.name = name\n",
    "        "
   ]
  },
  {
   "cell_type": "code",
   "execution_count": 24,
   "id": "27da8d6b",
   "metadata": {},
   "outputs": [],
   "source": [
    "@beam.typehints.with_input_types(int)\n",
    "@beam.typehints.with_output_types(int)\n",
    "class FilterEvenDoFn(beam.DoFn):\n",
    "    def process(self, element):\n",
    "        if element % 2 == 0:\n",
    "            yield element"
   ]
  },
  {
   "cell_type": "code",
   "execution_count": 25,
   "id": "2fde7a14",
   "metadata": {},
   "outputs": [
    {
     "data": {
      "text/plain": [
       "<apache_beam.runners.portability.fn_api_runner.fn_runner.RunnerResult at 0x7ff183223b50>"
      ]
     },
     "execution_count": 25,
     "metadata": {},
     "output_type": "execute_result"
    }
   ],
   "source": [
    "p2 = beam.Pipeline()\n",
    "\n",
    "event = (\n",
    "    p2\n",
    "    | beam.Create([1,2,3,4])\n",
    "    | beam.Filter(lambda x: x%2 == 0).with_input_types(int)\n",
    "    | beam.ParDo(FilterEvenDoFn())\n",
    ")\n",
    "\n",
    "p2.run()"
   ]
  },
  {
   "cell_type": "code",
   "execution_count": 26,
   "id": "c8f74395",
   "metadata": {},
   "outputs": [],
   "source": [
    "beam.coders.registry.register_coder(Employee, EmployeeCoder)"
   ]
  },
  {
   "cell_type": "code",
   "execution_count": 27,
   "id": "b3f16155",
   "metadata": {},
   "outputs": [],
   "source": [
    "def split_file(input):\n",
    "    input_row = input.split(',')\n",
    "    name = input_row[1] \n",
    "    id = input_row[0]\n",
    "    salary = input_row[5]\n",
    "    return (Employee(id, name), int(salary))"
   ]
  },
  {
   "cell_type": "code",
   "execution_count": 28,
   "id": "aab934f4",
   "metadata": {},
   "outputs": [
    {
     "name": "stderr",
     "output_type": "stream",
     "text": [
      "WARNING:apache_beam.io.filebasedsink:Deleting 1 existing files in target path matching: -*-of-%(num_shards)05d\n"
     ]
    },
    {
     "data": {
      "text/plain": [
       "<apache_beam.runners.portability.fn_api_runner.fn_runner.RunnerResult at 0x7ff184cc0820>"
      ]
     },
     "execution_count": 28,
     "metadata": {},
     "output_type": "execute_result"
    }
   ],
   "source": [
    "p3 = beam.Pipeline()\n",
    "\n",
    "event = (\n",
    "    p3\n",
    "    | beam.io.ReadFromText('cards.txt',skip_header_lines=1)\n",
    "    | beam.Map(split_file)\n",
    "    | beam.CombinePerKey(sum).with_input_types(typing.Tuple[Employee,int])\n",
    "    | beam.io.WriteToText('outputs/emp')\n",
    ")\n",
    "\n",
    "p3.run()"
   ]
  },
  {
   "cell_type": "code",
   "execution_count": 29,
   "id": "1f5ca6e2",
   "metadata": {},
   "outputs": [
    {
     "name": "stdout",
     "output_type": "stream",
     "text": [
      "(<__main__.Employee object at 0x7ff184cc0f70>, 6000)\r\n",
      "(<__main__.Employee object at 0x7ff184cc0be0>, 10800)\r\n",
      "(<__main__.Employee object at 0x7ff184cc0d60>, 10800)\r\n",
      "(<__main__.Employee object at 0x7ff184cc0b50>, 12000)\r\n",
      "(<__main__.Employee object at 0x7ff184cc2bc0>, 7200)\r\n"
     ]
    }
   ],
   "source": [
    "!{'head -n 5 outputs/emp-00000-of-00001'}"
   ]
  },
  {
   "cell_type": "code",
   "execution_count": null,
   "id": "51020575",
   "metadata": {},
   "outputs": [],
   "source": []
  },
  {
   "cell_type": "code",
   "execution_count": null,
   "id": "27c3b5ab",
   "metadata": {},
   "outputs": [],
   "source": []
  },
  {
   "cell_type": "code",
   "execution_count": null,
   "id": "ad3b57e1",
   "metadata": {},
   "outputs": [],
   "source": []
  },
  {
   "cell_type": "code",
   "execution_count": null,
   "id": "fa62d3ab",
   "metadata": {},
   "outputs": [],
   "source": []
  }
 ],
 "metadata": {
  "kernelspec": {
   "display_name": "Python 3 (ipykernel)",
   "language": "python",
   "name": "python3"
  },
  "language_info": {
   "codemirror_mode": {
    "name": "ipython",
    "version": 3
   },
   "file_extension": ".py",
   "mimetype": "text/x-python",
   "name": "python",
   "nbconvert_exporter": "python",
   "pygments_lexer": "ipython3",
   "version": "3.10.9"
  }
 },
 "nbformat": 4,
 "nbformat_minor": 5
}
