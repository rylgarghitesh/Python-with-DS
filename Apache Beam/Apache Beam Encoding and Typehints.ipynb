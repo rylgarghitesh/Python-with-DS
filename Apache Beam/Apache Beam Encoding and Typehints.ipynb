{
 "cells": [
  {
   "cell_type": "code",
   "execution_count": 1,
   "id": "61c4e0fd",
   "metadata": {},
   "outputs": [],
   "source": [
    "import apache_beam as beam\n",
    "import typing"
   ]
  },
  {
   "cell_type": "code",
   "execution_count": 9,
   "id": "8509d621",
   "metadata": {},
   "outputs": [],
   "source": [
    "class Employee(object):\n",
    "    def __init__(self, id, name):\n",
    "        self.id = id\n",
    "        self.name = name"
   ]
  },
  {
   "cell_type": "code",
   "execution_count": 10,
   "id": "03bd139d",
   "metadata": {},
   "outputs": [],
   "source": [
    "class EmployeeCoder(beam.coders.Coder):\n",
    "\n",
    "    def encode(self, employee):\n",
    "        return ('%s:%s' % (employee.id, employee.name)).encode('utf-8')\n",
    "\n",
    "    def decode(self, s):\n",
    "        return Employee(*s.decode('utf-8').split(':'))\n",
    "\n",
    "    def is_deterministic(self):\n",
    "        return True"
   ]
  },
  {
   "cell_type": "code",
   "execution_count": 11,
   "id": "31cea828",
   "metadata": {},
   "outputs": [],
   "source": [
    "beam.coders.registry.register_coder(Employee, EmployeeCoder)"
   ]
  },
  {
   "cell_type": "code",
   "execution_count": 18,
   "id": "dbaa1be1",
   "metadata": {},
   "outputs": [],
   "source": [
    "@beam.typehints.with_output_types(typing.Tuple[Employee, int])\n",
    "def split_file(input):\n",
    "    imput = input.split(',')\n",
    "    id, name, salary = input[0], input[1], input[2]\n",
    "    return Employee(id, name), int(salary)"
   ]
  },
  {
   "cell_type": "code",
   "execution_count": 19,
   "id": "676add9a",
   "metadata": {},
   "outputs": [
    {
     "data": {
      "text/plain": [
       "<apache_beam.runners.portability.fn_api_runner.fn_runner.RunnerResult at 0x7fa8e7dd1840>"
      ]
     },
     "execution_count": 19,
     "metadata": {},
     "output_type": "execute_result"
    }
   ],
   "source": [
    "p = beam.Pipeline()\n",
    "\n",
    "result = (\n",
    "    p\n",
    "    | beam.io.ReadFromText(\"dept_data.txt\")\n",
    "    | beam.Map(split_file)\n",
    "    | beam.CombinePerKey(sum).with_input_types(typing.Tuple[Employee, int])\n",
    ")\n",
    "\n",
    "p.run()\t"
   ]
  },
  {
   "cell_type": "code",
   "execution_count": null,
   "id": "b58bc0e0",
   "metadata": {},
   "outputs": [],
   "source": []
  }
 ],
 "metadata": {
  "kernelspec": {
   "display_name": "Python 3 (ipykernel)",
   "language": "python",
   "name": "python3"
  },
  "language_info": {
   "codemirror_mode": {
    "name": "ipython",
    "version": 3
   },
   "file_extension": ".py",
   "mimetype": "text/x-python",
   "name": "python",
   "nbconvert_exporter": "python",
   "pygments_lexer": "ipython3",
   "version": "3.10.9"
  }
 },
 "nbformat": 4,
 "nbformat_minor": 5
}
