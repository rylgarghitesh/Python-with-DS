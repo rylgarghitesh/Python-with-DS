{
 "cells": [
  {
   "cell_type": "code",
   "execution_count": 2,
   "id": "9f97aa98",
   "metadata": {},
   "outputs": [],
   "source": [
    "import apache_beam as beam\n",
    "from apache_beam.options.pipeline_options import PipelineOptions, StandardOptions\n",
    "import os\n",
    "from apache_beam import window\n",
    "from apache_beam.transforms.trigger import AfterWatermark, AfterProcessingTime, AccumulationMode, AfterCount, Repeatedly\n",
    "from datetime import datetime"
   ]
  },
  {
   "cell_type": "markdown",
   "id": "b55897a6",
   "metadata": {},
   "source": [
    "# Weapon Score"
   ]
  },
  {
   "cell_type": "code",
   "execution_count": null,
   "id": "ef1cc443",
   "metadata": {},
   "outputs": [],
   "source": [
    "def custom_timestamp(elements):\n",
    "    unix_timestamp = elements[16].rstrip().lstrip()\n",
    "    return beam.window.TimestampedValue(elements, int(unix_timestamp))"
   ]
  },
  {
   "cell_type": "code",
   "execution_count": 4,
   "id": "178f3af5",
   "metadata": {},
   "outputs": [],
   "source": [
    "def encode_byte_string(element):\n",
    "    element = str(element)\n",
    "    return element.encode('utf-8')"
   ]
  },
  {
   "cell_type": "code",
   "execution_count": 17,
   "id": "d9d05fc5",
   "metadata": {},
   "outputs": [],
   "source": [
    "def battle_condition(battle_time, total_points):\n",
    "    if battle_time >= 10 and battle_time <= 20:\n",
    "        total_points += 4  \n",
    "    elif battle_time >=21 and battle_time <= 30:\n",
    "        total_points += 3\n",
    "    elif battle_time >=31 and battle_time <=40:\n",
    "        total_points += 2\n",
    "    elif battle_time > 40:\n",
    "        total_points += 1\n",
    "    return total_points"
   ]
  },
  {
   "cell_type": "code",
   "execution_count": 23,
   "id": "1b59cbe9",
   "metadata": {},
   "outputs": [],
   "source": [
    "def weapon_ranking_diff(player_weapon_ranking, opp_weapon_ranking, total_points):\n",
    "    diff = player_weapon_ranking - opp_weapon_ranking\n",
    "    if diff >= 6:\n",
    "        total_points += 3 \n",
    "    elif diff >= 3:\n",
    "        total_points += 2 \n",
    "    else: \n",
    "        total_points += 1 \n",
    "    return total_points"
   ]
  },
  {
   "cell_type": "code",
   "execution_count": 24,
   "id": "264ad6c5",
   "metadata": {},
   "outputs": [],
   "source": [
    "def calculate_battle_points(element_list):     \n",
    "    total_points = 0\n",
    "    game_id = element_list[0]\n",
    "    player_id = element_list[1]                                        \n",
    "    weapon = element_list[5]                                           \n",
    "\n",
    "    my_weapon_ranking = element_list[6].rstrip().lstrip()             \n",
    "    my_weapon_ranking = int(my_weapon_ranking)\n",
    "    opp_weapon_ranking = element_list[13].rstrip().lstrip()           \n",
    "    opp_weapon_ranking = int(opp_weapon_ranking)\n",
    "    total_points = weapon_ranking_diff(my_weapon_ranking, opp_weapon_ranking, total_points)           \n",
    "    \n",
    "    battle_time = element_list[15]\n",
    "    battle_time = int(battle_time.rstrip().lstrip())                  \n",
    "    total_points = battle_condition(battle_time, total_points) \n",
    "\n",
    "        \n",
    "    my_map_location = element_list[7].rstrip().lstrip()               \n",
    "    opp_map_location = element_list[14].rstrip().lstrip()  \n",
    "    if my_map_location != opp_map_location:                         \n",
    "        total_points += 3         \n",
    "\n",
    "    return game_id + ':' + player_id + ':' + weapon, total_points   "
   ]
  },
  {
   "cell_type": "code",
   "execution_count": 25,
   "id": "ab654cd2",
   "metadata": {},
   "outputs": [],
   "source": [
    "class PointFn(beam.CombineFn):\n",
    "    def create_accumulator(self):\n",
    "        return (0.0, 0)\n",
    "\n",
    "    def add_input(self, sum_count, input):                         \n",
    "        (sum, count) = sum_count                                        \n",
    "        return sum + input, count + 1                                \n",
    "\n",
    "    def merge_accumulators(self, accumulators):\n",
    "        sums, counts = zip(*accumulators)                            \n",
    "        return sum(sums), sum(counts)                               \n",
    "\n",
    "    def extract_output(self, sum_count):\n",
    "        (sum, count) = sum_count                                   \n",
    "        return sum / count if count else float('NaN')                             \n"
   ]
  },
  {
   "cell_type": "code",
   "execution_count": 26,
   "id": "99efed68",
   "metadata": {},
   "outputs": [],
   "source": [
    "def format_result(key_value_pair):\n",
    "    name, points = key_value_pair\n",
    "    name_list = name.split(':')\n",
    "    game_id = name_list[0]\n",
    "    player_id = name_list[1]\n",
    "    weapon = ' '.join(name_list[2:])\n",
    "    return  game_id + ',' + player_id + ', ' + weapon + ', ' + str(points) + ' average battle points '"
   ]
  },
  {
   "cell_type": "code",
   "execution_count": 27,
   "id": "4d7fc53a",
   "metadata": {},
   "outputs": [
    {
     "name": "stderr",
     "output_type": "stream",
     "text": [
      "WARNING:apache_beam.io.filebasedsink:Deleting 1 existing files in target path matching: -*-of-%(num_shards)05d\n"
     ]
    },
    {
     "data": {
      "text/plain": [
       "'DONE'"
      ]
     },
     "execution_count": 27,
     "metadata": {},
     "output_type": "execute_result"
    }
   ],
   "source": [
    "p = beam.Pipeline()\n",
    "pubsub_data = (\n",
    "        p \n",
    "        | 'Read from pub sub' >> beam.io.ReadFromText(\"mobile_game.txt\") \n",
    "        | 'Parse data' >> beam.Map(lambda element: element.split(','))\n",
    "        | 'Calculate battle points' >> beam.Map(calculate_battle_points)       \n",
    "        | 'Window for player' >> beam.WindowInto(window.Sessions(30))\n",
    "        | 'Group by key' >> beam.CombinePerKey(PointFn())                    \n",
    "        | 'Format results' >> beam.Map(format_result)    \n",
    "        | 'Encode data to byte string' >> beam.Map(encode_byte_string)\n",
    "        | 'Write player score to pub sub' >> beam.io.WriteToText(\"output/pubsub\")\n",
    ")\n",
    "\n",
    "result = p.run()\n",
    "result.wait_until_finish()"
   ]
  },
  {
   "cell_type": "code",
   "execution_count": 28,
   "id": "1f9f309b",
   "metadata": {},
   "outputs": [
    {
     "name": "stdout",
     "output_type": "stream",
     "text": [
      "GM_1,PL_1, BN60, 9.0 average battle points \r\n",
      "GM_1,PL_3, Rifle, 5.5 average battle points \r\n",
      "GM_1,PL_5, Rifle, 6.0 average battle points \r\n",
      "GM_1,PL_10, Bomb, 5.4 average battle points \r\n",
      "GM_1,PL_10, Rifle, 5.384615384615385 average battle points \r\n"
     ]
    }
   ],
   "source": [
    "!{\"head -n 5 output/pubsub-00000-of-00001\"}"
   ]
  },
  {
   "cell_type": "markdown",
   "id": "372969ae",
   "metadata": {},
   "source": [
    "-------------------"
   ]
  },
  {
   "cell_type": "markdown",
   "id": "ea3c03f9",
   "metadata": {},
   "source": [
    "# Player Score"
   ]
  },
  {
   "cell_type": "code",
   "execution_count": 29,
   "id": "64fb5b2f",
   "metadata": {},
   "outputs": [],
   "source": [
    "def custom_timestamp(elements):\n",
    "    unix_timestamp = elements[16].rstrip().lstrip()\n",
    "    return beam.window.TimestampedValue(elements, int(unix_timestamp))"
   ]
  },
  {
   "cell_type": "code",
   "execution_count": 30,
   "id": "fe5acf77",
   "metadata": {},
   "outputs": [],
   "source": [
    "def encode_byte_string(element):\n",
    "    element = str(element)\n",
    "    return element.encode('utf-8')"
   ]
  },
  {
   "cell_type": "code",
   "execution_count": 31,
   "id": "3b1fed1f",
   "metadata": {},
   "outputs": [],
   "source": [
    "def player_pair(element_list):\n",
    "    return element_list[1],1"
   ]
  },
  {
   "cell_type": "code",
   "execution_count": 32,
   "id": "fc1e3045",
   "metadata": {},
   "outputs": [],
   "source": [
    "def score_pair(element_list):\n",
    "    return element_list[3],1"
   ]
  },
  {
   "cell_type": "code",
   "execution_count": 47,
   "id": "b808860d",
   "metadata": {},
   "outputs": [],
   "source": [
    "p = beam.Pipeline()"
   ]
  },
  {
   "cell_type": "code",
   "execution_count": 48,
   "id": "f9e263aa",
   "metadata": {},
   "outputs": [],
   "source": [
    "pubsub_data = (\n",
    "    p \n",
    "    | 'Read from pub sub' >> beam.io.ReadFromText(\"mobile_game.txt\")\n",
    "    | 'Parse data' >> beam.Map(lambda element: element.split(','))\n",
    "    | 'Apply custom timestamp' >> beam.Map(custom_timestamp)\n",
    "  )"
   ]
  },
  {
   "cell_type": "code",
   "execution_count": 49,
   "id": "2826b31a",
   "metadata": {},
   "outputs": [],
   "source": [
    "player_score = (\n",
    "    pubsub_data \n",
    "    | 'Form k,v pair of (player_id, 1)' >> beam.Map( player_pair )\n",
    "    | 'Window for player' >> beam.WindowInto(window.GlobalWindows(), trigger=Repeatedly(AfterCount(10)), accumulation_mode=AccumulationMode.ACCUMULATING) \n",
    "    | 'Group players and their score' >> beam.CombinePerKey(sum)\n",
    "    | 'Encode player info to byte string' >> beam.Map(encode_byte_string)\n",
    "    | 'Write player score to pub sub' >> beam.io.WriteToText(\"output/player\")\n",
    "  )"
   ]
  },
  {
   "cell_type": "code",
   "execution_count": 54,
   "id": "0e5428b5",
   "metadata": {},
   "outputs": [
    {
     "name": "stdout",
     "output_type": "stream",
     "text": [
      "('PL_1', 33)\r\n",
      "('PL_3', 41)\r\n",
      "('PL_5', 14)\r\n",
      "('PL_10', 82)\r\n",
      "('PL_9', 89)\r\n"
     ]
    }
   ],
   "source": [
    "!{\"head -n 5 output/player-00000-of-00001\"}"
   ]
  },
  {
   "cell_type": "code",
   "execution_count": 51,
   "id": "39b5f04d",
   "metadata": {},
   "outputs": [],
   "source": [
    "team_score = (\n",
    "                pubsub_data \n",
    "                | 'Form k,v pair of (team_score, 1)' >> beam.Map( score_pair )\n",
    "                | 'Window for team' >> beam.WindowInto(window.GlobalWindows(), trigger=Repeatedly(AfterCount(10)), accumulation_mode=AccumulationMode.ACCUMULATING) \n",
    "                | 'Group teams and their score' >> beam.CombinePerKey(sum)\n",
    "                | 'Encode teams info to byte string' >> beam.Map(encode_byte_string)\n",
    "                | 'Write team score to pub sub' >> beam.io.WriteToText(\"output/team\")\n",
    "              )"
   ]
  },
  {
   "cell_type": "code",
   "execution_count": 52,
   "id": "5e87b9ee",
   "metadata": {},
   "outputs": [
    {
     "data": {
      "text/plain": [
       "'DONE'"
      ]
     },
     "execution_count": 52,
     "metadata": {},
     "output_type": "execute_result"
    }
   ],
   "source": [
    "result = p.run()\n",
    "result.wait_until_finish()"
   ]
  },
  {
   "cell_type": "code",
   "execution_count": 53,
   "id": "eedb670d",
   "metadata": {},
   "outputs": [
    {
     "name": "stdout",
     "output_type": "stream",
     "text": [
      "('TM_01', 66)\r\n",
      "('TM_03', 72)\r\n",
      "('TM_05', 82)\r\n",
      "('TM_04', 90)\r\n",
      "('TM_02', 81)\r\n"
     ]
    }
   ],
   "source": [
    "!{\"head -n 5 output/team-00000-of-00001\"}"
   ]
  },
  {
   "cell_type": "code",
   "execution_count": null,
   "id": "673d7bad",
   "metadata": {},
   "outputs": [],
   "source": []
  }
 ],
 "metadata": {
  "kernelspec": {
   "display_name": "Python 3 (ipykernel)",
   "language": "python",
   "name": "python3"
  },
  "language_info": {
   "codemirror_mode": {
    "name": "ipython",
    "version": 3
   },
   "file_extension": ".py",
   "mimetype": "text/x-python",
   "name": "python",
   "nbconvert_exporter": "python",
   "pygments_lexer": "ipython3",
   "version": "3.10.9"
  }
 },
 "nbformat": 4,
 "nbformat_minor": 5
}
