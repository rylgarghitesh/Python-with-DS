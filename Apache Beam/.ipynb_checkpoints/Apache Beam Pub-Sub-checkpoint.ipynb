{
 "cells": [
  {
   "cell_type": "code",
   "execution_count": null,
   "id": "a45c7ed4",
   "metadata": {},
   "outputs": [],
   "source": [
    "pip install google-cloud-pubsub"
   ]
  },
  {
   "cell_type": "code",
   "execution_count": null,
   "id": "55518a41",
   "metadata": {},
   "outputs": [],
   "source": [
    "import os\n",
    "import time\n",
    "from google.cloud import pubsub_v1\n",
    "from apache_beam.options.pipeline_options import PipelineOptions, StandardOptions"
   ]
  },
  {
   "cell_type": "code",
   "execution_count": null,
   "id": "2e93314e",
   "metadata": {},
   "outputs": [],
   "source": [
    "import apache_beam as beam\n",
    "from apache_beam.options.pipeline_options import PipelineOptions, StandardOptions\n",
    "import os\n",
    "from apache_beam import window\n",
    "from apache_beam.transforms.trigger import AfterWatermark, AfterProcessingTime, AccumulationMode, AfterCount, Repeatedly\n",
    "from datetime import datetime"
   ]
  },
  {
   "cell_type": "code",
   "execution_count": null,
   "id": "6d113614",
   "metadata": {},
   "outputs": [],
   "source": [
    "def encode_byte_string(element):\n",
    "    element = str(element)\n",
    "    return element.encode('utf-8')\n",
    "\n",
    "def custom_timestamp(elements):\n",
    "    unix_timestamp = elements[7]\n",
    "    return beam.window.TimestampedValue(elements, int(unix_timestamp))\n",
    "\n",
    "def calculateProfit(elements):\n",
    "    buy_rate = elements[5]\n",
    "    sell_price = elements[6]\n",
    "    products_count = int(elements[4])\n",
    "    profit = (int(sell_price) - int(buy_rate)) * products_count\n",
    "    elements.append(str(profit))\n",
    "    return elements"
   ]
  },
  {
   "cell_type": "markdown",
   "id": "a1767020",
   "metadata": {},
   "source": [
    "------"
   ]
  },
  {
   "cell_type": "markdown",
   "id": "8f95edac",
   "metadata": {},
   "source": [
    "# FixedWindow"
   ]
  },
  {
   "cell_type": "code",
   "execution_count": null,
   "id": "212ad320",
   "metadata": {},
   "outputs": [],
   "source": [
    "p = beam.Pipeline()\n",
    "\n",
    "pubsub_data= (\n",
    "    p \n",
    "    | 'Read from pub sub' >> beam.io.ReadFromText('store_sales.csv')\n",
    "\n",
    "    | 'Remove extra chars' >> beam.Map(lambda data: (data.rstrip().lstrip()))          \n",
    "    \n",
    "    | 'Split Row' >> beam.Map(lambda row : row.split(','))                             \n",
    "    \n",
    "    | 'Filter By Country' >> beam.Filter(lambda elements : (elements[1] == \"Mumbai\" or elements[1] == \"Bangalore\"))\n",
    "    \n",
    "    | 'Create Profit Column' >> beam.Map(calculateProfit)                              \n",
    "    \n",
    "    | 'Apply custom timestamp' >> beam.Map(custom_timestamp) \n",
    "    \n",
    "    | 'Form Key Value pair' >> beam.Map(lambda elements : (elements[0], int(elements[8])))  \n",
    "\n",
    "    | 'Window' >> beam.WindowInto(window.FixedWindows(0.000001))\n",
    "    \n",
    "    | 'Sum values' >> beam.CombinePerKey(sum)\n",
    "\n",
    "    | 'Write to pus sub' >> beam.io.WriteToText('output/pubsub')\n",
    ")\n",
    "\n",
    "result = p.run()\n",
    "result.wait_until_finish()"
   ]
  },
  {
   "cell_type": "code",
   "execution_count": null,
   "id": "83efadc9",
   "metadata": {},
   "outputs": [],
   "source": [
    "!{'head -n 5 output/pubsub-00000-of-00001'}"
   ]
  },
  {
   "cell_type": "markdown",
   "id": "423b9e53",
   "metadata": {},
   "source": [
    "------"
   ]
  },
  {
   "cell_type": "markdown",
   "id": "22b09d31",
   "metadata": {},
   "source": [
    "# Sliding Window"
   ]
  },
  {
   "cell_type": "code",
   "execution_count": null,
   "id": "c777760d",
   "metadata": {},
   "outputs": [],
   "source": [
    "p = beam.Pipeline()\n",
    "\n",
    "pubsub_data= (\n",
    "    p \n",
    "    | 'Read from pub sub' >> beam.io.ReadFromText('store_sales.csv')\n",
    "    \n",
    "    | 'Remove extra chars' >> beam.Map(lambda data: (data.rstrip().lstrip()))         \n",
    "    \n",
    "    | 'Split Row' >> beam.Map(lambda row : row.split(','))                            \n",
    "    \n",
    "    | 'Filter By Country' >> beam.Filter(lambda elements : (elements[1] == \"Mumbai\" or elements[1] == \"Bangalore\"))\n",
    "    \n",
    "    | 'Create Profit Column' >> beam.Map(calculateProfit)                              \n",
    "    \n",
    "    | 'Apply custom timestamp' >> beam.Map(custom_timestamp) \n",
    "    \n",
    "    | 'Form Key Value pair' >> beam.Map(lambda elements : ((elements[0],elements[1]), int(elements[8])))  \n",
    "    \n",
    "    | 'Window' >> beam.WindowInto(window.SlidingWindows(0.0001,0.000001))\n",
    "    \n",
    "    | 'Sum values' >> beam.CombinePerKey(sum)\n",
    "\n",
    "    | 'Write to pus sub' >> beam.io.WriteToText('output/pubsub')\n",
    ")\n",
    "\n",
    "result = p.run()\n",
    "result.wait_until_finish()"
   ]
  },
  {
   "cell_type": "code",
   "execution_count": null,
   "id": "9c466f58",
   "metadata": {},
   "outputs": [],
   "source": [
    "!{'head -n 5 output/pubsub-00000-of-00001'}"
   ]
  },
  {
   "cell_type": "markdown",
   "id": "c05bf8d1",
   "metadata": {},
   "source": [
    "------\n",
    "\n",
    "# Session Windows"
   ]
  },
  {
   "cell_type": "code",
   "execution_count": null,
   "id": "0b768194",
   "metadata": {},
   "outputs": [],
   "source": [
    "p = beam.Pipeline()\n",
    "\n",
    "pubsub_data= (\n",
    "    p \n",
    "    | 'Read from pub sub' >> beam.io.ReadFromText('store_sales.csv')\n",
    "\n",
    "    | 'Remove extra chars' >> beam.Map(lambda data: (data.rstrip().lstrip()))          \n",
    "    \n",
    "    | 'Split Row' >> beam.Map(lambda row : row.split(','))                             \n",
    "    \n",
    "    | 'Filter By Country' >> beam.Filter(lambda elements : (elements[1] == \"Mumbai\" or elements[1] == \"Bangalore\"))\n",
    "    \n",
    "    | 'Create Profit Column' >> beam.Map(calculateProfit)                              \n",
    "    \n",
    "    | 'Apply custom timestamp' >> beam.Map(custom_timestamp) \n",
    "    \n",
    "    | 'Form Key Value pair' >> beam.Map(lambda elements : ((elements[0],elements[1]), int(elements[8])))  \n",
    "    \n",
    "    | 'Window' >> beam.WindowInto(window.Sessions(0.001))\n",
    "    \n",
    "    | 'Sum values' >> beam.CombinePerKey(sum)\n",
    "\n",
    "    | 'Write to pus sub' >> beam.io.WriteToText('output/pubsub')\n",
    ")\n",
    "\n",
    "result = p.run()\n",
    "result.wait_until_finish()"
   ]
  },
  {
   "cell_type": "code",
   "execution_count": null,
   "id": "a1393246",
   "metadata": {},
   "outputs": [],
   "source": [
    "!{'head -n 5 output/pubsub-00000-of-00001'}"
   ]
  },
  {
   "cell_type": "markdown",
   "id": "acacb4e1",
   "metadata": {},
   "source": [
    "------\n",
    "\n",
    "# Global Windows"
   ]
  },
  {
   "cell_type": "code",
   "execution_count": null,
   "id": "ebf7337a",
   "metadata": {},
   "outputs": [],
   "source": [
    "def player_pair(element_list):\n",
    "    return element_list[1],1\n",
    "  \n",
    "def score_pair(element_list):\n",
    "    return ((element_list[3],element_list[4]),1)\n",
    "\n",
    "def custom_timestamp(elements):\n",
    "    unix_timestamp = elements[16].rstrip().lstrip()\n",
    "    return beam.window.TimestampedValue(elements, int(unix_timestamp))"
   ]
  },
  {
   "cell_type": "code",
   "execution_count": null,
   "id": "bd7f8b3a",
   "metadata": {},
   "outputs": [],
   "source": [
    "p = beam.Pipeline()\n",
    "\n",
    "pubsub_data = (\n",
    "                 p \n",
    "                | 'Read from pub sub' >> beam.io.ReadFromText('mobile_game.txt')\n",
    "                | 'Parse data' >> beam.Map(lambda element: element.split(','))\n",
    "                | 'Apply custom timestamp' >> beam.Map(custom_timestamp)\n",
    "              )\n",
    "\n",
    "player_score = (\n",
    "                pubsub_data \n",
    "                | 'Form k,v pair of (player_id, 1)' >> beam.Map( player_pair )\n",
    "                | 'Window for player' >> beam.WindowInto(window.GlobalWindows(), trigger=Repeatedly(AfterCount(1)), accumulation_mode=AccumulationMode.ACCUMULATING) \n",
    "                | 'Group players and their score' >> beam.CombinePerKey(sum)\n",
    "              )\n",
    "\n",
    "team_score = (\n",
    "                pubsub_data \n",
    "                | 'Form k,v pair of (team_score, 1)' >> beam.Map( score_pair )\n",
    "                | 'Window for team' >> beam.WindowInto(window.GlobalWindows(), trigger=Repeatedly(AfterCount(1)), accumulation_mode=AccumulationMode.ACCUMULATING) \n",
    "                | 'Group teams and their score' >> beam.CombinePerKey(sum)\n",
    "                | 'Write to pus sub' >> beam.io.WriteToText('output/pubsub')\n",
    "              )\n",
    "\n",
    "result = p.run()\n",
    "result.wait_until_finish()"
   ]
  },
  {
   "cell_type": "code",
   "execution_count": null,
   "id": "6909fe2c",
   "metadata": {},
   "outputs": [],
   "source": [
    "!{'head -n 5 output/pubsub-00000-of-00001'}"
   ]
  },
  {
   "cell_type": "markdown",
   "id": "c96a33c9",
   "metadata": {},
   "source": [
    "------\n",
    "\n",
    "# Assignment"
   ]
  },
  {
   "cell_type": "code",
   "execution_count": null,
   "id": "2609fec0",
   "metadata": {},
   "outputs": [],
   "source": [
    "class PointFn(beam.CombineFn):\n",
    "    def create_accumulator(self):\n",
    "        return (0.0, 0)\n",
    "\n",
    "    def add_input(self, sum_count, input):                        \n",
    "        (sum, count) = sum_count                                       \n",
    "        return sum + input, count + 1                                \n",
    "\n",
    "    def merge_accumulators(self, accumulators):\n",
    "        sums, counts = zip(*accumulators)                            \n",
    "        return sum(sums), sum(counts)                                \n",
    "\n",
    "    def extract_output(self, sum_count):\n",
    "        (sum, count) = sum_count                                   \n",
    "        return sum / count if count else float('NaN')  "
   ]
  },
  {
   "cell_type": "code",
   "execution_count": null,
   "id": "1e75a0b5",
   "metadata": {},
   "outputs": [],
   "source": [
    "def calculate_battle_points(element_list):     \n",
    "    total_points = 0\n",
    "    game_id = element_list[0]\n",
    "    player_id = element_list[1]                                        \n",
    "    weapon = element_list[5]                                           \n",
    "\n",
    "    my_weapon_ranking = element_list[6].rstrip().lstrip() \n",
    "    my_weapon_ranking = int(my_weapon_ranking) \n",
    "        \n",
    "    opp_weapon_ranking = element_list[13].rstrip().lstrip()       \n",
    "    opp_weapon_ranking = int(opp_weapon_ranking)\n",
    "    \n",
    "    my_map_location = element_list[7].rstrip().lstrip()               \n",
    "    opp_map_location = element_list[14].rstrip().lstrip()             \n",
    "\n",
    "    battle_time = element_list[15]\n",
    "    battle_time = int(battle_time.rstrip().lstrip())                  \n",
    "\n",
    "    if battle_time >= 10 and battle_time <= 20:\n",
    "        total_points += 4  \n",
    "    elif battle_time >=21 and battle_time <= 30:\n",
    "        total_points += 3\n",
    "    elif battle_time >=31 and battle_time <=40:\n",
    "        total_points += 2\n",
    "    elif battle_time > 40:\n",
    "        total_points += 1\n",
    "\n",
    "    diff = my_weapon_ranking - opp_weapon_ranking\n",
    "\n",
    "    if diff >= 6:\n",
    "        total_points += 3 \n",
    "\n",
    "    elif diff >= 3:\n",
    "        total_points += 2  \n",
    "    else: \n",
    "        total_points += 1     \n",
    "\n",
    "    if my_map_location != opp_map_location:                         \n",
    "        total_points += 3         \n",
    "\n",
    "    return game_id + ':' + player_id + ':' + weapon, total_points                    "
   ]
  },
  {
   "cell_type": "code",
   "execution_count": null,
   "id": "f626829e",
   "metadata": {},
   "outputs": [],
   "source": [
    "def format_result(key_value_pair):\n",
    "        name, points = key_value_pair\n",
    "        name_list = name.split(':')\n",
    "        game_id = name_list[0]\n",
    "        player_id = name_list[1]\n",
    "        weapon = ' '.join(name_list[2:])\n",
    "        return  game_id + ',' + player_id + ', ' + weapon + ', ' + str(int(points*100)/100) + ' average battle points '"
   ]
  },
  {
   "cell_type": "code",
   "execution_count": null,
   "id": "de4c47f5",
   "metadata": {},
   "outputs": [],
   "source": [
    "p = beam.Pipeline()\n",
    "\n",
    "pubsub_data = (\n",
    "                p \n",
    "                | 'Read from pub sub' >> beam.io.ReadFromText('mobile_game.txt')\n",
    "                \n",
    "                | 'Parse data' >> beam.Map(lambda element: element.split(','))\n",
    "               \n",
    "                | 'Calculate battle points' >> beam.Map(calculate_battle_points)        \n",
    "             \n",
    "                | 'Window for player' >> beam.WindowInto(window.Sessions(30))\n",
    "                \n",
    "                | 'Group by key' >> beam.CombinePerKey(PointFn())                    \n",
    "                \n",
    "                | 'Format results' >> beam.Map(format_result)    \n",
    "                \n",
    "                | 'Write to pus sub' >> beam.io.WriteToText('output/pubsub')\n",
    ")\n",
    "\n",
    "\n",
    "result = p.run()\n",
    "result.wait_until_finish()"
   ]
  },
  {
   "cell_type": "code",
   "execution_count": null,
   "id": "391d23e2",
   "metadata": {},
   "outputs": [],
   "source": [
    "!{'head -n 5 output/pubsub-00000-of-00001'}"
   ]
  },
  {
   "cell_type": "code",
   "execution_count": null,
   "id": "5075d58f",
   "metadata": {},
   "outputs": [],
   "source": []
  },
  {
   "cell_type": "code",
   "execution_count": null,
   "id": "50c46581",
   "metadata": {},
   "outputs": [],
   "source": []
  },
  {
   "cell_type": "code",
   "execution_count": null,
   "id": "c9fe94ac",
   "metadata": {},
   "outputs": [],
   "source": []
  }
 ],
 "metadata": {
  "kernelspec": {
   "display_name": "Python 3 (ipykernel)",
   "language": "python",
   "name": "python3"
  },
  "language_info": {
   "codemirror_mode": {
    "name": "ipython",
    "version": 3
   },
   "file_extension": ".py",
   "mimetype": "text/x-python",
   "name": "python",
   "nbconvert_exporter": "python",
   "pygments_lexer": "ipython3",
   "version": "3.10.9"
  }
 },
 "nbformat": 4,
 "nbformat_minor": 5
}
